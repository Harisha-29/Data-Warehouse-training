{
  "nbformat": 4,
  "nbformat_minor": 0,
  "metadata": {
    "colab": {
      "provenance": []
    },
    "kernelspec": {
      "name": "python3",
      "display_name": "Python 3"
    },
    "language_info": {
      "name": "python"
    }
  },
  "cells": [
    {
      "cell_type": "code",
      "execution_count": 1,
      "metadata": {
        "colab": {
          "base_uri": "https://localhost:8080/"
        },
        "id": "P6yjyfgE7ska",
        "outputId": "0f73c42e-2b12-4664-c836-1d5b9df61d6d"
      },
      "outputs": [
        {
          "output_type": "stream",
          "name": "stdout",
          "text": [
            "Requirement already satisfied: pyspark in /usr/local/lib/python3.11/dist-packages (3.5.1)\n",
            "Requirement already satisfied: py4j==0.10.9.7 in /usr/local/lib/python3.11/dist-packages (from pyspark) (0.10.9.7)\n"
          ]
        }
      ],
      "source": [
        "# Install PySpark\n",
        "!pip install pyspark\n",
        "\n",
        "# Import libraries\n",
        "from pyspark.sql import SparkSession\n",
        "from pyspark.sql.functions import *\n",
        "from pyspark.sql.types import *\n",
        "\n",
        "# Create Spark session\n",
        "spark = SparkSession.builder.appName(\"PySparkMasterTaskSet\").getOrCreate()\n"
      ]
    },
    {
      "cell_type": "code",
      "source": [
        "# Set your paths\n",
        "customer_path = \"/content/drive/MyDrive/customers.csv\"\n",
        "order_path = \"/content/drive/MyDrive/orders.csv\"\n",
        "\n",
        "# Load CSVs with schema inference\n",
        "customers_df = spark.read.csv(customer_path, header=True, inferSchema=True)\n",
        "orders_df = spark.read.csv(order_path, header=True, inferSchema=True)\n"
      ],
      "metadata": {
        "id": "jVH5dHll8PZ6"
      },
      "execution_count": 2,
      "outputs": []
    },
    {
      "cell_type": "code",
      "source": [
        "# Schema & Counts\n",
        "customers_df.printSchema()\n",
        "orders_df.printSchema()\n",
        "\n",
        "print(\"Total Customers:\", customers_df.count())\n",
        "print(\"Total Orders:\", orders_df.count())\n",
        "\n",
        "customers_df.select(\"City\").distinct().show()\n"
      ],
      "metadata": {
        "colab": {
          "base_uri": "https://localhost:8080/"
        },
        "id": "4zAfAFvu8loi",
        "outputId": "65f8b3da-b625-4b07-d24e-1e88a962f275"
      },
      "execution_count": 3,
      "outputs": [
        {
          "output_type": "stream",
          "name": "stdout",
          "text": [
            "root\n",
            " |-- CustomerID: integer (nullable = true)\n",
            " |-- Name: string (nullable = true)\n",
            " |-- Email: string (nullable = true)\n",
            " |-- City: string (nullable = true)\n",
            " |-- SignupDate: date (nullable = true)\n",
            "\n",
            "root\n",
            " |-- OrderID: integer (nullable = true)\n",
            " |-- CustomerID: integer (nullable = true)\n",
            " |-- Product: string (nullable = true)\n",
            " |-- Category: string (nullable = true)\n",
            " |-- Quantity: integer (nullable = true)\n",
            " |-- Price: double (nullable = true)\n",
            " |-- OrderDate: date (nullable = true)\n",
            "\n",
            "Total Customers: 5\n",
            "Total Orders: 7\n",
            "+---------+\n",
            "|     City|\n",
            "+---------+\n",
            "|Bangalore|\n",
            "|  Chennai|\n",
            "|   Mumbai|\n",
            "|    Delhi|\n",
            "|Hyderabad|\n",
            "+---------+\n",
            "\n"
          ]
        }
      ]
    },
    {
      "cell_type": "code",
      "source": [
        "orders_df = orders_df.withColumn(\"TotalAmount\", col(\"Price\") * col(\"Quantity\")) \\\n",
        "                     .withColumn(\"OrderYear\", year(\"OrderDate\"))\n",
        "\n",
        "orders_df.filter(col(\"TotalAmount\") > 10000).show()\n",
        "\n",
        "customers_df = customers_df.drop(\"Email\")\n"
      ],
      "metadata": {
        "colab": {
          "base_uri": "https://localhost:8080/"
        },
        "id": "gC_LXwbl8o-l",
        "outputId": "d105b97a-bc4f-4bda-e92e-fca63d030cda"
      },
      "execution_count": 4,
      "outputs": [
        {
          "output_type": "stream",
          "name": "stdout",
          "text": [
            "+-------+----------+-------+-----------+--------+-------+----------+-----------+---------+\n",
            "|OrderID|CustomerID|Product|   Category|Quantity|  Price| OrderDate|TotalAmount|OrderYear|\n",
            "+-------+----------+-------+-----------+--------+-------+----------+-----------+---------+\n",
            "|      1|       101| Laptop|Electronics|       2|50000.0|2024-01-10|   100000.0|     2024|\n",
            "|      3|       102| Tablet|Electronics|       1|20000.0|2024-02-01|    20000.0|     2024|\n",
            "|      7|       102|  Phone|Electronics|       1|30000.0|2024-03-02|    30000.0|     2024|\n",
            "+-------+----------+-------+-----------+--------+-------+----------+-----------+---------+\n",
            "\n"
          ]
        }
      ]
    },
    {
      "cell_type": "code",
      "source": [
        "from pyspark.sql.functions import when, col\n",
        "\n",
        "# Simulate null and fill with 'Unknown'\n",
        "customers_df = customers_df.withColumn(\"City\", when(col(\"CustomerID\") == 102, None).otherwise(col(\"City\")))\n",
        "customers_df = customers_df.fillna({\"City\": \"Unknown\"})\n",
        "\n",
        "# Label as Loyal or New\n",
        "customers_df = customers_df.withColumn(\"CustomerType\", when(col(\"SignupDate\") < \"2022-01-01\", \"Loyal\").otherwise(\"New\"))\n",
        "\n",
        "# Show result\n",
        "customers_df.select(\"CustomerID\", \"Name\", \"City\", \"SignupDate\", \"CustomerType\").show()\n",
        "# OrderType column in orders\n",
        "orders_df = orders_df.withColumn(\"OrderType\", when(col(\"TotalAmount\") < 5000, \"Low\").otherwise(\"High\"))\n",
        "\n",
        "# Show result\n",
        "orders_df.select(\"OrderID\", \"Product\", \"TotalAmount\", \"OrderType\").show()\n"
      ],
      "metadata": {
        "colab": {
          "base_uri": "https://localhost:8080/"
        },
        "id": "_MH29pL48uSd",
        "outputId": "fbe07bf7-db02-46b1-be56-f2663aa72059"
      },
      "execution_count": 7,
      "outputs": [
        {
          "output_type": "stream",
          "name": "stdout",
          "text": [
            "+----------+-----+---------+----------+------------+\n",
            "|CustomerID| Name|     City|SignupDate|CustomerType|\n",
            "+----------+-----+---------+----------+------------+\n",
            "|       101|  Ali|   Mumbai|2022-05-10|         New|\n",
            "|       102| Neha|  Unknown|2023-01-15|         New|\n",
            "|       103| Ravi|Bangalore|2021-11-01|       Loyal|\n",
            "|       104|Sneha|Hyderabad|2020-07-22|       Loyal|\n",
            "|       105| Amit|  Chennai|2023-03-10|         New|\n",
            "+----------+-----+---------+----------+------------+\n",
            "\n",
            "+-------+---------+-----------+---------+\n",
            "|OrderID|  Product|TotalAmount|OrderType|\n",
            "+-------+---------+-----------+---------+\n",
            "|      1|   Laptop|   100000.0|     High|\n",
            "|      2|    Mouse|     1200.0|      Low|\n",
            "|      3|   Tablet|    20000.0|     High|\n",
            "|      4|Bookshelf|     3500.0|      Low|\n",
            "|      5|    Mixer|     5000.0|     High|\n",
            "|      6| Notebook|     2500.0|      Low|\n",
            "|      7|    Phone|    30000.0|     High|\n",
            "+-------+---------+-----------+---------+\n",
            "\n"
          ]
        }
      ]
    },
    {
      "cell_type": "code",
      "source": [
        "joined_df = orders_df.join(customers_df, on=\"CustomerID\", how=\"inner\")\n",
        "\n",
        "# Orders & revenue per city\n",
        "joined_df.groupBy(\"City\").agg(count(\"*\").alias(\"TotalOrders\"), sum(\"TotalAmount\").alias(\"Revenue\")).show()\n",
        "\n",
        "# Top 3 spenders\n",
        "joined_df.groupBy(\"Name\").agg(sum(\"TotalAmount\").alias(\"TotalSpend\")).orderBy(desc(\"TotalSpend\")).show(3)\n",
        "\n",
        "# Products per category\n",
        "orders_df.groupBy(\"Category\").agg(sum(\"Quantity\").alias(\"TotalProductsSold\")).show()\n"
      ],
      "metadata": {
        "colab": {
          "base_uri": "https://localhost:8080/"
        },
        "id": "ouX5e3FS9KOH",
        "outputId": "08144e3c-e18b-4dd8-b992-d8d4b1a36459"
      },
      "execution_count": 8,
      "outputs": [
        {
          "output_type": "stream",
          "name": "stdout",
          "text": [
            "+---------+-----------+--------+\n",
            "|     City|TotalOrders| Revenue|\n",
            "+---------+-----------+--------+\n",
            "|Bangalore|          1|  3500.0|\n",
            "|  Chennai|          1|  2500.0|\n",
            "|   Mumbai|          2|101200.0|\n",
            "|  Unknown|          2| 50000.0|\n",
            "|Hyderabad|          1|  5000.0|\n",
            "+---------+-----------+--------+\n",
            "\n",
            "+-----+----------+\n",
            "| Name|TotalSpend|\n",
            "+-----+----------+\n",
            "|  Ali|  101200.0|\n",
            "| Neha|   50000.0|\n",
            "|Sneha|    5000.0|\n",
            "+-----+----------+\n",
            "only showing top 3 rows\n",
            "\n",
            "+-----------+-----------------+\n",
            "|   Category|TotalProductsSold|\n",
            "+-----------+-----------------+\n",
            "| Stationery|                5|\n",
            "|Electronics|                5|\n",
            "|  Furniture|                1|\n",
            "| Appliances|                1|\n",
            "+-----------+-----------------+\n",
            "\n"
          ]
        }
      ]
    },
    {
      "cell_type": "code",
      "source": [
        "spark.sql(\"CREATE DATABASE IF NOT EXISTS sales\")\n",
        "spark.sql(\"USE sales\")\n",
        "\n",
        "customers_df.write.mode(\"overwrite\").saveAsTable(\"sales.customers\")\n",
        "orders_df.write.mode(\"overwrite\").saveAsTable(\"sales.orders\")\n",
        "\n",
        "# Orders by customers from Delhi\n",
        "spark.sql(\"\"\"\n",
        "SELECT o.* FROM sales.orders o\n",
        "JOIN sales.customers c ON o.CustomerID = c.CustomerID\n",
        "WHERE c.City = 'Delhi'\n",
        "\"\"\").show()\n",
        "\n",
        "# Average value per category\n",
        "spark.sql(\"\"\"\n",
        "SELECT Category, AVG(TotalAmount) as AvgValue FROM sales.orders GROUP BY Category\n",
        "\"\"\").show()\n",
        "\n",
        "# Monthly order view\n",
        "spark.sql(\"\"\"\n",
        "CREATE OR REPLACE VIEW monthly_orders AS\n",
        "SELECT MONTH(OrderDate) as Month, SUM(TotalAmount) as MonthlyTotal\n",
        "FROM sales.orders GROUP BY MONTH(OrderDate)\n",
        "\"\"\")\n",
        "\n",
        "spark.sql(\"SELECT * FROM monthly_orders\").show()\n"
      ],
      "metadata": {
        "colab": {
          "base_uri": "https://localhost:8080/"
        },
        "id": "p_pbFdkD9Q-G",
        "outputId": "4c57ea61-07ae-42ac-92a5-ac5c0f8d8510"
      },
      "execution_count": 9,
      "outputs": [
        {
          "output_type": "stream",
          "name": "stdout",
          "text": [
            "+-------+----------+-------+--------+--------+-----+---------+-----------+---------+---------+\n",
            "|OrderID|CustomerID|Product|Category|Quantity|Price|OrderDate|TotalAmount|OrderYear|OrderType|\n",
            "+-------+----------+-------+--------+--------+-----+---------+-----------+---------+---------+\n",
            "+-------+----------+-------+--------+--------+-----+---------+-----------+---------+---------+\n",
            "\n",
            "+-----------+--------+\n",
            "|   Category|AvgValue|\n",
            "+-----------+--------+\n",
            "| Stationery|  2500.0|\n",
            "|Electronics| 37800.0|\n",
            "|  Furniture|  3500.0|\n",
            "| Appliances|  5000.0|\n",
            "+-----------+--------+\n",
            "\n",
            "+-----+------------+\n",
            "|Month|MonthlyTotal|\n",
            "+-----+------------+\n",
            "|    1|    101200.0|\n",
            "|    3|     32500.0|\n",
            "|    2|     28500.0|\n",
            "+-----+------------+\n",
            "\n"
          ]
        }
      ]
    },
    {
      "cell_type": "code",
      "source": [
        "# Mask email\n",
        "masked_df = spark.read.csv(customer_path, header=True, inferSchema=True)\n",
        "masked_df = masked_df.withColumn(\"MaskedEmail\", regexp_replace(\"Email\", r\"(^\\w)[^@]*\", r\"$1***\"))\n",
        "masked_df.select(\"Email\", \"MaskedEmail\").show()\n",
        "\n",
        "# Concatenate name and city\n",
        "customers_df = customers_df.withColumn(\"NameCity\", concat_ws(\" from \", \"Name\", \"City\"))\n",
        "customers_df.select(\"NameCity\").show()\n",
        "\n",
        "# Age in days\n",
        "customers_df = customers_df.withColumn(\"CustomerAge\", datediff(current_date(), \"SignupDate\"))\n",
        "customers_df.select(\"Name\", \"CustomerAge\").show()\n",
        "\n",
        "# Month name\n",
        "orders_df = orders_df.withColumn(\"MonthName\", date_format(\"OrderDate\", \"MMMM\"))\n",
        "orders_df.select(\"OrderDate\", \"MonthName\").show()\n"
      ],
      "metadata": {
        "colab": {
          "base_uri": "https://localhost:8080/"
        },
        "id": "3Agj47Bs9WrD",
        "outputId": "19177e78-e6b2-4404-fcb6-cee9a889d81d"
      },
      "execution_count": 10,
      "outputs": [
        {
          "output_type": "stream",
          "name": "stdout",
          "text": [
            "+-----------------+----------------+\n",
            "|            Email|     MaskedEmail|\n",
            "+-----------------+----------------+\n",
            "|    ali@gmail.com|  a***@gmail.com|\n",
            "|   neha@yahoo.com|  n***@yahoo.com|\n",
            "| ravi@hotmail.com|r***@hotmail.com|\n",
            "|sneha@outlook.com|s***@outlook.com|\n",
            "|   amit@gmail.com|  a***@gmail.com|\n",
            "+-----------------+----------------+\n",
            "\n",
            "+--------------------+\n",
            "|            NameCity|\n",
            "+--------------------+\n",
            "|     Ali from Mumbai|\n",
            "|   Neha from Unknown|\n",
            "| Ravi from Bangalore|\n",
            "|Sneha from Hyderabad|\n",
            "|   Amit from Chennai|\n",
            "+--------------------+\n",
            "\n",
            "+-----+-----------+\n",
            "| Name|CustomerAge|\n",
            "+-----+-----------+\n",
            "|  Ali|       1126|\n",
            "| Neha|        876|\n",
            "| Ravi|       1316|\n",
            "|Sneha|       1783|\n",
            "| Amit|        822|\n",
            "+-----+-----------+\n",
            "\n",
            "+----------+---------+\n",
            "| OrderDate|MonthName|\n",
            "+----------+---------+\n",
            "|2024-01-10|  January|\n",
            "|2024-01-15|  January|\n",
            "|2024-02-01| February|\n",
            "|2024-02-10| February|\n",
            "|2024-02-15| February|\n",
            "|2024-03-01|    March|\n",
            "|2024-03-02|    March|\n",
            "+----------+---------+\n",
            "\n"
          ]
        }
      ]
    },
    {
      "cell_type": "code",
      "source": [
        "# UDF for spend category\n",
        "def tag_customer(spend):\n",
        "    if spend > 50000:\n",
        "        return \"Gold\"\n",
        "    elif spend >= 10000:\n",
        "        return \"Silver\"\n",
        "    else:\n",
        "        return \"Bronze\"\n",
        "\n",
        "spend_udf = udf(tag_customer, StringType())\n",
        "\n",
        "customer_spend = joined_df.groupBy(\"CustomerID\", \"Name\").agg(sum(\"TotalAmount\").alias(\"TotalSpend\"))\n",
        "customer_spend = customer_spend.withColumn(\"Tier\", spend_udf(\"TotalSpend\"))\n",
        "customer_spend.show()\n",
        "\n",
        "# UDF to shorten product names\n",
        "shorten_udf = udf(lambda p: p[:3] + \"...\" if p else \"\", StringType())\n",
        "orders_df = orders_df.withColumn(\"ShortProduct\", shorten_udf(\"Product\"))\n",
        "orders_df.select(\"Product\", \"ShortProduct\").show()\n"
      ],
      "metadata": {
        "colab": {
          "base_uri": "https://localhost:8080/"
        },
        "id": "1HaVn3fg9boq",
        "outputId": "b15f55f5-8485-43e6-a9d4-a08828b83f64"
      },
      "execution_count": 11,
      "outputs": [
        {
          "output_type": "stream",
          "name": "stdout",
          "text": [
            "+----------+-----+----------+------+\n",
            "|CustomerID| Name|TotalSpend|  Tier|\n",
            "+----------+-----+----------+------+\n",
            "|       105| Amit|    2500.0|Bronze|\n",
            "|       104|Sneha|    5000.0|Bronze|\n",
            "|       101|  Ali|  101200.0|  Gold|\n",
            "|       102| Neha|   50000.0|Silver|\n",
            "|       103| Ravi|    3500.0|Bronze|\n",
            "+----------+-----+----------+------+\n",
            "\n",
            "+---------+------------+\n",
            "|  Product|ShortProduct|\n",
            "+---------+------------+\n",
            "|   Laptop|      Lap...|\n",
            "|    Mouse|      Mou...|\n",
            "|   Tablet|      Tab...|\n",
            "|Bookshelf|      Boo...|\n",
            "|    Mixer|      Mix...|\n",
            "| Notebook|      Not...|\n",
            "|    Phone|      Pho...|\n",
            "+---------+------------+\n",
            "\n"
          ]
        }
      ]
    },
    {
      "cell_type": "code",
      "source": [
        "# Save Parquet\n",
        "joined_df.write.mode(\"overwrite\").parquet(\"/content/drive/MyDrive/pyspark_data/joined_data.parquet\")\n",
        "\n",
        "# Read & verify\n",
        "parquet_df = spark.read.parquet(\"/content/drive/MyDrive/pyspark_data/joined_data.parquet\")\n",
        "parquet_df.printSchema()\n",
        "\n",
        "# Temp view\n",
        "parquet_df.createOrReplaceGlobalTempView(\"joined_view\")\n",
        "spark.sql(\"SELECT * FROM global_temp.joined_view LIMIT 5\").show()\n",
        "\n",
        "# Compare performance\n",
        "import time\n",
        "\n",
        "start = time.time()\n",
        "csv_df = spark.read.csv(order_path, header=True, inferSchema=True)\n",
        "csv_df.count()\n",
        "print(\"CSV read time:\", time.time() - start)\n",
        "\n",
        "start = time.time()\n",
        "parquet_df.count()\n",
        "print(\"Parquet read time:\", time.time() - start)\n"
      ],
      "metadata": {
        "colab": {
          "base_uri": "https://localhost:8080/"
        },
        "id": "OCCGIG-S9gTN",
        "outputId": "f0e4bc24-67d2-4d36-87d6-f9ecf7c067d1"
      },
      "execution_count": 12,
      "outputs": [
        {
          "output_type": "stream",
          "name": "stdout",
          "text": [
            "root\n",
            " |-- CustomerID: integer (nullable = true)\n",
            " |-- OrderID: integer (nullable = true)\n",
            " |-- Product: string (nullable = true)\n",
            " |-- Category: string (nullable = true)\n",
            " |-- Quantity: integer (nullable = true)\n",
            " |-- Price: double (nullable = true)\n",
            " |-- OrderDate: date (nullable = true)\n",
            " |-- TotalAmount: double (nullable = true)\n",
            " |-- OrderYear: integer (nullable = true)\n",
            " |-- OrderType: string (nullable = true)\n",
            " |-- Name: string (nullable = true)\n",
            " |-- City: string (nullable = true)\n",
            " |-- SignupDate: date (nullable = true)\n",
            " |-- CustomerType: string (nullable = true)\n",
            "\n",
            "+----------+-------+---------+-----------+--------+-------+----------+-----------+---------+---------+-----+---------+----------+------------+\n",
            "|CustomerID|OrderID|  Product|   Category|Quantity|  Price| OrderDate|TotalAmount|OrderYear|OrderType| Name|     City|SignupDate|CustomerType|\n",
            "+----------+-------+---------+-----------+--------+-------+----------+-----------+---------+---------+-----+---------+----------+------------+\n",
            "|       101|      1|   Laptop|Electronics|       2|50000.0|2024-01-10|   100000.0|     2024|     High|  Ali|   Mumbai|2022-05-10|         New|\n",
            "|       101|      2|    Mouse|Electronics|       1| 1200.0|2024-01-15|     1200.0|     2024|      Low|  Ali|   Mumbai|2022-05-10|         New|\n",
            "|       102|      3|   Tablet|Electronics|       1|20000.0|2024-02-01|    20000.0|     2024|     High| Neha|  Unknown|2023-01-15|         New|\n",
            "|       103|      4|Bookshelf|  Furniture|       1| 3500.0|2024-02-10|     3500.0|     2024|      Low| Ravi|Bangalore|2021-11-01|       Loyal|\n",
            "|       104|      5|    Mixer| Appliances|       1| 5000.0|2024-02-15|     5000.0|     2024|     High|Sneha|Hyderabad|2020-07-22|       Loyal|\n",
            "+----------+-------+---------+-----------+--------+-------+----------+-----------+---------+---------+-----+---------+----------+------------+\n",
            "\n",
            "CSV read time: 1.2873289585113525\n",
            "Parquet read time: 0.7944951057434082\n"
          ]
        }
      ]
    }
  ]
}