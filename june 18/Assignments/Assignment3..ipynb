{
  "nbformat": 4,
  "nbformat_minor": 0,
  "metadata": {
    "colab": {
      "provenance": []
    },
    "kernelspec": {
      "name": "python3",
      "display_name": "Python 3"
    },
    "language_info": {
      "name": "python"
    }
  },
  "cells": [
    {
      "cell_type": "code",
      "source": [
        "from pyspark.sql import SparkSession\n",
        "from pyspark.sql.types import StructType, StructField, StringType, IntegerType, DateType\n",
        "from pyspark.sql.functions import *\n",
        "from pyspark.sql.window import Window\n",
        "\n",
        "# Initialize Spark session\n",
        "spark = SparkSession.builder.appName(\"EmployeeTimesheetAnalysis\").getOrCreate()\n",
        "\n",
        "# Mount Google Drive\n",
        "from google.colab import drive\n",
        "drive.mount('/content/drive')\n",
        "\n",
        "# Define file path\n",
        "file_path = \"/content/drive/MyDrive/employee_timesheet.csv\"\n"
      ],
      "metadata": {
        "colab": {
          "base_uri": "https://localhost:8080/"
        },
        "id": "U4_cYMPB-x2z",
        "outputId": "68956949-84b1-45bd-fd0c-e9ae79af3492"
      },
      "execution_count": 4,
      "outputs": [
        {
          "output_type": "stream",
          "name": "stdout",
          "text": [
            "Drive already mounted at /content/drive; to attempt to forcibly remount, call drive.mount(\"/content/drive\", force_remount=True).\n"
          ]
        }
      ]
    },
    {
      "cell_type": "code",
      "source": [
        "df_inferred = spark.read.csv(file_path, header=True, inferSchema=True)\n",
        "df_inferred.show()\n"
      ],
      "metadata": {
        "colab": {
          "base_uri": "https://localhost:8080/"
        },
        "id": "1o9XWidY_RT-",
        "outputId": "a20f5341-bec7-4a0f-8f8d-b2e3c74515d6"
      },
      "execution_count": 5,
      "outputs": [
        {
          "output_type": "stream",
          "name": "stdout",
          "text": [
            "+----------+-----+----------+-------+---------+----------+---------+------+\n",
            "|EmployeeID| Name|Department|Project|WorkHours|  WorkDate| Location|  Mode|\n",
            "+----------+-----+----------+-------+---------+----------+---------+------+\n",
            "|      E101|Anita|        IT|  Alpha|        8|2024-05-01|Bangalore|Remote|\n",
            "|      E102|  Raj|        HR|   Beta|        7|2024-05-01|   Mumbai|Onsite|\n",
            "|      E103| John|   Finance|  Alpha|        5|2024-05-02|    Delhi|Remote|\n",
            "|      E101|Anita|        IT|  Alpha|        9|2024-05-03|Bangalore|Remote|\n",
            "|      E104|Meena|        IT|  Gamma|        6|2024-05-03|Hyderabad|Onsite|\n",
            "|      E102|  Raj|        HR|   Beta|        8|2024-05-04|   Mumbai|Remote|\n",
            "+----------+-----+----------+-------+---------+----------+---------+------+\n",
            "\n"
          ]
        }
      ]
    },
    {
      "cell_type": "code",
      "source": [
        "schema = StructType([\n",
        "    StructField(\"EmployeeID\", StringType(), True),\n",
        "    StructField(\"Name\", StringType(), True),\n",
        "    StructField(\"Department\", StringType(), True),\n",
        "    StructField(\"Project\", StringType(), True),\n",
        "    StructField(\"WorkHours\", IntegerType(), True),\n",
        "    StructField(\"WorkDate\", DateType(), True),\n",
        "    StructField(\"Location\", StringType(), True),\n",
        "    StructField(\"Mode\", StringType(), True),\n",
        "])\n",
        "\n",
        "df_explicit = spark.read.csv(file_path, header=True, schema=schema)\n",
        "df_explicit.show()\n"
      ],
      "metadata": {
        "colab": {
          "base_uri": "https://localhost:8080/"
        },
        "id": "PYzhU2MV_aeR",
        "outputId": "736fe776-64ff-445c-b32d-184c44071897"
      },
      "execution_count": 6,
      "outputs": [
        {
          "output_type": "stream",
          "name": "stdout",
          "text": [
            "+----------+-----+----------+-------+---------+----------+---------+------+\n",
            "|EmployeeID| Name|Department|Project|WorkHours|  WorkDate| Location|  Mode|\n",
            "+----------+-----+----------+-------+---------+----------+---------+------+\n",
            "|      E101|Anita|        IT|  Alpha|        8|2024-05-01|Bangalore|Remote|\n",
            "|      E102|  Raj|        HR|   Beta|        7|2024-05-01|   Mumbai|Onsite|\n",
            "|      E103| John|   Finance|  Alpha|        5|2024-05-02|    Delhi|Remote|\n",
            "|      E101|Anita|        IT|  Alpha|        9|2024-05-03|Bangalore|Remote|\n",
            "|      E104|Meena|        IT|  Gamma|        6|2024-05-03|Hyderabad|Onsite|\n",
            "|      E102|  Raj|        HR|   Beta|        8|2024-05-04|   Mumbai|Remote|\n",
            "+----------+-----+----------+-------+---------+----------+---------+------+\n",
            "\n"
          ]
        }
      ]
    },
    {
      "cell_type": "code",
      "source": [
        "df = df_explicit.withColumn(\"Weekday\", date_format(\"WorkDate\", \"EEEE\"))\n",
        "df.show()\n"
      ],
      "metadata": {
        "colab": {
          "base_uri": "https://localhost:8080/"
        },
        "id": "g9-dGorR_k0W",
        "outputId": "6bf9dc8d-ccbe-42b4-b449-ca2610263b62"
      },
      "execution_count": 7,
      "outputs": [
        {
          "output_type": "stream",
          "name": "stdout",
          "text": [
            "+----------+-----+----------+-------+---------+----------+---------+------+---------+\n",
            "|EmployeeID| Name|Department|Project|WorkHours|  WorkDate| Location|  Mode|  Weekday|\n",
            "+----------+-----+----------+-------+---------+----------+---------+------+---------+\n",
            "|      E101|Anita|        IT|  Alpha|        8|2024-05-01|Bangalore|Remote|Wednesday|\n",
            "|      E102|  Raj|        HR|   Beta|        7|2024-05-01|   Mumbai|Onsite|Wednesday|\n",
            "|      E103| John|   Finance|  Alpha|        5|2024-05-02|    Delhi|Remote| Thursday|\n",
            "|      E101|Anita|        IT|  Alpha|        9|2024-05-03|Bangalore|Remote|   Friday|\n",
            "|      E104|Meena|        IT|  Gamma|        6|2024-05-03|Hyderabad|Onsite|   Friday|\n",
            "|      E102|  Raj|        HR|   Beta|        8|2024-05-04|   Mumbai|Remote| Saturday|\n",
            "+----------+-----+----------+-------+---------+----------+---------+------+---------+\n",
            "\n"
          ]
        }
      ]
    },
    {
      "cell_type": "code",
      "source": [
        "df.groupBy(\"EmployeeID\", \"Name\").agg(sum(\"WorkHours\").alias(\"TotalHours\")).show()\n",
        "df.groupBy(\"Department\").agg(avg(\"WorkHours\").alias(\"AvgHours\")).show()\n"
      ],
      "metadata": {
        "colab": {
          "base_uri": "https://localhost:8080/"
        },
        "id": "kdsMZVog_tsP",
        "outputId": "13459077-328b-4709-8799-8fe7157d06a7"
      },
      "execution_count": 8,
      "outputs": [
        {
          "output_type": "stream",
          "name": "stdout",
          "text": [
            "+----------+-----+----------+\n",
            "|EmployeeID| Name|TotalHours|\n",
            "+----------+-----+----------+\n",
            "|      E103| John|         5|\n",
            "|      E104|Meena|         6|\n",
            "|      E102|  Raj|        15|\n",
            "|      E101|Anita|        17|\n",
            "+----------+-----+----------+\n",
            "\n",
            "+----------+-----------------+\n",
            "|Department|         AvgHours|\n",
            "+----------+-----------------+\n",
            "|        HR|              7.5|\n",
            "|   Finance|              5.0|\n",
            "|        IT|7.666666666666667|\n",
            "+----------+-----------------+\n",
            "\n"
          ]
        }
      ]
    },
    {
      "cell_type": "code",
      "source": [
        "windowSpec = Window.orderBy(desc(\"TotalHours\"))\n",
        "total_hours_df = df.groupBy(\"EmployeeID\", \"Name\").agg(sum(\"WorkHours\").alias(\"TotalHours\"))\n",
        "total_hours_df.withColumn(\"Rank\", dense_rank().over(windowSpec)).filter(col(\"Rank\") <= 2).show()\n"
      ],
      "metadata": {
        "colab": {
          "base_uri": "https://localhost:8080/"
        },
        "id": "gMFjnsw6_zH1",
        "outputId": "845c6a95-9d0e-46c3-da34-1ac877da8422"
      },
      "execution_count": 9,
      "outputs": [
        {
          "output_type": "stream",
          "name": "stdout",
          "text": [
            "+----------+-----+----------+----+\n",
            "|EmployeeID| Name|TotalHours|Rank|\n",
            "+----------+-----+----------+----+\n",
            "|      E101|Anita|        17|   1|\n",
            "|      E102|  Raj|        15|   2|\n",
            "+----------+-----+----------+----+\n",
            "\n"
          ]
        }
      ]
    },
    {
      "cell_type": "code",
      "source": [
        "df.filter(col(\"Weekday\").isin([\"Saturday\", \"Sunday\"])).show()\n"
      ],
      "metadata": {
        "colab": {
          "base_uri": "https://localhost:8080/"
        },
        "id": "7a8BuOai_3RB",
        "outputId": "b80aa660-0615-4692-c0f0-0e0e8bc71a8e"
      },
      "execution_count": 10,
      "outputs": [
        {
          "output_type": "stream",
          "name": "stdout",
          "text": [
            "+----------+----+----------+-------+---------+----------+--------+------+--------+\n",
            "|EmployeeID|Name|Department|Project|WorkHours|  WorkDate|Location|  Mode| Weekday|\n",
            "+----------+----+----------+-------+---------+----------+--------+------+--------+\n",
            "|      E102| Raj|        HR|   Beta|        8|2024-05-04|  Mumbai|Remote|Saturday|\n",
            "+----------+----+----------+-------+---------+----------+--------+------+--------+\n",
            "\n"
          ]
        }
      ]
    },
    {
      "cell_type": "code",
      "source": [
        "windowEmp = Window.partitionBy(\"EmployeeID\").orderBy(\"WorkDate\").rowsBetween(Window.unboundedPreceding, 0)\n",
        "df.withColumn(\"RunningTotal\", sum(\"WorkHours\").over(windowEmp)).show()\n"
      ],
      "metadata": {
        "colab": {
          "base_uri": "https://localhost:8080/"
        },
        "id": "QiAh4WJm_61J",
        "outputId": "896b0a6b-1c98-4837-9319-29b125316c1f"
      },
      "execution_count": 11,
      "outputs": [
        {
          "output_type": "stream",
          "name": "stdout",
          "text": [
            "+----------+-----+----------+-------+---------+----------+---------+------+---------+------------+\n",
            "|EmployeeID| Name|Department|Project|WorkHours|  WorkDate| Location|  Mode|  Weekday|RunningTotal|\n",
            "+----------+-----+----------+-------+---------+----------+---------+------+---------+------------+\n",
            "|      E101|Anita|        IT|  Alpha|        8|2024-05-01|Bangalore|Remote|Wednesday|           8|\n",
            "|      E101|Anita|        IT|  Alpha|        9|2024-05-03|Bangalore|Remote|   Friday|          17|\n",
            "|      E102|  Raj|        HR|   Beta|        7|2024-05-01|   Mumbai|Onsite|Wednesday|           7|\n",
            "|      E102|  Raj|        HR|   Beta|        8|2024-05-04|   Mumbai|Remote| Saturday|          15|\n",
            "|      E103| John|   Finance|  Alpha|        5|2024-05-02|    Delhi|Remote| Thursday|           5|\n",
            "|      E104|Meena|        IT|  Gamma|        6|2024-05-03|Hyderabad|Onsite|   Friday|           6|\n",
            "+----------+-----+----------+-------+---------+----------+---------+------+---------+------------+\n",
            "\n"
          ]
        }
      ]
    },
    {
      "cell_type": "code",
      "source": [
        "from pyspark.sql import SparkSession\n",
        "\n",
        "# Initialize SparkSession\n",
        "spark = SparkSession.builder.appName(\"EmployeeTimesheetAnalysis\").getOrCreate()\n",
        "\n",
        "# Read department_location.csv from Google Drive\n",
        "dept_path = \"/content/drive/MyDrive/department_location.csv\"\n",
        "dept_df = spark.read.csv(dept_path, header=True, inferSchema=True)\n",
        "\n",
        "dept_df.show()\n",
        "\n"
      ],
      "metadata": {
        "colab": {
          "base_uri": "https://localhost:8080/"
        },
        "id": "f0QDRnP6__EM",
        "outputId": "8aab42e2-dac4-4b61-d31b-e7382f16a6f8"
      },
      "execution_count": 12,
      "outputs": [
        {
          "output_type": "stream",
          "name": "stdout",
          "text": [
            "+----------+--------+\n",
            "|Department|DeptHead|\n",
            "+----------+--------+\n",
            "|        IT|   Anand|\n",
            "|        HR|  Shruti|\n",
            "|   Finance|   Kamal|\n",
            "+----------+--------+\n",
            "\n"
          ]
        }
      ]
    },
    {
      "cell_type": "code",
      "source": [
        "joined_df = df.join(dept_df, on=\"Department\", how=\"left\")\n",
        "joined_df.select(\"EmployeeID\", \"Name\", \"Department\", \"DeptHead\").show()\n"
      ],
      "metadata": {
        "colab": {
          "base_uri": "https://localhost:8080/"
        },
        "id": "QmSaRd9CBPwq",
        "outputId": "1ef48e6c-c694-476f-c1f2-3aa5cd2cc596"
      },
      "execution_count": 13,
      "outputs": [
        {
          "output_type": "stream",
          "name": "stdout",
          "text": [
            "+----------+-----+----------+--------+\n",
            "|EmployeeID| Name|Department|DeptHead|\n",
            "+----------+-----+----------+--------+\n",
            "|      E101|Anita|        IT|   Anand|\n",
            "|      E102|  Raj|        HR|  Shruti|\n",
            "|      E103| John|   Finance|   Kamal|\n",
            "|      E101|Anita|        IT|   Anand|\n",
            "|      E104|Meena|        IT|   Anand|\n",
            "|      E102|  Raj|        HR|  Shruti|\n",
            "+----------+-----+----------+--------+\n",
            "\n"
          ]
        }
      ]
    },
    {
      "cell_type": "code",
      "source": [
        "df.groupBy(\"EmployeeID\").pivot(\"Project\").agg(sum(\"WorkHours\")).show()\n"
      ],
      "metadata": {
        "colab": {
          "base_uri": "https://localhost:8080/"
        },
        "id": "kbxUz5jmBxao",
        "outputId": "f4fb3cd3-cfff-4480-b5c1-0beb28868d77"
      },
      "execution_count": 14,
      "outputs": [
        {
          "output_type": "stream",
          "name": "stdout",
          "text": [
            "+----------+-----+----+-----+\n",
            "|EmployeeID|Alpha|Beta|Gamma|\n",
            "+----------+-----+----+-----+\n",
            "|      E103|    5|NULL| NULL|\n",
            "|      E104| NULL|NULL|    6|\n",
            "|      E101|   17|NULL| NULL|\n",
            "|      E102| NULL|  15| NULL|\n",
            "+----------+-----+----+-----+\n",
            "\n"
          ]
        }
      ]
    },
    {
      "cell_type": "code",
      "source": [
        "mode_df = df.groupBy(\"EmployeeID\", \"Mode\").agg(sum(\"WorkHours\").alias(\"Hours\"))\n",
        "mode_df.show()\n"
      ],
      "metadata": {
        "colab": {
          "base_uri": "https://localhost:8080/"
        },
        "id": "VOGAphiKB5VT",
        "outputId": "84a6a05f-7678-4d9b-e721-5b950fc80ba9"
      },
      "execution_count": 15,
      "outputs": [
        {
          "output_type": "stream",
          "name": "stdout",
          "text": [
            "+----------+------+-----+\n",
            "|EmployeeID|  Mode|Hours|\n",
            "+----------+------+-----+\n",
            "|      E104|Onsite|    6|\n",
            "|      E102|Remote|    8|\n",
            "|      E101|Remote|   17|\n",
            "|      E102|Onsite|    7|\n",
            "|      E103|Remote|    5|\n",
            "+----------+------+-----+\n",
            "\n"
          ]
        }
      ]
    },
    {
      "cell_type": "code",
      "source": [
        "from pyspark.sql.functions import udf\n",
        "from pyspark.sql.types import StringType\n",
        "\n",
        "def workload_tag(hours):\n",
        "    if hours >= 8:\n",
        "        return \"Full\"\n",
        "    elif hours >= 4:\n",
        "        return \"Partial\"\n",
        "    else:\n",
        "        return \"Light\"\n",
        "\n",
        "workload_udf = udf(workload_tag, StringType())\n"
      ],
      "metadata": {
        "id": "xMNKxMVpB8PZ"
      },
      "execution_count": 16,
      "outputs": []
    },
    {
      "cell_type": "code",
      "source": [
        "df = df.withColumn(\"WorkloadCategory\", workload_udf(col(\"WorkHours\")))\n",
        "df.select(\"EmployeeID\", \"WorkHours\", \"WorkloadCategory\").show()\n"
      ],
      "metadata": {
        "colab": {
          "base_uri": "https://localhost:8080/"
        },
        "id": "rYfssO1zB_08",
        "outputId": "24f7062f-8b55-4b54-9b98-166b196b93fe"
      },
      "execution_count": 17,
      "outputs": [
        {
          "output_type": "stream",
          "name": "stdout",
          "text": [
            "+----------+---------+----------------+\n",
            "|EmployeeID|WorkHours|WorkloadCategory|\n",
            "+----------+---------+----------------+\n",
            "|      E101|        8|            Full|\n",
            "|      E102|        7|         Partial|\n",
            "|      E103|        5|         Partial|\n",
            "|      E101|        9|            Full|\n",
            "|      E104|        6|         Partial|\n",
            "|      E102|        8|            Full|\n",
            "+----------+---------+----------------+\n",
            "\n"
          ]
        }
      ]
    },
    {
      "cell_type": "code",
      "source": [
        "from pyspark.sql.functions import rand\n",
        "\n",
        "df_null = df.withColumn(\"Mode\", when(rand() > 0.7, None).otherwise(col(\"Mode\")))\n",
        "df_null.show()\n"
      ],
      "metadata": {
        "colab": {
          "base_uri": "https://localhost:8080/"
        },
        "id": "kU7Ik4tTCDi3",
        "outputId": "e75e5557-635f-4484-81e6-e1a4ca976815"
      },
      "execution_count": 18,
      "outputs": [
        {
          "output_type": "stream",
          "name": "stdout",
          "text": [
            "+----------+-----+----------+-------+---------+----------+---------+------+---------+----------------+\n",
            "|EmployeeID| Name|Department|Project|WorkHours|  WorkDate| Location|  Mode|  Weekday|WorkloadCategory|\n",
            "+----------+-----+----------+-------+---------+----------+---------+------+---------+----------------+\n",
            "|      E101|Anita|        IT|  Alpha|        8|2024-05-01|Bangalore|  NULL|Wednesday|            Full|\n",
            "|      E102|  Raj|        HR|   Beta|        7|2024-05-01|   Mumbai|  NULL|Wednesday|         Partial|\n",
            "|      E103| John|   Finance|  Alpha|        5|2024-05-02|    Delhi|Remote| Thursday|         Partial|\n",
            "|      E101|Anita|        IT|  Alpha|        9|2024-05-03|Bangalore|Remote|   Friday|            Full|\n",
            "|      E104|Meena|        IT|  Gamma|        6|2024-05-03|Hyderabad|Onsite|   Friday|         Partial|\n",
            "|      E102|  Raj|        HR|   Beta|        8|2024-05-04|   Mumbai|Remote| Saturday|            Full|\n",
            "+----------+-----+----------+-------+---------+----------+---------+------+---------+----------------+\n",
            "\n"
          ]
        }
      ]
    },
    {
      "cell_type": "code",
      "source": [
        "df_filled = df_null.fillna({\"Mode\": \"Not Provided\"})\n",
        "df_filled.show()\n"
      ],
      "metadata": {
        "colab": {
          "base_uri": "https://localhost:8080/"
        },
        "id": "iNmtTdJrCIg7",
        "outputId": "85358ced-73c9-496e-c166-be8aa4b54fd9"
      },
      "execution_count": 19,
      "outputs": [
        {
          "output_type": "stream",
          "name": "stdout",
          "text": [
            "+----------+-----+----------+-------+---------+----------+---------+------------+---------+----------------+\n",
            "|EmployeeID| Name|Department|Project|WorkHours|  WorkDate| Location|        Mode|  Weekday|WorkloadCategory|\n",
            "+----------+-----+----------+-------+---------+----------+---------+------------+---------+----------------+\n",
            "|      E101|Anita|        IT|  Alpha|        8|2024-05-01|Bangalore|Not Provided|Wednesday|            Full|\n",
            "|      E102|  Raj|        HR|   Beta|        7|2024-05-01|   Mumbai|Not Provided|Wednesday|         Partial|\n",
            "|      E103| John|   Finance|  Alpha|        5|2024-05-02|    Delhi|      Remote| Thursday|         Partial|\n",
            "|      E101|Anita|        IT|  Alpha|        9|2024-05-03|Bangalore|      Remote|   Friday|            Full|\n",
            "|      E104|Meena|        IT|  Gamma|        6|2024-05-03|Hyderabad|      Onsite|   Friday|         Partial|\n",
            "|      E102|  Raj|        HR|   Beta|        8|2024-05-04|   Mumbai|      Remote| Saturday|            Full|\n",
            "+----------+-----+----------+-------+---------+----------+---------+------------+---------+----------------+\n",
            "\n"
          ]
        }
      ]
    },
    {
      "cell_type": "code",
      "source": [
        "df_cleaned = df_filled.filter(col(\"WorkHours\") >= 4)\n",
        "df_cleaned.show()\n"
      ],
      "metadata": {
        "colab": {
          "base_uri": "https://localhost:8080/"
        },
        "id": "YGItgWR4CNMq",
        "outputId": "b63e62c7-a13c-47d3-c7ed-e148eebe62a8"
      },
      "execution_count": 20,
      "outputs": [
        {
          "output_type": "stream",
          "name": "stdout",
          "text": [
            "+----------+-----+----------+-------+---------+----------+---------+------------+---------+----------------+\n",
            "|EmployeeID| Name|Department|Project|WorkHours|  WorkDate| Location|        Mode|  Weekday|WorkloadCategory|\n",
            "+----------+-----+----------+-------+---------+----------+---------+------------+---------+----------------+\n",
            "|      E101|Anita|        IT|  Alpha|        8|2024-05-01|Bangalore|Not Provided|Wednesday|            Full|\n",
            "|      E102|  Raj|        HR|   Beta|        7|2024-05-01|   Mumbai|Not Provided|Wednesday|         Partial|\n",
            "|      E103| John|   Finance|  Alpha|        5|2024-05-02|    Delhi|      Remote| Thursday|         Partial|\n",
            "|      E101|Anita|        IT|  Alpha|        9|2024-05-03|Bangalore|      Remote|   Friday|            Full|\n",
            "|      E104|Meena|        IT|  Gamma|        6|2024-05-03|Hyderabad|      Onsite|   Friday|         Partial|\n",
            "|      E102|  Raj|        HR|   Beta|        8|2024-05-04|   Mumbai|      Remote| Saturday|            Full|\n",
            "+----------+-----+----------+-------+---------+----------+---------+------------+---------+----------------+\n",
            "\n"
          ]
        }
      ]
    },
    {
      "cell_type": "code",
      "source": [
        "remote_ratio = df_cleaned.groupBy(\"EmployeeID\").agg(\n",
        "    (sum(when(col(\"Mode\") == \"Remote\", 1).otherwise(0)) / count(\"*\")).alias(\"RemoteRatio\")\n",
        ")\n",
        "\n",
        "df_flagged = df_cleaned.join(remote_ratio, on=\"EmployeeID\", how=\"left\") \\\n",
        "    .withColumn(\"WorkerType\", when(col(\"RemoteRatio\") > 0.8, \"Remote Worker\").otherwise(\"Mixed\"))\n",
        "\n",
        "df_flagged.select(\"EmployeeID\", \"Name\", \"WorkerType\").distinct().show()\n"
      ],
      "metadata": {
        "colab": {
          "base_uri": "https://localhost:8080/"
        },
        "id": "oO_CHMmWCWaV",
        "outputId": "d4f74148-1500-45ad-e629-120c601877a1"
      },
      "execution_count": 21,
      "outputs": [
        {
          "output_type": "stream",
          "name": "stdout",
          "text": [
            "+----------+-----+-------------+\n",
            "|EmployeeID| Name|   WorkerType|\n",
            "+----------+-----+-------------+\n",
            "|      E102|  Raj|        Mixed|\n",
            "|      E101|Anita|        Mixed|\n",
            "|      E104|Meena|        Mixed|\n",
            "|      E103| John|Remote Worker|\n",
            "+----------+-----+-------------+\n",
            "\n"
          ]
        }
      ]
    },
    {
      "cell_type": "code",
      "source": [
        "df_extra = df_flagged.withColumn(\"ExtraHours\", when(col(\"WorkHours\") > 8, col(\"WorkHours\") - 8).otherwise(0))\n",
        "df_extra.select(\"EmployeeID\", \"WorkHours\", \"ExtraHours\").show()\n"
      ],
      "metadata": {
        "colab": {
          "base_uri": "https://localhost:8080/"
        },
        "id": "l57xaP89CZZe",
        "outputId": "f2b17356-c670-45f0-eeda-698820bf6c9c"
      },
      "execution_count": 22,
      "outputs": [
        {
          "output_type": "stream",
          "name": "stdout",
          "text": [
            "+----------+---------+----------+\n",
            "|EmployeeID|WorkHours|ExtraHours|\n",
            "+----------+---------+----------+\n",
            "|      E101|        8|         0|\n",
            "|      E102|        7|         0|\n",
            "|      E103|        5|         0|\n",
            "|      E101|        9|         1|\n",
            "|      E104|        6|         0|\n",
            "|      E102|        8|         0|\n",
            "+----------+---------+----------+\n",
            "\n"
          ]
        }
      ]
    },
    {
      "cell_type": "code",
      "source": [
        "from pyspark.sql import Row\n",
        "from pyspark.sql.types import *\n",
        "\n",
        "# Step 1: Define schema\n",
        "intern_schema = StructType([\n",
        "    StructField(\"EmployeeID\", StringType(), True),\n",
        "    StructField(\"Name\", StringType(), True),\n",
        "    StructField(\"Department\", StringType(), True),\n",
        "    StructField(\"Project\", StringType(), True),\n",
        "    StructField(\"WorkHours\", IntegerType(), True),\n",
        "    StructField(\"WorkDate\", StringType(), True),  # Use StringType if not converting to Date\n",
        "    StructField(\"Location\", StringType(), True),\n",
        "    StructField(\"Mode\", StringType(), True),\n",
        "    StructField(\"Weekday\", StringType(), True),\n",
        "    StructField(\"WorkloadCategory\", StringType(), True),\n",
        "    StructField(\"RemoteRatio\", DoubleType(), True),\n",
        "    StructField(\"WorkerType\", StringType(), True),\n",
        "    StructField(\"ExtraHours\", IntegerType(), True),\n",
        "])\n",
        "\n",
        "# Step 2: Define intern data\n",
        "intern_data = [(\"E999\", \"Intern1\", \"IT\", \"Delta\", 5, \"2024-05-05\", \"Chennai\", \"Remote\", \"Sunday\",\n",
        "                \"Partial\", None, \"Remote Worker\", 0)]\n",
        "\n",
        "# Step 3: Create DataFrame with schema\n",
        "intern_df = spark.createDataFrame(data=intern_data, schema=intern_schema)\n",
        "\n",
        "# Step 4: Combine with main DataFrame\n",
        "combined_df = df_extra.unionByName(intern_df)\n",
        "\n",
        "# Show result\n",
        "combined_df.show()\n",
        "\n"
      ],
      "metadata": {
        "colab": {
          "base_uri": "https://localhost:8080/"
        },
        "id": "3YEz0SqfCcaH",
        "outputId": "85ca4ff5-53f4-4756-bbbb-70403357bb72"
      },
      "execution_count": 24,
      "outputs": [
        {
          "output_type": "stream",
          "name": "stdout",
          "text": [
            "+----------+-------+----------+-------+---------+----------+---------+------------+---------+----------------+-----------+-------------+----------+\n",
            "|EmployeeID|   Name|Department|Project|WorkHours|  WorkDate| Location|        Mode|  Weekday|WorkloadCategory|RemoteRatio|   WorkerType|ExtraHours|\n",
            "+----------+-------+----------+-------+---------+----------+---------+------------+---------+----------------+-----------+-------------+----------+\n",
            "|      E101|  Anita|        IT|  Alpha|        8|2024-05-01|Bangalore|Not Provided|Wednesday|            Full|        0.5|        Mixed|         0|\n",
            "|      E102|    Raj|        HR|   Beta|        7|2024-05-01|   Mumbai|Not Provided|Wednesday|         Partial|        0.5|        Mixed|         0|\n",
            "|      E103|   John|   Finance|  Alpha|        5|2024-05-02|    Delhi|      Remote| Thursday|         Partial|        1.0|Remote Worker|         0|\n",
            "|      E101|  Anita|        IT|  Alpha|        9|2024-05-03|Bangalore|      Remote|   Friday|            Full|        0.5|        Mixed|         1|\n",
            "|      E104|  Meena|        IT|  Gamma|        6|2024-05-03|Hyderabad|      Onsite|   Friday|         Partial|        0.0|        Mixed|         0|\n",
            "|      E102|    Raj|        HR|   Beta|        8|2024-05-04|   Mumbai|      Remote| Saturday|            Full|        0.5|        Mixed|         0|\n",
            "|      E999|Intern1|        IT|  Delta|        5|2024-05-05|  Chennai|      Remote|   Sunday|         Partial|       NULL|Remote Worker|         0|\n",
            "+----------+-------+----------+-------+---------+----------+---------+------------+---------+----------------+-----------+-------------+----------+\n",
            "\n"
          ]
        }
      ]
    },
    {
      "cell_type": "code",
      "source": [
        "final_df = combined_df.dropDuplicates()\n",
        "final_df.show()\n"
      ],
      "metadata": {
        "colab": {
          "base_uri": "https://localhost:8080/"
        },
        "id": "vW453E3sC4d3",
        "outputId": "e9eafc82-19db-4920-a911-0a5066259956"
      },
      "execution_count": 25,
      "outputs": [
        {
          "output_type": "stream",
          "name": "stdout",
          "text": [
            "+----------+-------+----------+-------+---------+----------+---------+------------+---------+----------------+-----------+-------------+----------+\n",
            "|EmployeeID|   Name|Department|Project|WorkHours|  WorkDate| Location|        Mode|  Weekday|WorkloadCategory|RemoteRatio|   WorkerType|ExtraHours|\n",
            "+----------+-------+----------+-------+---------+----------+---------+------------+---------+----------------+-----------+-------------+----------+\n",
            "|      E103|   John|   Finance|  Alpha|        5|2024-05-02|    Delhi|      Remote| Thursday|         Partial|        1.0|Remote Worker|         0|\n",
            "|      E102|    Raj|        HR|   Beta|        7|2024-05-01|   Mumbai|Not Provided|Wednesday|         Partial|        0.5|        Mixed|         0|\n",
            "|      E101|  Anita|        IT|  Alpha|        8|2024-05-01|Bangalore|Not Provided|Wednesday|            Full|        0.5|        Mixed|         0|\n",
            "|      E102|    Raj|        HR|   Beta|        8|2024-05-04|   Mumbai|      Remote| Saturday|            Full|        0.5|        Mixed|         0|\n",
            "|      E101|  Anita|        IT|  Alpha|        9|2024-05-03|Bangalore|      Remote|   Friday|            Full|        0.5|        Mixed|         1|\n",
            "|      E104|  Meena|        IT|  Gamma|        6|2024-05-03|Hyderabad|      Onsite|   Friday|         Partial|        0.0|        Mixed|         0|\n",
            "|      E999|Intern1|        IT|  Delta|        5|2024-05-05|  Chennai|      Remote|   Sunday|         Partial|       NULL|Remote Worker|         0|\n",
            "+----------+-------+----------+-------+---------+----------+---------+------------+---------+----------------+-----------+-------------+----------+\n",
            "\n"
          ]
        }
      ]
    }
  ]
}