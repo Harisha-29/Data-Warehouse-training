{
 "cells": [
  {
   "cell_type": "code",
   "execution_count": 0,
   "metadata": {
    "application/vnd.databricks.v1+cell": {
     "cellMetadata": {
      "byteLimit": 2048000,
      "rowLimit": 10000
     },
     "inputWidgets": {},
     "nuid": "f27c770e-2194-4031-9098-3b52556767aa",
     "showTitle": false,
     "tableResultSettingsMap": {},
     "title": ""
    }
   },
   "outputs": [
    {
     "output_type": "execute_result",
     "data": {
      "text/plain": [
       "True"
      ]
     },
     "execution_count": 1,
     "metadata": {},
     "output_type": "execute_result"
    }
   ],
   "source": [
    "dbutils.fs.mount(\n",
    "  source=\"wasbs://image@task1june17.blob.core.windows.net\",\n",
    "  mount_point=\"/mnt/image\",\n",
    "  extra_configs={\"fs.azure.account.key.task1june17.blob.core.windows.net\": \"KaG5QlJltZ/fxhgUzBJ2aMLMw+StEzrE6OCMszpgBlBRxobrQw24WdA+18VBE5TmTb2oGNPLQFNU+AStsCLMPw==\"}\n",
    ")\n"
   ]
  },
  {
   "cell_type": "code",
   "execution_count": 0,
   "metadata": {
    "application/vnd.databricks.v1+cell": {
     "cellMetadata": {
      "byteLimit": 2048000,
      "rowLimit": 10000
     },
     "inputWidgets": {},
     "nuid": "4aed0ee8-40a9-4be1-9487-b51a5c970b6a",
     "showTitle": false,
     "tableResultSettingsMap": {},
     "title": ""
    }
   },
   "outputs": [],
   "source": [
    "from pyspark.sql.functions import col\n",
    "\n",
    "# Read CSVs from mounted Azure Blob Storage\n",
    "orders_df = spark.read.option(\"header\", True).csv(\"/mnt/image/orders.csv\")\n",
    "customers_df = spark.read.option(\"header\", True).csv(\"/mnt/image/customers.csv\")\n",
    "products_df = spark.read.option(\"header\", True).csv(\"/mnt/image/products.csv\")\n",
    "\n",
    "# Clean column types for `orders`\n",
    "orders_df = orders_df \\\n",
    "    .withColumn(\"Quantity\", col(\"Quantity\").cast(\"int\")) \\\n",
    "    .withColumn(\"Price\", col(\"Price\").cast(\"double\")) \\\n",
    "    .withColumn(\"OrderDate\", col(\"OrderDate\").cast(\"date\"))\n",
    "\n",
    "# Save as Delta Tables\n",
    "orders_df.write.format(\"delta\").mode(\"overwrite\").save(\"/mnt/data/delta/orders\")\n",
    "customers_df.write.format(\"delta\").mode(\"overwrite\").save(\"/mnt/data/delta/customers\")\n",
    "products_df.write.format(\"delta\").mode(\"overwrite\").save(\"/mnt/data/delta/products\")\n"
   ]
  },
  {
   "cell_type": "code",
   "execution_count": 0,
   "metadata": {
    "application/vnd.databricks.v1+cell": {
     "cellMetadata": {
      "byteLimit": 2048000,
      "rowLimit": 10000
     },
     "inputWidgets": {},
     "nuid": "911af0df-b8fc-4ce4-a3f4-212097f2a1a8",
     "showTitle": false,
     "tableResultSettingsMap": {},
     "title": ""
    }
   },
   "outputs": [
    {
     "output_type": "stream",
     "name": "stdout",
     "output_type": "stream",
     "text": [
      "+---------+------------+\n|ProductID|TotalRevenue|\n+---------+------------+\n|    P1001|     75000.0|\n|    P1002|     50000.0|\n|    P1003|     30000.0|\n+---------+------------+\n\n"
     ]
    }
   ],
   "source": [
    "spark.sql(\"CREATE OR REPLACE TEMP VIEW orders AS SELECT * FROM delta.`/mnt/data/delta/orders`\")\n",
    "\n",
    "spark.sql(\"\"\"\n",
    "SELECT ProductID, SUM(Quantity * Price) AS TotalRevenue\n",
    "FROM orders\n",
    "WHERE Status = 'Delivered'\n",
    "GROUP BY ProductID\n",
    "\"\"\").show()\n"
   ]
  },
  {
   "cell_type": "code",
   "execution_count": 0,
   "metadata": {
    "application/vnd.databricks.v1+cell": {
     "cellMetadata": {
      "byteLimit": 2048000,
      "rowLimit": 10000
     },
     "inputWidgets": {},
     "nuid": "df15f63d-46ef-44d8-b44b-f02c3cff8d72",
     "showTitle": false,
     "tableResultSettingsMap": {},
     "title": ""
    }
   },
   "outputs": [
    {
     "output_type": "stream",
     "name": "stdout",
     "output_type": "stream",
     "text": [
      "+------+-------------+\n|Region|RegionRevenue|\n+------+-------------+\n|  West|      30000.0|\n| North|     125000.0|\n+------+-------------+\n\n"
     ]
    }
   ],
   "source": [
    "spark.sql(\"CREATE OR REPLACE TEMP VIEW customers AS SELECT * FROM delta.`/mnt/data/delta/customers`\")\n",
    "\n",
    "spark.sql(\"\"\"\n",
    "SELECT c.Region, SUM(o.Quantity * o.Price) AS RegionRevenue\n",
    "FROM orders o\n",
    "JOIN customers c ON o.CustomerID = c.CustomerID\n",
    "WHERE o.Status = 'Delivered'\n",
    "GROUP BY c.Region\n",
    "\"\"\").show()\n"
   ]
  },
  {
   "cell_type": "code",
   "execution_count": 0,
   "metadata": {
    "application/vnd.databricks.v1+cell": {
     "cellMetadata": {
      "byteLimit": 2048000,
      "rowLimit": 10000
     },
     "inputWidgets": {},
     "nuid": "efdc8dcf-21a0-4d9b-a715-37d5d1917027",
     "showTitle": false,
     "tableResultSettingsMap": {},
     "title": ""
    }
   },
   "outputs": [],
   "source": [
    "from delta.tables import DeltaTable\n",
    "\n",
    "orders_delta = DeltaTable.forPath(spark, \"/mnt/data/delta/orders\")\n",
    "orders_delta.update(\n",
    "    condition=\"Status = 'Pending'\",\n",
    "    set={\"Status\": \"'Cancelled'\"}\n",
    ")\n"
   ]
  },
  {
   "cell_type": "code",
   "execution_count": 0,
   "metadata": {
    "application/vnd.databricks.v1+cell": {
     "cellMetadata": {
      "byteLimit": 2048000,
      "rowLimit": 10000
     },
     "inputWidgets": {},
     "nuid": "403f13ee-69dd-4e66-a7c5-f425a04d67b2",
     "showTitle": false,
     "tableResultSettingsMap": {},
     "title": ""
    }
   },
   "outputs": [],
   "source": [
    "new_return = spark.createDataFrame([\n",
    "    (\"3006\", \"C003\", \"P1003\", 1, 30000.0, \"2024-05-06\", \"Returned\")\n",
    "], [\"OrderID\", \"CustomerID\", \"ProductID\", \"Quantity\", \"Price\", \"OrderDate\", \"Status\"]) \\\n",
    "    .withColumn(\"Quantity\", col(\"Quantity\").cast(\"int\")) \\\n",
    "    .withColumn(\"Price\", col(\"Price\").cast(\"double\")) \\\n",
    "    .withColumn(\"OrderDate\", col(\"OrderDate\").cast(\"date\"))\n",
    "\n",
    "orders_delta.alias(\"target\").merge(\n",
    "    new_return.alias(\"source\"),\n",
    "    \"target.OrderID = source.OrderID\"\n",
    ").whenNotMatchedInsertAll().execute()\n"
   ]
  },
  {
   "cell_type": "code",
   "execution_count": 0,
   "metadata": {
    "application/vnd.databricks.v1+cell": {
     "cellMetadata": {
      "byteLimit": 2048000,
      "rowLimit": 10000
     },
     "inputWidgets": {},
     "nuid": "7bf54f7e-dcf7-4a07-90c4-a7112d59ac79",
     "showTitle": false,
     "tableResultSettingsMap": {},
     "title": ""
    }
   },
   "outputs": [
    {
     "output_type": "display_data",
     "data": {
      "text/html": [
       "\n",
       "<html>\n",
       "  <style>\n",
       "<style>\n",
       "      html {\n",
       "        font-family: -apple-system,BlinkMacSystemFont,Segoe UI,Roboto,Helvetica Neue,Arial,\n",
       "        Noto Sans,sans-serif,Apple Color Emoji,Segoe UI Emoji,Segoe UI Symbol,\n",
       "        Noto Color Emoji,FontAwesome;\n",
       "        font-size: 13;\n",
       "      }\n",
       "\n",
       "      .ansiout {\n",
       "        padding-bottom: 8px;\n",
       "      }\n",
       "\n",
       "      .createPipeline {\n",
       "        background-color: rgb(34, 114, 180);\n",
       "        color: white;\n",
       "        text-decoration: none;\n",
       "        padding: 4px 12px;\n",
       "        border-radius: 4px;\n",
       "        display: inline-block;\n",
       "      }\n",
       "\n",
       "      .createPipeline:hover {\n",
       "        background-color: #195487;\n",
       "      }\n",
       "\n",
       "      .tag {\n",
       "        border: none;\n",
       "        color: rgb(31, 39, 45);\n",
       "        padding: 2px 4px;\n",
       "        font-weight: 600;\n",
       "        background-color: rgba(93, 114, 131, 0.08);\n",
       "        border-radius: 4px;\n",
       "        margin-right: 0;\n",
       "        display: inline-block;\n",
       "        cursor: default;\n",
       "      }\n",
       "\n",
       "      table {\n",
       "        border-collapse: collapse;\n",
       "        font-size: 13px;\n",
       "      }\n",
       "\n",
       "      th {\n",
       "        text-align: left;\n",
       "        background-color: #F2F5F7;\n",
       "        padding-left: 8px;\n",
       "        padding-right: 8px;\n",
       "      }\n",
       "\n",
       "      tr {\n",
       "        border-bottom: solid;\n",
       "        border-bottom-color: #CDDAE5;\n",
       "        border-bottom-width: 1px;\n",
       "      }\n",
       "\n",
       "      td {\n",
       "        padding-left: 8px;\n",
       "        padding-right: 8px;\n",
       "      }\n",
       "\n",
       "      .dlt-label {\n",
       "        font-weight: bold;\n",
       "      }\n",
       "\n",
       "      ul {\n",
       "        list-style: circle;\n",
       "        padding-inline-start: 12px;\n",
       "      }\n",
       "\n",
       "      li {\n",
       "        padding-bottom: 4px;\n",
       "      }\n",
       "</style></style>\n",
       "  \n",
       "<div class=\"ansiout\">\n",
       "<span class='tag'>aggregated_revenue_by_category</span> is defined as a\n",
       "<span class=\"dlt-label\">Delta Live Tables</span> dataset\n",
       " with schema: \n",
       "</div>\n",
       "\n",
       "  \n",
       "<div class=\"ansiout\">\n",
       "   <table>\n",
       "     <tbody>\n",
       "       <tr>\n",
       "         <th>Name</th>\n",
       "         <th>Type</th>\n",
       "       </tr>\n",
       "       \n",
       "<tr>\n",
       "   <td>Category</td>\n",
       "   <td>string</td>\n",
       "</tr>\n",
       "\n",
       "<tr>\n",
       "   <td>TotalRevenue</td>\n",
       "   <td>double</td>\n",
       "</tr>\n",
       "     </tbody>\n",
       "   </table>\n",
       "</div>\n",
       "\n",
       "  <div class =\"ansiout\">\n",
       "    To populate your table you must either:\n",
       "    <ul>\n",
       "      <li>\n",
       "        Run an existing pipeline using the\n",
       "        <span class=\"dlt-label\">Delta Live Tables</span> menu\n",
       "      </li>\n",
       "      <li>\n",
       "        Create a new pipeline: <a class='createPipeline' href=\"?o=1757914305823972#joblist/pipelines/create?initialSource=%2FUsers%2Fazuser3549_mml.local%40techademy.com%2FUntitled%20Notebook%202025-06-18%2009%3A03%3A08&redirectNotebookId=4109130017453072\">Create Pipeline</a>\n",
       "      </li>\n",
       "    </ul>\n",
       "  <div>\n",
       "</html>\n"
      ]
     },
     "metadata": {},
     "output_type": "display_data"
    }
   ],
   "source": [
    "import dlt\n",
    "from pyspark.sql.functions import col, sum as spark_sum\n",
    "@dlt.table\n",
    "def raw_orders():\n",
    "    return spark.read.option(\"header\", True).csv(\"/mnt/image/orders.csv\")\n",
    "\n",
    "@dlt.table\n",
    "def cleaned_orders():\n",
    "    return dlt.read(\"raw_orders\").dropna()\n",
    "\n",
    "@dlt.table\n",
    "def aggregated_revenue_by_category():\n",
    "    df = dlt.read(\"cleaned_orders\")\n",
    "    df = df.withColumn(\"Quantity\", col(\"Quantity\").cast(\"int\")) \\\n",
    "           .withColumn(\"Price\", col(\"Price\").cast(\"double\")) \\\n",
    "           .withColumn(\"Revenue\", col(\"Quantity\") * col(\"Price\"))\n",
    "    \n",
    "    products_df = spark.read.option(\"header\", True).csv(\"/mnt/image/products.csv\")\n",
    "    joined_df = df.join(products_df, \"ProductID\")\n",
    "    \n",
    "    return joined_df.groupBy(\"Category\").agg(spark_sum(\"Revenue\").alias(\"TotalRevenue\"))\n",
    "\n"
   ]
  },
  {
   "cell_type": "code",
   "execution_count": 0,
   "metadata": {
    "application/vnd.databricks.v1+cell": {
     "cellMetadata": {
      "byteLimit": 2048000,
      "rowLimit": 10000
     },
     "inputWidgets": {},
     "nuid": "322adf13-4cf0-4ff1-91fc-be1d7c5d44eb",
     "showTitle": false,
     "tableResultSettingsMap": {},
     "title": ""
    }
   },
   "outputs": [
    {
     "output_type": "display_data",
     "data": {
      "text/html": [
       "<style scoped>\n",
       "  .table-result-container {\n",
       "    max-height: 300px;\n",
       "    overflow: auto;\n",
       "  }\n",
       "  table, th, td {\n",
       "    border: 1px solid black;\n",
       "    border-collapse: collapse;\n",
       "  }\n",
       "  th, td {\n",
       "    padding: 5px;\n",
       "  }\n",
       "  th {\n",
       "    text-align: left;\n",
       "  }\n",
       "</style><div class='table-result-container'><table class='table-result'><thead style='background-color: white'><tr><th>OrderID</th><th>CustomerID</th><th>ProductID</th><th>Quantity</th><th>Price</th><th>OrderDate</th><th>Status</th></tr></thead><tbody><tr><td>3001</td><td>C001</td><td>P1001</td><td>1</td><td>75000.0</td><td>2024-05-01</td><td>Delivered</td></tr><tr><td>3002</td><td>C002</td><td>P1002</td><td>2</td><td>50000.0</td><td>2024-05-02</td><td>Returned</td></tr><tr><td>3003</td><td>C003</td><td>P1003</td><td>1</td><td>30000.0</td><td>2024-05-03</td><td>Delivered</td></tr><tr><td>3004</td><td>C001</td><td>P1002</td><td>1</td><td>50000.0</td><td>2024-05-04</td><td>Delivered</td></tr><tr><td>3005</td><td>C004</td><td>P1004</td><td>3</td><td>10000.0</td><td>2024-05-05</td><td>Pending</td></tr></tbody></table></div>"
      ]
     },
     "metadata": {
      "application/vnd.databricks.v1+output": {
       "addedWidgets": {},
       "aggData": [],
       "aggError": "",
       "aggOverflow": false,
       "aggSchema": [],
       "aggSeriesLimitReached": false,
       "aggType": "",
       "arguments": {},
       "columnCustomDisplayInfos": {},
       "data": [
        [
         "3001",
         "C001",
         "P1001",
         1,
         75000.0,
         "2024-05-01",
         "Delivered"
        ],
        [
         "3002",
         "C002",
         "P1002",
         2,
         50000.0,
         "2024-05-02",
         "Returned"
        ],
        [
         "3003",
         "C003",
         "P1003",
         1,
         30000.0,
         "2024-05-03",
         "Delivered"
        ],
        [
         "3004",
         "C001",
         "P1002",
         1,
         50000.0,
         "2024-05-04",
         "Delivered"
        ],
        [
         "3005",
         "C004",
         "P1004",
         3,
         10000.0,
         "2024-05-05",
         "Pending"
        ]
       ],
       "datasetInfos": [],
       "dbfsResultPath": null,
       "isJsonSchema": true,
       "metadata": {},
       "overflow": false,
       "plotOptions": {
        "customPlotOptions": {},
        "displayType": "table",
        "pivotAggregation": null,
        "pivotColumns": null,
        "xColumns": null,
        "yColumns": null
       },
       "removedWidgets": [],
       "schema": [
        {
         "metadata": "{}",
         "name": "OrderID",
         "type": "\"string\""
        },
        {
         "metadata": "{}",
         "name": "CustomerID",
         "type": "\"string\""
        },
        {
         "metadata": "{}",
         "name": "ProductID",
         "type": "\"string\""
        },
        {
         "metadata": "{}",
         "name": "Quantity",
         "type": "\"integer\""
        },
        {
         "metadata": "{}",
         "name": "Price",
         "type": "\"double\""
        },
        {
         "metadata": "{}",
         "name": "OrderDate",
         "type": "\"date\""
        },
        {
         "metadata": "{}",
         "name": "Status",
         "type": "\"string\""
        }
       ],
       "type": "table"
      }
     },
     "output_type": "display_data"
    }
   ],
   "source": [
    "# View before update (e.g., version 0)\n",
    "df_v0 = spark.read.format(\"delta\").option(\"versionAsOf\", 0).load(\"/mnt/data/delta/orders\")\n",
    "df_v0.display()\n"
   ]
  },
  {
   "cell_type": "code",
   "execution_count": 0,
   "metadata": {
    "application/vnd.databricks.v1+cell": {
     "cellMetadata": {
      "byteLimit": 2048000,
      "rowLimit": 10000
     },
     "inputWidgets": {},
     "nuid": "81e7a0d2-dcae-4da0-ac61-712c07252f69",
     "showTitle": false,
     "tableResultSettingsMap": {},
     "title": ""
    }
   },
   "outputs": [],
   "source": [
    "# Overwrite current with old version (e.g., version 0)\n",
    "df_old = spark.read.format(\"delta\").option(\"versionAsOf\", 0).load(\"/mnt/data/delta/orders\")\n",
    "df_old.write.format(\"delta\").mode(\"overwrite\").save(\"/mnt/data/delta/orders\")\n"
   ]
  },
  {
   "cell_type": "code",
   "execution_count": 0,
   "metadata": {
    "application/vnd.databricks.v1+cell": {
     "cellMetadata": {
      "byteLimit": 2048000,
      "rowLimit": 10000
     },
     "inputWidgets": {},
     "nuid": "4e7845f7-3198-40c1-9df9-315a3ff0a50c",
     "showTitle": false,
     "tableResultSettingsMap": {},
     "title": ""
    }
   },
   "outputs": [
    {
     "output_type": "execute_result",
     "data": {
      "text/plain": [
       "DataFrame[path: string]"
      ]
     },
     "execution_count": 9,
     "metadata": {},
     "output_type": "execute_result"
    }
   ],
   "source": [
    "# Turn off 7-day default retention check\n",
    "spark.sql(\"SET spark.databricks.delta.retentionDurationCheck.enabled = false\")\n",
    "\n",
    "# Vacuum the table to delete old files\n",
    "spark.sql(\"VACUUM delta.`/mnt/data/delta/orders` RETAIN 0 HOURS\")\n"
   ]
  },
  {
   "cell_type": "code",
   "execution_count": 0,
   "metadata": {
    "application/vnd.databricks.v1+cell": {
     "cellMetadata": {
      "byteLimit": 2048000,
      "rowLimit": 10000
     },
     "inputWidgets": {},
     "nuid": "c87a5ec0-e1c0-4912-b654-6c55a15aee3d",
     "showTitle": false,
     "tableResultSettingsMap": {},
     "title": ""
    }
   },
   "outputs": [
    {
     "output_type": "display_data",
     "data": {
      "text/html": [
       "<style scoped>\n",
       "  .table-result-container {\n",
       "    max-height: 300px;\n",
       "    overflow: auto;\n",
       "  }\n",
       "  table, th, td {\n",
       "    border: 1px solid black;\n",
       "    border-collapse: collapse;\n",
       "  }\n",
       "  th, td {\n",
       "    padding: 5px;\n",
       "  }\n",
       "  th {\n",
       "    text-align: left;\n",
       "  }\n",
       "</style><div class='table-result-container'><table class='table-result'><thead style='background-color: white'><tr><th>OrderID</th><th>CustomerID</th><th>ProductID</th><th>Quantity</th><th>Price</th><th>OrderDate</th><th>Status</th></tr></thead><tbody><tr><td>3001</td><td>C001</td><td>P1001</td><td>1</td><td>75000.0</td><td>2024-05-01</td><td>Delivered</td></tr><tr><td>3002</td><td>C002</td><td>P1002</td><td>2</td><td>50000.0</td><td>2024-05-02</td><td>Returned</td></tr><tr><td>3003</td><td>C003</td><td>P1003</td><td>1</td><td>30000.0</td><td>2024-05-03</td><td>Delivered</td></tr><tr><td>3004</td><td>C001</td><td>P1002</td><td>1</td><td>50000.0</td><td>2024-05-04</td><td>Delivered</td></tr><tr><td>3005</td><td>C004</td><td>P1004</td><td>3</td><td>10000.0</td><td>2024-05-05</td><td>Pending</td></tr></tbody></table></div>"
      ]
     },
     "metadata": {
      "application/vnd.databricks.v1+output": {
       "addedWidgets": {},
       "aggData": [],
       "aggError": "",
       "aggOverflow": false,
       "aggSchema": [],
       "aggSeriesLimitReached": false,
       "aggType": "",
       "arguments": {},
       "columnCustomDisplayInfos": {},
       "data": [
        [
         "3001",
         "C001",
         "P1001",
         1,
         75000.0,
         "2024-05-01",
         "Delivered"
        ],
        [
         "3002",
         "C002",
         "P1002",
         2,
         50000.0,
         "2024-05-02",
         "Returned"
        ],
        [
         "3003",
         "C003",
         "P1003",
         1,
         30000.0,
         "2024-05-03",
         "Delivered"
        ],
        [
         "3004",
         "C001",
         "P1002",
         1,
         50000.0,
         "2024-05-04",
         "Delivered"
        ],
        [
         "3005",
         "C004",
         "P1004",
         3,
         10000.0,
         "2024-05-05",
         "Pending"
        ]
       ],
       "datasetInfos": [],
       "dbfsResultPath": null,
       "isJsonSchema": true,
       "metadata": {},
       "overflow": false,
       "plotOptions": {
        "customPlotOptions": {},
        "displayType": "table",
        "pivotAggregation": null,
        "pivotColumns": null,
        "xColumns": null,
        "yColumns": null
       },
       "removedWidgets": [],
       "schema": [
        {
         "metadata": "{}",
         "name": "OrderID",
         "type": "\"string\""
        },
        {
         "metadata": "{}",
         "name": "CustomerID",
         "type": "\"string\""
        },
        {
         "metadata": "{}",
         "name": "ProductID",
         "type": "\"string\""
        },
        {
         "metadata": "{}",
         "name": "Quantity",
         "type": "\"integer\""
        },
        {
         "metadata": "{}",
         "name": "Price",
         "type": "\"double\""
        },
        {
         "metadata": "{}",
         "name": "OrderDate",
         "type": "\"date\""
        },
        {
         "metadata": "{}",
         "name": "Status",
         "type": "\"string\""
        }
       ],
       "type": "table"
      }
     },
     "output_type": "display_data"
    }
   ],
   "source": [
    "from pyspark.sql.functions import col\n",
    "\n",
    "orders = spark.read.format(\"delta\").load(\"/mnt/data/delta/orders\")\n",
    "\n",
    "orders.filter(\n",
    "    (col(\"Quantity\") > 0) &\n",
    "    (col(\"Price\") > 0) &\n",
    "    (col(\"OrderDate\").isNotNull())\n",
    ").display()\n"
   ]
  },
  {
   "cell_type": "code",
   "execution_count": 0,
   "metadata": {
    "application/vnd.databricks.v1+cell": {
     "cellMetadata": {
      "byteLimit": 2048000,
      "rowLimit": 10000
     },
     "inputWidgets": {},
     "nuid": "57967f07-c9fe-447c-b782-a271a665c713",
     "showTitle": false,
     "tableResultSettingsMap": {},
     "title": ""
    }
   },
   "outputs": [
    {
     "output_type": "display_data",
     "data": {
      "text/html": [
       "<style scoped>\n",
       "  .table-result-container {\n",
       "    max-height: 300px;\n",
       "    overflow: auto;\n",
       "  }\n",
       "  table, th, td {\n",
       "    border: 1px solid black;\n",
       "    border-collapse: collapse;\n",
       "  }\n",
       "  th, td {\n",
       "    padding: 5px;\n",
       "  }\n",
       "  th {\n",
       "    text-align: left;\n",
       "  }\n",
       "</style><div class='table-result-container'><table class='table-result'><thead style='background-color: white'><tr><th>OrderID</th><th>Status</th><th>OrderType</th></tr></thead><tbody><tr><td>3001</td><td>Delivered</td><td>Normal</td></tr><tr><td>3002</td><td>Returned</td><td>Return</td></tr><tr><td>3003</td><td>Delivered</td><td>Normal</td></tr><tr><td>3004</td><td>Delivered</td><td>Normal</td></tr><tr><td>3005</td><td>Pending</td><td>Normal</td></tr></tbody></table></div>"
      ]
     },
     "metadata": {
      "application/vnd.databricks.v1+output": {
       "addedWidgets": {},
       "aggData": [],
       "aggError": "",
       "aggOverflow": false,
       "aggSchema": [],
       "aggSeriesLimitReached": false,
       "aggType": "",
       "arguments": {},
       "columnCustomDisplayInfos": {},
       "data": [
        [
         "3001",
         "Delivered",
         "Normal"
        ],
        [
         "3002",
         "Returned",
         "Return"
        ],
        [
         "3003",
         "Delivered",
         "Normal"
        ],
        [
         "3004",
         "Delivered",
         "Normal"
        ],
        [
         "3005",
         "Pending",
         "Normal"
        ]
       ],
       "datasetInfos": [],
       "dbfsResultPath": null,
       "isJsonSchema": true,
       "metadata": {},
       "overflow": false,
       "plotOptions": {
        "customPlotOptions": {},
        "displayType": "table",
        "pivotAggregation": null,
        "pivotColumns": null,
        "xColumns": null,
        "yColumns": null
       },
       "removedWidgets": [],
       "schema": [
        {
         "metadata": "{}",
         "name": "OrderID",
         "type": "\"string\""
        },
        {
         "metadata": "{}",
         "name": "Status",
         "type": "\"string\""
        },
        {
         "metadata": "{}",
         "name": "OrderType",
         "type": "\"string\""
        }
       ],
       "type": "table"
      }
     },
     "output_type": "display_data"
    }
   ],
   "source": [
    "from pyspark.sql.functions import when\n",
    "\n",
    "orders = orders.withColumn(\n",
    "    \"OrderType\",\n",
    "    when(col(\"Status\") == \"Returned\", \"Return\").otherwise(\"Normal\")\n",
    ")\n",
    "\n",
    "orders.select(\"OrderID\", \"Status\", \"OrderType\").display()\n"
   ]
  }
 ],
 "metadata": {
  "application/vnd.databricks.v1+notebook": {
   "computePreferences": null,
   "dashboards": [],
   "environmentMetadata": {
    "base_environment": "",
    "environment_version": "2"
   },
   "inputWidgetPreferences": null,
   "language": "python",
   "notebookMetadata": {
    "pythonIndentUnit": 4
   },
   "notebookName": "Untitled Notebook 2025-06-18 09:03:08",
   "widgets": {}
  },
  "language_info": {
   "name": "python"
  }
 },
 "nbformat": 4,
 "nbformat_minor": 0
}