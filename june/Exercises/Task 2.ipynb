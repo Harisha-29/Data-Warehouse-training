{
  "nbformat": 4,
  "nbformat_minor": 0,
  "metadata": {
    "colab": {
      "provenance": []
    },
    "kernelspec": {
      "name": "python3",
      "display_name": "Python 3"
    },
    "language_info": {
      "name": "python"
    }
  },
  "cells": [
    {
      "cell_type": "code",
      "execution_count": 2,
      "metadata": {
        "id": "BIbbs25KSX0h"
      },
      "outputs": [],
      "source": [
        "from pyspark.sql import SparkSession\n",
        "from pyspark.sql.functions import col, when, year, month, current_date, datediff, expr, udf, explode, get_json_object\n",
        "from pyspark.sql.types import StringType\n",
        "\n",
        "# Start Spark session\n",
        "spark = SparkSession.builder.appName(\"SalesAnalysis\").getOrCreate()\n",
        "\n",
        "# Replace with your correct path:\n",
        "file_path = \"/content/drive/MyDrive/Sales_Dataset__500_Records_.csv\"  # For Google Colab\n",
        "# file_path = \"C:/Users/YourName/Documents/Sales_Dataset__500_Records_.csv\"  # For local PySpark\n",
        "\n",
        "# Load CSV\n",
        "df = spark.read.option(\"header\", \"true\").option(\"inferSchema\", \"true\").csv(file_path)\n"
      ]
    },
    {
      "cell_type": "code",
      "source": [
        "df.show(5)\n",
        "df.tail(5)\n",
        "df.printSchema()\n",
        "df.dtypes\n"
      ],
      "metadata": {
        "colab": {
          "base_uri": "https://localhost:8080/"
        },
        "id": "N7XEyxHwTWm8",
        "outputId": "d570fa42-4b96-47e9-e1ea-dd472f5b97af"
      },
      "execution_count": 3,
      "outputs": [
        {
          "output_type": "stream",
          "name": "stdout",
          "text": [
            "+-------+--------------+---------------+------+----------+--------------+--------+----------------+-----------+-------------+\n",
            "|OrderID|  CustomerName|ProductCategory|Amount| OrderDate|DeliveryStatus|Discount|            City|PaymentMode|CustomerSince|\n",
            "+-------+--------------+---------------+------+----------+--------------+--------+----------------+-----------+-------------+\n",
            "|   2824| Donald Walker|          Books|783.04|2024-12-26|      Returned|    0.15|    Lake Joyside|Credit Card|   2020-10-15|\n",
            "|   7912|  Brandon Hall|      Groceries| 905.0|2024-09-12|     Cancelled|    0.03|   New Jamesside|     Wallet|   2022-03-15|\n",
            "|   4611|  Donald Booth|        Fashion|657.96|2025-01-12|      Returned|    0.01|    Lake Roberto|     Wallet|   2021-08-07|\n",
            "|   3547|Phillip Garcia|        Fashion|606.89|2024-03-24|      Returned|    0.15|West Melanieview|     Wallet|   2020-08-08|\n",
            "|   8527|  Valerie Gray|           Toys| 77.87|2024-08-04|     Delivered|    0.17|       Mariastad|       Cash|   2022-11-15|\n",
            "+-------+--------------+---------------+------+----------+--------------+--------+----------------+-----------+-------------+\n",
            "only showing top 5 rows\n",
            "\n",
            "root\n",
            " |-- OrderID: integer (nullable = true)\n",
            " |-- CustomerName: string (nullable = true)\n",
            " |-- ProductCategory: string (nullable = true)\n",
            " |-- Amount: double (nullable = true)\n",
            " |-- OrderDate: date (nullable = true)\n",
            " |-- DeliveryStatus: string (nullable = true)\n",
            " |-- Discount: double (nullable = true)\n",
            " |-- City: string (nullable = true)\n",
            " |-- PaymentMode: string (nullable = true)\n",
            " |-- CustomerSince: date (nullable = true)\n",
            "\n"
          ]
        },
        {
          "output_type": "execute_result",
          "data": {
            "text/plain": [
              "[('OrderID', 'int'),\n",
              " ('CustomerName', 'string'),\n",
              " ('ProductCategory', 'string'),\n",
              " ('Amount', 'double'),\n",
              " ('OrderDate', 'date'),\n",
              " ('DeliveryStatus', 'string'),\n",
              " ('Discount', 'double'),\n",
              " ('City', 'string'),\n",
              " ('PaymentMode', 'string'),\n",
              " ('CustomerSince', 'date')]"
            ]
          },
          "metadata": {},
          "execution_count": 3
        }
      ]
    },
    {
      "cell_type": "code",
      "source": [
        "# Select\n",
        "selected_df = df.select(\"OrderID\", \"CustomerName\", \"Amount\")\n",
        "selected_df.show()\n",
        "\n",
        "# Rename\n",
        "renamed_df = selected_df.withColumnRenamed(\"Amount\", \"OrderAmount\")\n",
        "renamed_df.show()\n",
        "\n",
        "# Filter Amount > 500\n",
        "filtered_df = df.filter(col(\"Amount\") > 500)\n",
        "filtered_df.show()\n",
        "\n",
        "# Filter from specific city (e.g., \"New York\")\n",
        "city_filtered_df = df.filter(col(\"City\") == \"New York\")\n",
        "city_filtered_df.show()\n",
        "\n"
      ],
      "metadata": {
        "colab": {
          "base_uri": "https://localhost:8080/"
        },
        "id": "ey8mush8TZgW",
        "outputId": "1c6325cd-58be-4c6a-ec26-8058908f4532"
      },
      "execution_count": 6,
      "outputs": [
        {
          "output_type": "stream",
          "name": "stdout",
          "text": [
            "+-------+------------------+------+\n",
            "|OrderID|      CustomerName|Amount|\n",
            "+-------+------------------+------+\n",
            "|   2824|     Donald Walker|783.04|\n",
            "|   7912|      Brandon Hall| 905.0|\n",
            "|   4611|      Donald Booth|657.96|\n",
            "|   3547|    Phillip Garcia|606.89|\n",
            "|   8527|      Valerie Gray| 77.87|\n",
            "|   4150|       Amber Perez|352.37|\n",
            "|   5554|        Roy Martin|148.33|\n",
            "|   2169|    Carolyn Daniel| 14.09|\n",
            "|   6313|       Patty Perez| 79.83|\n",
            "|   6155|Jonathan Wilkerson|882.68|\n",
            "|   9830|       Kevin Hurst|870.55|\n",
            "|   9085| Anthony Rodriguez|921.73|\n",
            "|   2040|     Kyle Mcdonald|327.52|\n",
            "|   6573|    Jeffrey Chavez|676.02|\n",
            "|   2743|  Elizabeth Fowler| 47.06|\n",
            "|   9837|     Tammy Sellers| 46.15|\n",
            "|   6038|     David Bradley|348.51|\n",
            "|   3060|       John Pierce|362.09|\n",
            "|   4295|   Jennifer Powers|684.26|\n",
            "|   5061|    George Chapman|251.89|\n",
            "+-------+------------------+------+\n",
            "only showing top 20 rows\n",
            "\n",
            "+-------+------------------+-----------+\n",
            "|OrderID|      CustomerName|OrderAmount|\n",
            "+-------+------------------+-----------+\n",
            "|   2824|     Donald Walker|     783.04|\n",
            "|   7912|      Brandon Hall|      905.0|\n",
            "|   4611|      Donald Booth|     657.96|\n",
            "|   3547|    Phillip Garcia|     606.89|\n",
            "|   8527|      Valerie Gray|      77.87|\n",
            "|   4150|       Amber Perez|     352.37|\n",
            "|   5554|        Roy Martin|     148.33|\n",
            "|   2169|    Carolyn Daniel|      14.09|\n",
            "|   6313|       Patty Perez|      79.83|\n",
            "|   6155|Jonathan Wilkerson|     882.68|\n",
            "|   9830|       Kevin Hurst|     870.55|\n",
            "|   9085| Anthony Rodriguez|     921.73|\n",
            "|   2040|     Kyle Mcdonald|     327.52|\n",
            "|   6573|    Jeffrey Chavez|     676.02|\n",
            "|   2743|  Elizabeth Fowler|      47.06|\n",
            "|   9837|     Tammy Sellers|      46.15|\n",
            "|   6038|     David Bradley|     348.51|\n",
            "|   3060|       John Pierce|     362.09|\n",
            "|   4295|   Jennifer Powers|     684.26|\n",
            "|   5061|    George Chapman|     251.89|\n",
            "+-------+------------------+-----------+\n",
            "only showing top 20 rows\n",
            "\n",
            "+-------+------------------+---------------+------+----------+--------------+--------+-----------------+-----------+-------------+\n",
            "|OrderID|      CustomerName|ProductCategory|Amount| OrderDate|DeliveryStatus|Discount|             City|PaymentMode|CustomerSince|\n",
            "+-------+------------------+---------------+------+----------+--------------+--------+-----------------+-----------+-------------+\n",
            "|   2824|     Donald Walker|          Books|783.04|2024-12-26|      Returned|    0.15|     Lake Joyside|Credit Card|   2020-10-15|\n",
            "|   7912|      Brandon Hall|      Groceries| 905.0|2024-09-12|     Cancelled|    0.03|    New Jamesside|     Wallet|   2022-03-15|\n",
            "|   4611|      Donald Booth|        Fashion|657.96|2025-01-12|      Returned|    0.01|     Lake Roberto|     Wallet|   2021-08-07|\n",
            "|   3547|    Phillip Garcia|        Fashion|606.89|2024-03-24|      Returned|    0.15| West Melanieview|     Wallet|   2020-08-08|\n",
            "|   6155|Jonathan Wilkerson|        Fashion|882.68|2024-10-14|     Cancelled|    0.27|       Thomasberg|       Cash|   2021-06-20|\n",
            "|   9830|       Kevin Hurst|          Books|870.55|2024-04-08|     Delivered|    0.22|      Jeffreyberg|     Wallet|   2022-08-02|\n",
            "|   9085| Anthony Rodriguez|      Groceries|921.73|2024-10-02|     Cancelled|    0.03|        Port Erin|        UPI|   2022-12-15|\n",
            "|   6573|    Jeffrey Chavez|          Books|676.02|2024-12-14|     Cancelled|    0.19|      Teresaburgh|     Wallet|   2022-07-30|\n",
            "|   4295|   Jennifer Powers|    Electronics|684.26|2024-03-19|     Cancelled|    0.21|         Lammouth|        UPI|   2020-12-06|\n",
            "|   1964|      Taylor Heath|           Toys| 578.5|2023-07-28|     Cancelled|    0.01|   West Elizabeth|       Cash|   2021-04-30|\n",
            "|   9834|    Timothy Duncan|    Electronics|944.55|2024-06-04|     Cancelled|    0.07|      Port Thomas|     Wallet|   2022-02-24|\n",
            "|   3296|     Donald Wright|        Fashion|579.99|2025-05-20|     Cancelled|    0.25|South Lindseyside|     Wallet|   2020-11-01|\n",
            "|   4502|  Stephanie Martin|    Electronics|656.32|2023-06-04|       Pending|     0.2|       Bakermouth|Credit Card|   2021-08-19|\n",
            "|   1931|      Angela Lopez|    Electronics|686.21|2024-09-07|     Cancelled|    0.17|Lake Michellefurt|        UPI|   2020-12-05|\n",
            "|   5033|     Amanda Miller|           Toys|552.76|2024-10-25|       Pending|    0.21|     Sarahborough|     Wallet|   2023-04-08|\n",
            "|   6147|      James Powers|           Toys|561.91|2024-01-22|     Cancelled|    0.05|      Stewartland|Credit Card|   2020-06-16|\n",
            "|   2127|      Jaclyn Moore|      Groceries|933.32|2025-03-11|      Returned|    0.01|      Cherylhaven|       Cash|   2020-06-14|\n",
            "|   5905|   Ashley Humphrey|          Books|844.87|2023-12-25|       Pending|    0.28|  North Juliaberg|       Cash|   2021-07-30|\n",
            "|   2512|   Sandra Williams|           Toys|630.21|2024-02-17|       Pending|    0.08|        Lake Tina|        UPI|   2021-02-08|\n",
            "|   8239|     Jessica Smith|          Books|610.08|2023-07-31|     Delivered|    0.09|        New Barry|        UPI|   2021-12-27|\n",
            "+-------+------------------+---------------+------+----------+--------------+--------+-----------------+-----------+-------------+\n",
            "only showing top 20 rows\n",
            "\n",
            "+-------+------------+---------------+------+---------+--------------+--------+----+-----------+-------------+\n",
            "|OrderID|CustomerName|ProductCategory|Amount|OrderDate|DeliveryStatus|Discount|City|PaymentMode|CustomerSince|\n",
            "+-------+------------+---------------+------+---------+--------------+--------+----+-----------+-------------+\n",
            "+-------+------------+---------------+------+---------+--------------+--------+----+-----------+-------------+\n",
            "\n"
          ]
        }
      ]
    },
    {
      "cell_type": "code",
      "source": [
        "# Drop CustomerSince\n",
        "df1 = df.drop(\"CustomerSince\")\n",
        "df1.show(5)  # Display top 5 rows\n",
        "\n",
        "# Add FinalAmount column\n",
        "df2 = df.withColumn(\"FinalAmount\", col(\"Amount\") - (col(\"Amount\") * col(\"Discount\")))\n",
        "df2.show(5)\n",
        "\n",
        "# Sort descending\n",
        "sorted_df = df2.orderBy(col(\"FinalAmount\").desc())\n",
        "sorted_df.show(5)\n",
        "\n",
        "# Replace Cancelled with Order Cancelled\n",
        "replaced_df = df.withColumn(\n",
        "    \"DeliveryStatus\",\n",
        "    when(col(\"DeliveryStatus\") == \"Cancelled\", \"Order Cancelled\").otherwise(col(\"DeliveryStatus\"))\n",
        ")\n",
        "replaced_df.show(5)\n",
        "\n"
      ],
      "metadata": {
        "colab": {
          "base_uri": "https://localhost:8080/"
        },
        "id": "NHMv3OKdTvTw",
        "outputId": "7c78ec85-a0ad-4d8a-89ce-f0772598f52b"
      },
      "execution_count": 8,
      "outputs": [
        {
          "output_type": "stream",
          "name": "stdout",
          "text": [
            "+-------+--------------+---------------+------+----------+--------------+--------+----------------+-----------+\n",
            "|OrderID|  CustomerName|ProductCategory|Amount| OrderDate|DeliveryStatus|Discount|            City|PaymentMode|\n",
            "+-------+--------------+---------------+------+----------+--------------+--------+----------------+-----------+\n",
            "|   2824| Donald Walker|          Books|783.04|2024-12-26|      Returned|    0.15|    Lake Joyside|Credit Card|\n",
            "|   7912|  Brandon Hall|      Groceries| 905.0|2024-09-12|     Cancelled|    0.03|   New Jamesside|     Wallet|\n",
            "|   4611|  Donald Booth|        Fashion|657.96|2025-01-12|      Returned|    0.01|    Lake Roberto|     Wallet|\n",
            "|   3547|Phillip Garcia|        Fashion|606.89|2024-03-24|      Returned|    0.15|West Melanieview|     Wallet|\n",
            "|   8527|  Valerie Gray|           Toys| 77.87|2024-08-04|     Delivered|    0.17|       Mariastad|       Cash|\n",
            "+-------+--------------+---------------+------+----------+--------------+--------+----------------+-----------+\n",
            "only showing top 5 rows\n",
            "\n",
            "+-------+--------------+---------------+------+----------+--------------+--------+----------------+-----------+-------------+-----------------+\n",
            "|OrderID|  CustomerName|ProductCategory|Amount| OrderDate|DeliveryStatus|Discount|            City|PaymentMode|CustomerSince|      FinalAmount|\n",
            "+-------+--------------+---------------+------+----------+--------------+--------+----------------+-----------+-------------+-----------------+\n",
            "|   2824| Donald Walker|          Books|783.04|2024-12-26|      Returned|    0.15|    Lake Joyside|Credit Card|   2020-10-15|          665.584|\n",
            "|   7912|  Brandon Hall|      Groceries| 905.0|2024-09-12|     Cancelled|    0.03|   New Jamesside|     Wallet|   2022-03-15|           877.85|\n",
            "|   4611|  Donald Booth|        Fashion|657.96|2025-01-12|      Returned|    0.01|    Lake Roberto|     Wallet|   2021-08-07|         651.3804|\n",
            "|   3547|Phillip Garcia|        Fashion|606.89|2024-03-24|      Returned|    0.15|West Melanieview|     Wallet|   2020-08-08|         515.8565|\n",
            "|   8527|  Valerie Gray|           Toys| 77.87|2024-08-04|     Delivered|    0.17|       Mariastad|       Cash|   2022-11-15|64.63210000000001|\n",
            "+-------+--------------+---------------+------+----------+--------------+--------+----------------+-----------+-------------+-----------------+\n",
            "only showing top 5 rows\n",
            "\n",
            "+-------+--------------+---------------+------+----------+--------------+--------+------------+-----------+-------------+-----------------+\n",
            "|OrderID|  CustomerName|ProductCategory|Amount| OrderDate|DeliveryStatus|Discount|        City|PaymentMode|CustomerSince|      FinalAmount|\n",
            "+-------+--------------+---------------+------+----------+--------------+--------+------------+-----------+-------------+-----------------+\n",
            "|   5573|Jordan Frazier|          Books|981.05|2025-03-19|     Cancelled|    0.02| Sheilaville|       Cash|   2021-07-12|          961.429|\n",
            "|   8474|   Heidi Brown|    Electronics|968.91|2023-11-23|     Cancelled|    0.02|  Riverafort|       Cash|   2023-03-19|         949.5318|\n",
            "|   8889|   Karen Garza|          Books| 998.3|2024-10-17|     Cancelled|    0.06|  Johnsonton|Credit Card|   2020-12-17|938.4019999999999|\n",
            "|   2127|  Jaclyn Moore|      Groceries|933.32|2025-03-11|      Returned|    0.01| Cherylhaven|       Cash|   2020-06-14|         923.9868|\n",
            "|   9806| Samantha Gill|      Groceries|993.17|2024-11-12|     Cancelled|    0.07|New Seanstad|     Wallet|   2020-10-01|         923.6481|\n",
            "+-------+--------------+---------------+------+----------+--------------+--------+------------+-----------+-------------+-----------------+\n",
            "only showing top 5 rows\n",
            "\n",
            "+-------+--------------+---------------+------+----------+---------------+--------+----------------+-----------+-------------+\n",
            "|OrderID|  CustomerName|ProductCategory|Amount| OrderDate| DeliveryStatus|Discount|            City|PaymentMode|CustomerSince|\n",
            "+-------+--------------+---------------+------+----------+---------------+--------+----------------+-----------+-------------+\n",
            "|   2824| Donald Walker|          Books|783.04|2024-12-26|       Returned|    0.15|    Lake Joyside|Credit Card|   2020-10-15|\n",
            "|   7912|  Brandon Hall|      Groceries| 905.0|2024-09-12|Order Cancelled|    0.03|   New Jamesside|     Wallet|   2022-03-15|\n",
            "|   4611|  Donald Booth|        Fashion|657.96|2025-01-12|       Returned|    0.01|    Lake Roberto|     Wallet|   2021-08-07|\n",
            "|   3547|Phillip Garcia|        Fashion|606.89|2024-03-24|       Returned|    0.15|West Melanieview|     Wallet|   2020-08-08|\n",
            "|   8527|  Valerie Gray|           Toys| 77.87|2024-08-04|      Delivered|    0.17|       Mariastad|       Cash|   2022-11-15|\n",
            "+-------+--------------+---------------+------+----------+---------------+--------+----------------+-----------+-------------+\n",
            "only showing top 5 rows\n",
            "\n"
          ]
        }
      ]
    },
    {
      "cell_type": "code",
      "source": [
        "# Count by DeliveryStatus\n",
        "df.groupBy(\"DeliveryStatus\").count().show()\n",
        "\n",
        "# Average Amount by ProductCategory\n",
        "df.groupBy(\"ProductCategory\").avg(\"Amount\").show()\n",
        "\n",
        "# Total sales by City\n",
        "df.groupBy(\"City\").sum(\"Amount\").withColumnRenamed(\"sum(Amount)\", \"TotalSales\").show()\n"
      ],
      "metadata": {
        "colab": {
          "base_uri": "https://localhost:8080/"
        },
        "id": "A-p_E4muUm_6",
        "outputId": "2fab95d9-bf92-47da-bd9f-c3e228e83da0"
      },
      "execution_count": 9,
      "outputs": [
        {
          "output_type": "stream",
          "name": "stdout",
          "text": [
            "+--------------+-----+\n",
            "|DeliveryStatus|count|\n",
            "+--------------+-----+\n",
            "|      Returned|  117|\n",
            "|     Cancelled|  149|\n",
            "|     Delivered|  119|\n",
            "|       Pending|  115|\n",
            "+--------------+-----+\n",
            "\n",
            "+---------------+------------------+\n",
            "|ProductCategory|       avg(Amount)|\n",
            "+---------------+------------------+\n",
            "|        Fashion| 500.6308235294116|\n",
            "|      Groceries|459.51786407766957|\n",
            "|    Electronics|           551.745|\n",
            "|          Books| 568.6003773584907|\n",
            "|           Toys| 534.2837499999999|\n",
            "+---------------+------------------+\n",
            "\n",
            "+----------------+----------+\n",
            "|            City|TotalSales|\n",
            "+----------------+----------+\n",
            "|     Ramseymouth|    761.06|\n",
            "|East Edwardshire|    291.26|\n",
            "|      Thomasberg|    882.68|\n",
            "|     Laurenville|    383.26|\n",
            "| South Colinstad|    786.27|\n",
            "|    Lake Douglas|    975.09|\n",
            "|   Williamsmouth|     10.78|\n",
            "|      Gordonport|    514.99|\n",
            "|  West Dawnmouth|      12.8|\n",
            "|        Seanbury|    814.39|\n",
            "|     Sheilaville|    981.05|\n",
            "|       Mollybury|    222.02|\n",
            "|       Lisaville|     45.69|\n",
            "| Lake Jerrymouth|    404.01|\n",
            "|       Perezfort|    917.55|\n",
            "|Port Nicoleshire|    133.78|\n",
            "|  South Samantha|    229.46|\n",
            "|     Port Willie|    788.13|\n",
            "|     Waltersfort|    552.81|\n",
            "|       Youngbury|    372.95|\n",
            "+----------------+----------+\n",
            "only showing top 20 rows\n",
            "\n"
          ]
        }
      ]
    },
    {
      "cell_type": "code",
      "source": [
        "from pyspark.sql.functions import col, when\n",
        "\n",
        "# Inject nulls into City\n",
        "df_with_nulls = df.withColumn(\"City\", when(col(\"OrderID\") % 10 == 0, None).otherwise(col(\"City\")))\n",
        "df_with_nulls.show(5)\n",
        "\n",
        "# fillna\n",
        "filled_df = df_with_nulls.fillna({\"City\": \"Unknown\"})\n",
        "filled_df.show(5)\n",
        "\n",
        "# dropna\n",
        "dropped_df = df_with_nulls.dropna(subset=[\"City\"])\n",
        "dropped_df.show(5)\n",
        "\n",
        "# Tag high-value customers\n",
        "tagged_df = df.withColumn(\"CustomerType\", when(col(\"Amount\") > 800, \"High-Value\").otherwise(\"Regular\"))\n",
        "tagged_df.show(5)\n",
        "\n"
      ],
      "metadata": {
        "colab": {
          "base_uri": "https://localhost:8080/"
        },
        "id": "EJqJE2GiUsy6",
        "outputId": "398c79b4-0f81-4d18-f1ac-e2334a7ac8e8"
      },
      "execution_count": 11,
      "outputs": [
        {
          "output_type": "stream",
          "name": "stdout",
          "text": [
            "+-------+--------------+---------------+------+----------+--------------+--------+----------------+-----------+-------------+\n",
            "|OrderID|  CustomerName|ProductCategory|Amount| OrderDate|DeliveryStatus|Discount|            City|PaymentMode|CustomerSince|\n",
            "+-------+--------------+---------------+------+----------+--------------+--------+----------------+-----------+-------------+\n",
            "|   2824| Donald Walker|          Books|783.04|2024-12-26|      Returned|    0.15|    Lake Joyside|Credit Card|   2020-10-15|\n",
            "|   7912|  Brandon Hall|      Groceries| 905.0|2024-09-12|     Cancelled|    0.03|   New Jamesside|     Wallet|   2022-03-15|\n",
            "|   4611|  Donald Booth|        Fashion|657.96|2025-01-12|      Returned|    0.01|    Lake Roberto|     Wallet|   2021-08-07|\n",
            "|   3547|Phillip Garcia|        Fashion|606.89|2024-03-24|      Returned|    0.15|West Melanieview|     Wallet|   2020-08-08|\n",
            "|   8527|  Valerie Gray|           Toys| 77.87|2024-08-04|     Delivered|    0.17|       Mariastad|       Cash|   2022-11-15|\n",
            "+-------+--------------+---------------+------+----------+--------------+--------+----------------+-----------+-------------+\n",
            "only showing top 5 rows\n",
            "\n",
            "+-------+--------------+---------------+------+----------+--------------+--------+----------------+-----------+-------------+\n",
            "|OrderID|  CustomerName|ProductCategory|Amount| OrderDate|DeliveryStatus|Discount|            City|PaymentMode|CustomerSince|\n",
            "+-------+--------------+---------------+------+----------+--------------+--------+----------------+-----------+-------------+\n",
            "|   2824| Donald Walker|          Books|783.04|2024-12-26|      Returned|    0.15|    Lake Joyside|Credit Card|   2020-10-15|\n",
            "|   7912|  Brandon Hall|      Groceries| 905.0|2024-09-12|     Cancelled|    0.03|   New Jamesside|     Wallet|   2022-03-15|\n",
            "|   4611|  Donald Booth|        Fashion|657.96|2025-01-12|      Returned|    0.01|    Lake Roberto|     Wallet|   2021-08-07|\n",
            "|   3547|Phillip Garcia|        Fashion|606.89|2024-03-24|      Returned|    0.15|West Melanieview|     Wallet|   2020-08-08|\n",
            "|   8527|  Valerie Gray|           Toys| 77.87|2024-08-04|     Delivered|    0.17|       Mariastad|       Cash|   2022-11-15|\n",
            "+-------+--------------+---------------+------+----------+--------------+--------+----------------+-----------+-------------+\n",
            "only showing top 5 rows\n",
            "\n",
            "+-------+--------------+---------------+------+----------+--------------+--------+----------------+-----------+-------------+\n",
            "|OrderID|  CustomerName|ProductCategory|Amount| OrderDate|DeliveryStatus|Discount|            City|PaymentMode|CustomerSince|\n",
            "+-------+--------------+---------------+------+----------+--------------+--------+----------------+-----------+-------------+\n",
            "|   2824| Donald Walker|          Books|783.04|2024-12-26|      Returned|    0.15|    Lake Joyside|Credit Card|   2020-10-15|\n",
            "|   7912|  Brandon Hall|      Groceries| 905.0|2024-09-12|     Cancelled|    0.03|   New Jamesside|     Wallet|   2022-03-15|\n",
            "|   4611|  Donald Booth|        Fashion|657.96|2025-01-12|      Returned|    0.01|    Lake Roberto|     Wallet|   2021-08-07|\n",
            "|   3547|Phillip Garcia|        Fashion|606.89|2024-03-24|      Returned|    0.15|West Melanieview|     Wallet|   2020-08-08|\n",
            "|   8527|  Valerie Gray|           Toys| 77.87|2024-08-04|     Delivered|    0.17|       Mariastad|       Cash|   2022-11-15|\n",
            "+-------+--------------+---------------+------+----------+--------------+--------+----------------+-----------+-------------+\n",
            "only showing top 5 rows\n",
            "\n",
            "+-------+--------------+---------------+------+----------+--------------+--------+----------------+-----------+-------------+------------+\n",
            "|OrderID|  CustomerName|ProductCategory|Amount| OrderDate|DeliveryStatus|Discount|            City|PaymentMode|CustomerSince|CustomerType|\n",
            "+-------+--------------+---------------+------+----------+--------------+--------+----------------+-----------+-------------+------------+\n",
            "|   2824| Donald Walker|          Books|783.04|2024-12-26|      Returned|    0.15|    Lake Joyside|Credit Card|   2020-10-15|     Regular|\n",
            "|   7912|  Brandon Hall|      Groceries| 905.0|2024-09-12|     Cancelled|    0.03|   New Jamesside|     Wallet|   2022-03-15|  High-Value|\n",
            "|   4611|  Donald Booth|        Fashion|657.96|2025-01-12|      Returned|    0.01|    Lake Roberto|     Wallet|   2021-08-07|     Regular|\n",
            "|   3547|Phillip Garcia|        Fashion|606.89|2024-03-24|      Returned|    0.15|West Melanieview|     Wallet|   2020-08-08|     Regular|\n",
            "|   8527|  Valerie Gray|           Toys| 77.87|2024-08-04|     Delivered|    0.17|       Mariastad|       Cash|   2022-11-15|     Regular|\n",
            "+-------+--------------+---------------+------+----------+--------------+--------+----------------+-----------+-------------+------------+\n",
            "only showing top 5 rows\n",
            "\n"
          ]
        }
      ]
    },
    {
      "cell_type": "code",
      "source": [
        "from pyspark.sql.functions import year, month, datediff, current_date, col\n",
        "\n",
        "# Extract year and month\n",
        "df_date = df.withColumn(\"OrderYear\", year(\"OrderDate\")) \\\n",
        "            .withColumn(\"OrderMonth\", month(\"OrderDate\"))\n",
        "df_date.select(\"OrderDate\", \"OrderYear\", \"OrderMonth\").show(5)\n",
        "\n",
        "# Customer loyalty in years\n",
        "df_loyalty = df.withColumn(\"LoyaltyYears\", (datediff(current_date(), col(\"CustomerSince\")) / 365).cast(\"int\"))\n",
        "df_loyalty.select(\"CustomerName\", \"CustomerSince\", \"LoyaltyYears\").show(5)\n",
        "\n"
      ],
      "metadata": {
        "colab": {
          "base_uri": "https://localhost:8080/"
        },
        "id": "ZtBt7Um8VUna",
        "outputId": "4792d8d2-2851-4bf8-ab65-13f646a14a1f"
      },
      "execution_count": 13,
      "outputs": [
        {
          "output_type": "stream",
          "name": "stdout",
          "text": [
            "+----------+---------+----------+\n",
            "| OrderDate|OrderYear|OrderMonth|\n",
            "+----------+---------+----------+\n",
            "|2024-12-26|     2024|        12|\n",
            "|2024-09-12|     2024|         9|\n",
            "|2025-01-12|     2025|         1|\n",
            "|2024-03-24|     2024|         3|\n",
            "|2024-08-04|     2024|         8|\n",
            "+----------+---------+----------+\n",
            "only showing top 5 rows\n",
            "\n",
            "+--------------+-------------+------------+\n",
            "|  CustomerName|CustomerSince|LoyaltyYears|\n",
            "+--------------+-------------+------------+\n",
            "| Donald Walker|   2020-10-15|           4|\n",
            "|  Brandon Hall|   2022-03-15|           3|\n",
            "|  Donald Booth|   2021-08-07|           3|\n",
            "|Phillip Garcia|   2020-08-08|           4|\n",
            "|  Valerie Gray|   2022-11-15|           2|\n",
            "+--------------+-------------+------------+\n",
            "only showing top 5 rows\n",
            "\n"
          ]
        }
      ]
    },
    {
      "cell_type": "code",
      "source": [
        "from pyspark.sql.functions import year\n",
        "\n",
        "# Region DataFrame\n",
        "region_data = [(\"New York\", \"East\"), (\"Los Angeles\", \"West\"), (\"Chicago\", \"Midwest\")]\n",
        "region_df = spark.createDataFrame(region_data, [\"City\", \"Region\"])\n",
        "region_df.show()\n",
        "\n",
        "# Inner Join\n",
        "inner_join = df.join(region_df, on=\"City\", how=\"inner\")\n",
        "inner_join.show(5)\n",
        "\n",
        "# Left Join\n",
        "left_join = df.join(region_df, on=\"City\", how=\"left\")\n",
        "left_join.show(5)\n",
        "\n",
        "# Union orders from 2023 and 2024\n",
        "orders_2023 = df.filter(year(\"OrderDate\") == 2023)\n",
        "orders_2024 = df.filter(year(\"OrderDate\") == 2024)\n",
        "union_df = orders_2023.union(orders_2024)\n",
        "union_df.show(5)\n"
      ],
      "metadata": {
        "colab": {
          "base_uri": "https://localhost:8080/"
        },
        "id": "52PN9fbBVkJo",
        "outputId": "259dd55e-7b99-4825-83f4-b04450544ee1"
      },
      "execution_count": 14,
      "outputs": [
        {
          "output_type": "stream",
          "name": "stdout",
          "text": [
            "+-----------+-------+\n",
            "|       City| Region|\n",
            "+-----------+-------+\n",
            "|   New York|   East|\n",
            "|Los Angeles|   West|\n",
            "|    Chicago|Midwest|\n",
            "+-----------+-------+\n",
            "\n",
            "+----+-------+------------+---------------+------+---------+--------------+--------+-----------+-------------+------+\n",
            "|City|OrderID|CustomerName|ProductCategory|Amount|OrderDate|DeliveryStatus|Discount|PaymentMode|CustomerSince|Region|\n",
            "+----+-------+------------+---------------+------+---------+--------------+--------+-----------+-------------+------+\n",
            "+----+-------+------------+---------------+------+---------+--------------+--------+-----------+-------------+------+\n",
            "\n",
            "+----------------+-------+--------------+---------------+------+----------+--------------+--------+-----------+-------------+------+\n",
            "|            City|OrderID|  CustomerName|ProductCategory|Amount| OrderDate|DeliveryStatus|Discount|PaymentMode|CustomerSince|Region|\n",
            "+----------------+-------+--------------+---------------+------+----------+--------------+--------+-----------+-------------+------+\n",
            "| Port Jesseville|   4150|   Amber Perez|          Books|352.37|2024-01-13|     Cancelled|    0.24|       Cash|   2022-01-13|  NULL|\n",
            "|    Lake Joyside|   2824| Donald Walker|          Books|783.04|2024-12-26|      Returned|    0.15|Credit Card|   2020-10-15|  NULL|\n",
            "|    Lake Roberto|   4611|  Donald Booth|        Fashion|657.96|2025-01-12|      Returned|    0.01|     Wallet|   2021-08-07|  NULL|\n",
            "|West Melanieview|   3547|Phillip Garcia|        Fashion|606.89|2024-03-24|      Returned|    0.15|     Wallet|   2020-08-08|  NULL|\n",
            "|   New Jamesside|   7912|  Brandon Hall|      Groceries| 905.0|2024-09-12|     Cancelled|    0.03|     Wallet|   2022-03-15|  NULL|\n",
            "+----------------+-------+--------------+---------------+------+----------+--------------+--------+-----------+-------------+------+\n",
            "only showing top 5 rows\n",
            "\n",
            "+-------+--------------+---------------+------+----------+--------------+--------+-----------------+-----------+-------------+\n",
            "|OrderID|  CustomerName|ProductCategory|Amount| OrderDate|DeliveryStatus|Discount|             City|PaymentMode|CustomerSince|\n",
            "+-------+--------------+---------------+------+----------+--------------+--------+-----------------+-----------+-------------+\n",
            "|   2169|Carolyn Daniel|    Electronics| 14.09|2023-10-07|     Delivered|    0.25|         Grayside|Credit Card|   2021-05-09|\n",
            "|   6313|   Patty Perez|      Groceries| 79.83|2023-06-27|     Cancelled|    0.12|      Richardland|Credit Card|   2021-04-25|\n",
            "|   2040| Kyle Mcdonald|           Toys|327.52|2023-12-15|      Returned|    0.06|Lake Jenniferside|     Wallet|   2021-07-21|\n",
            "|   6038| David Bradley|        Fashion|348.51|2023-08-03|      Returned|    0.23|    Lake Toddland|        UPI|   2022-09-07|\n",
            "|   3060|   John Pierce|           Toys|362.09|2023-12-25|      Returned|    0.03|       Brandtside|       Cash|   2023-05-09|\n",
            "+-------+--------------+---------------+------+----------+--------------+--------+-----------------+-----------+-------------+\n",
            "only showing top 5 rows\n",
            "\n"
          ]
        }
      ]
    },
    {
      "cell_type": "code",
      "source": [
        "from pyspark.sql.functions import to_json, from_json, schema_of_json, expr\n",
        "\n",
        "# Convert each row to JSON\n",
        "json_df = df.withColumn(\"json_col\", to_json(expr(\"struct(*)\")))\n",
        "json_df.select(\"json_col\").show(5, truncate=False)\n",
        "\n",
        "# Infer schema and parse JSON back\n",
        "json_schema = schema_of_json(json_df.select(\"json_col\").first()[\"json_col\"])\n",
        "df_from_json = json_df.select(from_json(\"json_col\", json_schema).alias(\"data\")).select(\"data.*\")\n",
        "df_from_json.show(5)\n"
      ],
      "metadata": {
        "colab": {
          "base_uri": "https://localhost:8080/"
        },
        "id": "9ZOwMsaCV1UO",
        "outputId": "e4cc9be2-98cc-46d1-e372-c909cd5c3f1e"
      },
      "execution_count": 15,
      "outputs": [
        {
          "output_type": "stream",
          "name": "stdout",
          "text": [
            "+-----------------------------------------------------------------------------------------------------------------------------------------------------------------------------------------------------------------------------------------------+\n",
            "|json_col                                                                                                                                                                                                                                       |\n",
            "+-----------------------------------------------------------------------------------------------------------------------------------------------------------------------------------------------------------------------------------------------+\n",
            "|{\"OrderID\":2824,\"CustomerName\":\"Donald Walker\",\"ProductCategory\":\"Books\",\"Amount\":783.04,\"OrderDate\":\"2024-12-26\",\"DeliveryStatus\":\"Returned\",\"Discount\":0.15,\"City\":\"Lake Joyside\",\"PaymentMode\":\"Credit Card\",\"CustomerSince\":\"2020-10-15\"}  |\n",
            "|{\"OrderID\":7912,\"CustomerName\":\"Brandon Hall\",\"ProductCategory\":\"Groceries\",\"Amount\":905.0,\"OrderDate\":\"2024-09-12\",\"DeliveryStatus\":\"Cancelled\",\"Discount\":0.03,\"City\":\"New Jamesside\",\"PaymentMode\":\"Wallet\",\"CustomerSince\":\"2022-03-15\"}   |\n",
            "|{\"OrderID\":4611,\"CustomerName\":\"Donald Booth\",\"ProductCategory\":\"Fashion\",\"Amount\":657.96,\"OrderDate\":\"2025-01-12\",\"DeliveryStatus\":\"Returned\",\"Discount\":0.01,\"City\":\"Lake Roberto\",\"PaymentMode\":\"Wallet\",\"CustomerSince\":\"2021-08-07\"}      |\n",
            "|{\"OrderID\":3547,\"CustomerName\":\"Phillip Garcia\",\"ProductCategory\":\"Fashion\",\"Amount\":606.89,\"OrderDate\":\"2024-03-24\",\"DeliveryStatus\":\"Returned\",\"Discount\":0.15,\"City\":\"West Melanieview\",\"PaymentMode\":\"Wallet\",\"CustomerSince\":\"2020-08-08\"}|\n",
            "|{\"OrderID\":8527,\"CustomerName\":\"Valerie Gray\",\"ProductCategory\":\"Toys\",\"Amount\":77.87,\"OrderDate\":\"2024-08-04\",\"DeliveryStatus\":\"Delivered\",\"Discount\":0.17,\"City\":\"Mariastad\",\"PaymentMode\":\"Cash\",\"CustomerSince\":\"2022-11-15\"}              |\n",
            "+-----------------------------------------------------------------------------------------------------------------------------------------------------------------------------------------------------------------------------------------------+\n",
            "only showing top 5 rows\n",
            "\n",
            "+------+----------------+--------------+-------------+--------------+--------+----------+-------+-----------+---------------+\n",
            "|Amount|            City|  CustomerName|CustomerSince|DeliveryStatus|Discount| OrderDate|OrderID|PaymentMode|ProductCategory|\n",
            "+------+----------------+--------------+-------------+--------------+--------+----------+-------+-----------+---------------+\n",
            "|783.04|    Lake Joyside| Donald Walker|   2020-10-15|      Returned|    0.15|2024-12-26|   2824|Credit Card|          Books|\n",
            "| 905.0|   New Jamesside|  Brandon Hall|   2022-03-15|     Cancelled|    0.03|2024-09-12|   7912|     Wallet|      Groceries|\n",
            "|657.96|    Lake Roberto|  Donald Booth|   2021-08-07|      Returned|    0.01|2025-01-12|   4611|     Wallet|        Fashion|\n",
            "|606.89|West Melanieview|Phillip Garcia|   2020-08-08|      Returned|    0.15|2024-03-24|   3547|     Wallet|        Fashion|\n",
            "| 77.87|       Mariastad|  Valerie Gray|   2022-11-15|     Delivered|    0.17|2024-08-04|   8527|       Cash|           Toys|\n",
            "+------+----------------+--------------+-------------+--------------+--------+----------+-------+-----------+---------------+\n",
            "only showing top 5 rows\n",
            "\n"
          ]
        }
      ]
    },
    {
      "cell_type": "code",
      "source": [
        "from pyspark.sql.functions import udf\n",
        "from pyspark.sql.types import StringType\n",
        "\n",
        "# Define function\n",
        "def tag_order(amount):\n",
        "    if amount > 800:\n",
        "        return \"Big\"\n",
        "    elif amount > 400:\n",
        "        return \"Medium\"\n",
        "    else:\n",
        "        return \"Small\"\n",
        "\n",
        "# Register as UDF\n",
        "tag_udf = udf(tag_order, StringType())\n",
        "\n",
        "# Apply UDF\n",
        "tagged_orders_df = df.withColumn(\"OrderSize\", tag_udf(col(\"Amount\")))\n",
        "tagged_orders_df.select(\"OrderID\", \"Amount\", \"OrderSize\").show(5)\n"
      ],
      "metadata": {
        "colab": {
          "base_uri": "https://localhost:8080/"
        },
        "id": "f8jC0ZLaV5sy",
        "outputId": "4acc8753-5625-46cf-8ff6-8c972d9ba832"
      },
      "execution_count": 16,
      "outputs": [
        {
          "output_type": "stream",
          "name": "stdout",
          "text": [
            "+-------+------+---------+\n",
            "|OrderID|Amount|OrderSize|\n",
            "+-------+------+---------+\n",
            "|   2824|783.04|   Medium|\n",
            "|   7912| 905.0|      Big|\n",
            "|   4611|657.96|   Medium|\n",
            "|   3547|606.89|   Medium|\n",
            "|   8527| 77.87|    Small|\n",
            "+-------+------+---------+\n",
            "only showing top 5 rows\n",
            "\n"
          ]
        }
      ]
    }
  ]
}