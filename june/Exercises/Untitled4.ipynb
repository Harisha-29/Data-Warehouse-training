{
  "nbformat": 4,
  "nbformat_minor": 0,
  "metadata": {
    "colab": {
      "provenance": [],
      "toc_visible": true
    },
    "kernelspec": {
      "name": "python3",
      "display_name": "Python 3"
    },
    "language_info": {
      "name": "python"
    }
  },
  "cells": [
    {
      "cell_type": "code",
      "execution_count": 2,
      "metadata": {
        "colab": {
          "base_uri": "https://localhost:8080/",
          "height": 262
        },
        "id": "sK5PygEcIkNl",
        "outputId": "52134195-5475-4c56-9d7a-d601f59d8468"
      },
      "outputs": [
        {
          "output_type": "display_data",
          "data": {
            "text/plain": [
              "<IPython.core.display.HTML object>"
            ],
            "text/html": [
              "\n",
              "     <input type=\"file\" id=\"files-ee69d057-f17e-4d05-906a-d205c2401e60\" name=\"files[]\" multiple disabled\n",
              "        style=\"border:none\" />\n",
              "     <output id=\"result-ee69d057-f17e-4d05-906a-d205c2401e60\">\n",
              "      Upload widget is only available when the cell has been executed in the\n",
              "      current browser session. Please rerun this cell to enable.\n",
              "      </output>\n",
              "      <script>// Copyright 2017 Google LLC\n",
              "//\n",
              "// Licensed under the Apache License, Version 2.0 (the \"License\");\n",
              "// you may not use this file except in compliance with the License.\n",
              "// You may obtain a copy of the License at\n",
              "//\n",
              "//      http://www.apache.org/licenses/LICENSE-2.0\n",
              "//\n",
              "// Unless required by applicable law or agreed to in writing, software\n",
              "// distributed under the License is distributed on an \"AS IS\" BASIS,\n",
              "// WITHOUT WARRANTIES OR CONDITIONS OF ANY KIND, either express or implied.\n",
              "// See the License for the specific language governing permissions and\n",
              "// limitations under the License.\n",
              "\n",
              "/**\n",
              " * @fileoverview Helpers for google.colab Python module.\n",
              " */\n",
              "(function(scope) {\n",
              "function span(text, styleAttributes = {}) {\n",
              "  const element = document.createElement('span');\n",
              "  element.textContent = text;\n",
              "  for (const key of Object.keys(styleAttributes)) {\n",
              "    element.style[key] = styleAttributes[key];\n",
              "  }\n",
              "  return element;\n",
              "}\n",
              "\n",
              "// Max number of bytes which will be uploaded at a time.\n",
              "const MAX_PAYLOAD_SIZE = 100 * 1024;\n",
              "\n",
              "function _uploadFiles(inputId, outputId) {\n",
              "  const steps = uploadFilesStep(inputId, outputId);\n",
              "  const outputElement = document.getElementById(outputId);\n",
              "  // Cache steps on the outputElement to make it available for the next call\n",
              "  // to uploadFilesContinue from Python.\n",
              "  outputElement.steps = steps;\n",
              "\n",
              "  return _uploadFilesContinue(outputId);\n",
              "}\n",
              "\n",
              "// This is roughly an async generator (not supported in the browser yet),\n",
              "// where there are multiple asynchronous steps and the Python side is going\n",
              "// to poll for completion of each step.\n",
              "// This uses a Promise to block the python side on completion of each step,\n",
              "// then passes the result of the previous step as the input to the next step.\n",
              "function _uploadFilesContinue(outputId) {\n",
              "  const outputElement = document.getElementById(outputId);\n",
              "  const steps = outputElement.steps;\n",
              "\n",
              "  const next = steps.next(outputElement.lastPromiseValue);\n",
              "  return Promise.resolve(next.value.promise).then((value) => {\n",
              "    // Cache the last promise value to make it available to the next\n",
              "    // step of the generator.\n",
              "    outputElement.lastPromiseValue = value;\n",
              "    return next.value.response;\n",
              "  });\n",
              "}\n",
              "\n",
              "/**\n",
              " * Generator function which is called between each async step of the upload\n",
              " * process.\n",
              " * @param {string} inputId Element ID of the input file picker element.\n",
              " * @param {string} outputId Element ID of the output display.\n",
              " * @return {!Iterable<!Object>} Iterable of next steps.\n",
              " */\n",
              "function* uploadFilesStep(inputId, outputId) {\n",
              "  const inputElement = document.getElementById(inputId);\n",
              "  inputElement.disabled = false;\n",
              "\n",
              "  const outputElement = document.getElementById(outputId);\n",
              "  outputElement.innerHTML = '';\n",
              "\n",
              "  const pickedPromise = new Promise((resolve) => {\n",
              "    inputElement.addEventListener('change', (e) => {\n",
              "      resolve(e.target.files);\n",
              "    });\n",
              "  });\n",
              "\n",
              "  const cancel = document.createElement('button');\n",
              "  inputElement.parentElement.appendChild(cancel);\n",
              "  cancel.textContent = 'Cancel upload';\n",
              "  const cancelPromise = new Promise((resolve) => {\n",
              "    cancel.onclick = () => {\n",
              "      resolve(null);\n",
              "    };\n",
              "  });\n",
              "\n",
              "  // Wait for the user to pick the files.\n",
              "  const files = yield {\n",
              "    promise: Promise.race([pickedPromise, cancelPromise]),\n",
              "    response: {\n",
              "      action: 'starting',\n",
              "    }\n",
              "  };\n",
              "\n",
              "  cancel.remove();\n",
              "\n",
              "  // Disable the input element since further picks are not allowed.\n",
              "  inputElement.disabled = true;\n",
              "\n",
              "  if (!files) {\n",
              "    return {\n",
              "      response: {\n",
              "        action: 'complete',\n",
              "      }\n",
              "    };\n",
              "  }\n",
              "\n",
              "  for (const file of files) {\n",
              "    const li = document.createElement('li');\n",
              "    li.append(span(file.name, {fontWeight: 'bold'}));\n",
              "    li.append(span(\n",
              "        `(${file.type || 'n/a'}) - ${file.size} bytes, ` +\n",
              "        `last modified: ${\n",
              "            file.lastModifiedDate ? file.lastModifiedDate.toLocaleDateString() :\n",
              "                                    'n/a'} - `));\n",
              "    const percent = span('0% done');\n",
              "    li.appendChild(percent);\n",
              "\n",
              "    outputElement.appendChild(li);\n",
              "\n",
              "    const fileDataPromise = new Promise((resolve) => {\n",
              "      const reader = new FileReader();\n",
              "      reader.onload = (e) => {\n",
              "        resolve(e.target.result);\n",
              "      };\n",
              "      reader.readAsArrayBuffer(file);\n",
              "    });\n",
              "    // Wait for the data to be ready.\n",
              "    let fileData = yield {\n",
              "      promise: fileDataPromise,\n",
              "      response: {\n",
              "        action: 'continue',\n",
              "      }\n",
              "    };\n",
              "\n",
              "    // Use a chunked sending to avoid message size limits. See b/62115660.\n",
              "    let position = 0;\n",
              "    do {\n",
              "      const length = Math.min(fileData.byteLength - position, MAX_PAYLOAD_SIZE);\n",
              "      const chunk = new Uint8Array(fileData, position, length);\n",
              "      position += length;\n",
              "\n",
              "      const base64 = btoa(String.fromCharCode.apply(null, chunk));\n",
              "      yield {\n",
              "        response: {\n",
              "          action: 'append',\n",
              "          file: file.name,\n",
              "          data: base64,\n",
              "        },\n",
              "      };\n",
              "\n",
              "      let percentDone = fileData.byteLength === 0 ?\n",
              "          100 :\n",
              "          Math.round((position / fileData.byteLength) * 100);\n",
              "      percent.textContent = `${percentDone}% done`;\n",
              "\n",
              "    } while (position < fileData.byteLength);\n",
              "  }\n",
              "\n",
              "  // All done.\n",
              "  yield {\n",
              "    response: {\n",
              "      action: 'complete',\n",
              "    }\n",
              "  };\n",
              "}\n",
              "\n",
              "scope.google = scope.google || {};\n",
              "scope.google.colab = scope.google.colab || {};\n",
              "scope.google.colab._files = {\n",
              "  _uploadFiles,\n",
              "  _uploadFilesContinue,\n",
              "};\n",
              "})(self);\n",
              "</script> "
            ]
          },
          "metadata": {}
        },
        {
          "output_type": "stream",
          "name": "stdout",
          "text": [
            "Saving large_employee_dataset.csv to large_employee_dataset.csv\n"
          ]
        },
        {
          "output_type": "execute_result",
          "data": {
            "text/plain": [
              "   EmployeeID                 Name  Age Department  Salary JoiningDate  \\\n",
              "0        4128      Charles Johnson   52         HR   64039  2018-07-07   \n",
              "1        6094        Dylan Camacho   57  Marketing   34686  2015-08-25   \n",
              "2        5883  Mr. Ryan Bowman Jr.   29    Finance   64541  2025-03-11   \n",
              "3        9146           Brian Ball   24      Sales   87831  2015-10-01   \n",
              "4        1918        Angela Hooper   26    Finance  108773  2019-08-14   \n",
              "\n",
              "     Status          City  \n",
              "0  Resigned     Allentown  \n",
              "1    Active   Anthonyfort  \n",
              "2  On Leave     Gilesstad  \n",
              "3  Resigned  Jenniferfurt  \n",
              "4  On Leave  Lake Amystad  "
            ],
            "text/html": [
              "\n",
              "  <div id=\"df-9ffb226e-4a9b-4337-94aa-11c10433a43f\" class=\"colab-df-container\">\n",
              "    <div>\n",
              "<style scoped>\n",
              "    .dataframe tbody tr th:only-of-type {\n",
              "        vertical-align: middle;\n",
              "    }\n",
              "\n",
              "    .dataframe tbody tr th {\n",
              "        vertical-align: top;\n",
              "    }\n",
              "\n",
              "    .dataframe thead th {\n",
              "        text-align: right;\n",
              "    }\n",
              "</style>\n",
              "<table border=\"1\" class=\"dataframe\">\n",
              "  <thead>\n",
              "    <tr style=\"text-align: right;\">\n",
              "      <th></th>\n",
              "      <th>EmployeeID</th>\n",
              "      <th>Name</th>\n",
              "      <th>Age</th>\n",
              "      <th>Department</th>\n",
              "      <th>Salary</th>\n",
              "      <th>JoiningDate</th>\n",
              "      <th>Status</th>\n",
              "      <th>City</th>\n",
              "    </tr>\n",
              "  </thead>\n",
              "  <tbody>\n",
              "    <tr>\n",
              "      <th>0</th>\n",
              "      <td>4128</td>\n",
              "      <td>Charles Johnson</td>\n",
              "      <td>52</td>\n",
              "      <td>HR</td>\n",
              "      <td>64039</td>\n",
              "      <td>2018-07-07</td>\n",
              "      <td>Resigned</td>\n",
              "      <td>Allentown</td>\n",
              "    </tr>\n",
              "    <tr>\n",
              "      <th>1</th>\n",
              "      <td>6094</td>\n",
              "      <td>Dylan Camacho</td>\n",
              "      <td>57</td>\n",
              "      <td>Marketing</td>\n",
              "      <td>34686</td>\n",
              "      <td>2015-08-25</td>\n",
              "      <td>Active</td>\n",
              "      <td>Anthonyfort</td>\n",
              "    </tr>\n",
              "    <tr>\n",
              "      <th>2</th>\n",
              "      <td>5883</td>\n",
              "      <td>Mr. Ryan Bowman Jr.</td>\n",
              "      <td>29</td>\n",
              "      <td>Finance</td>\n",
              "      <td>64541</td>\n",
              "      <td>2025-03-11</td>\n",
              "      <td>On Leave</td>\n",
              "      <td>Gilesstad</td>\n",
              "    </tr>\n",
              "    <tr>\n",
              "      <th>3</th>\n",
              "      <td>9146</td>\n",
              "      <td>Brian Ball</td>\n",
              "      <td>24</td>\n",
              "      <td>Sales</td>\n",
              "      <td>87831</td>\n",
              "      <td>2015-10-01</td>\n",
              "      <td>Resigned</td>\n",
              "      <td>Jenniferfurt</td>\n",
              "    </tr>\n",
              "    <tr>\n",
              "      <th>4</th>\n",
              "      <td>1918</td>\n",
              "      <td>Angela Hooper</td>\n",
              "      <td>26</td>\n",
              "      <td>Finance</td>\n",
              "      <td>108773</td>\n",
              "      <td>2019-08-14</td>\n",
              "      <td>On Leave</td>\n",
              "      <td>Lake Amystad</td>\n",
              "    </tr>\n",
              "  </tbody>\n",
              "</table>\n",
              "</div>\n",
              "    <div class=\"colab-df-buttons\">\n",
              "\n",
              "  <div class=\"colab-df-container\">\n",
              "    <button class=\"colab-df-convert\" onclick=\"convertToInteractive('df-9ffb226e-4a9b-4337-94aa-11c10433a43f')\"\n",
              "            title=\"Convert this dataframe to an interactive table.\"\n",
              "            style=\"display:none;\">\n",
              "\n",
              "  <svg xmlns=\"http://www.w3.org/2000/svg\" height=\"24px\" viewBox=\"0 -960 960 960\">\n",
              "    <path d=\"M120-120v-720h720v720H120Zm60-500h600v-160H180v160Zm220 220h160v-160H400v160Zm0 220h160v-160H400v160ZM180-400h160v-160H180v160Zm440 0h160v-160H620v160ZM180-180h160v-160H180v160Zm440 0h160v-160H620v160Z\"/>\n",
              "  </svg>\n",
              "    </button>\n",
              "\n",
              "  <style>\n",
              "    .colab-df-container {\n",
              "      display:flex;\n",
              "      gap: 12px;\n",
              "    }\n",
              "\n",
              "    .colab-df-convert {\n",
              "      background-color: #E8F0FE;\n",
              "      border: none;\n",
              "      border-radius: 50%;\n",
              "      cursor: pointer;\n",
              "      display: none;\n",
              "      fill: #1967D2;\n",
              "      height: 32px;\n",
              "      padding: 0 0 0 0;\n",
              "      width: 32px;\n",
              "    }\n",
              "\n",
              "    .colab-df-convert:hover {\n",
              "      background-color: #E2EBFA;\n",
              "      box-shadow: 0px 1px 2px rgba(60, 64, 67, 0.3), 0px 1px 3px 1px rgba(60, 64, 67, 0.15);\n",
              "      fill: #174EA6;\n",
              "    }\n",
              "\n",
              "    .colab-df-buttons div {\n",
              "      margin-bottom: 4px;\n",
              "    }\n",
              "\n",
              "    [theme=dark] .colab-df-convert {\n",
              "      background-color: #3B4455;\n",
              "      fill: #D2E3FC;\n",
              "    }\n",
              "\n",
              "    [theme=dark] .colab-df-convert:hover {\n",
              "      background-color: #434B5C;\n",
              "      box-shadow: 0px 1px 3px 1px rgba(0, 0, 0, 0.15);\n",
              "      filter: drop-shadow(0px 1px 2px rgba(0, 0, 0, 0.3));\n",
              "      fill: #FFFFFF;\n",
              "    }\n",
              "  </style>\n",
              "\n",
              "    <script>\n",
              "      const buttonEl =\n",
              "        document.querySelector('#df-9ffb226e-4a9b-4337-94aa-11c10433a43f button.colab-df-convert');\n",
              "      buttonEl.style.display =\n",
              "        google.colab.kernel.accessAllowed ? 'block' : 'none';\n",
              "\n",
              "      async function convertToInteractive(key) {\n",
              "        const element = document.querySelector('#df-9ffb226e-4a9b-4337-94aa-11c10433a43f');\n",
              "        const dataTable =\n",
              "          await google.colab.kernel.invokeFunction('convertToInteractive',\n",
              "                                                    [key], {});\n",
              "        if (!dataTable) return;\n",
              "\n",
              "        const docLinkHtml = 'Like what you see? Visit the ' +\n",
              "          '<a target=\"_blank\" href=https://colab.research.google.com/notebooks/data_table.ipynb>data table notebook</a>'\n",
              "          + ' to learn more about interactive tables.';\n",
              "        element.innerHTML = '';\n",
              "        dataTable['output_type'] = 'display_data';\n",
              "        await google.colab.output.renderOutput(dataTable, element);\n",
              "        const docLink = document.createElement('div');\n",
              "        docLink.innerHTML = docLinkHtml;\n",
              "        element.appendChild(docLink);\n",
              "      }\n",
              "    </script>\n",
              "  </div>\n",
              "\n",
              "\n",
              "<div id=\"df-a72446c0-e076-4713-81fe-063de756d96d\">\n",
              "  <button class=\"colab-df-quickchart\" onclick=\"quickchart('df-a72446c0-e076-4713-81fe-063de756d96d')\"\n",
              "            title=\"Suggest charts\"\n",
              "            style=\"display:none;\">\n",
              "\n",
              "<svg xmlns=\"http://www.w3.org/2000/svg\" height=\"24px\"viewBox=\"0 0 24 24\"\n",
              "     width=\"24px\">\n",
              "    <g>\n",
              "        <path d=\"M19 3H5c-1.1 0-2 .9-2 2v14c0 1.1.9 2 2 2h14c1.1 0 2-.9 2-2V5c0-1.1-.9-2-2-2zM9 17H7v-7h2v7zm4 0h-2V7h2v10zm4 0h-2v-4h2v4z\"/>\n",
              "    </g>\n",
              "</svg>\n",
              "  </button>\n",
              "\n",
              "<style>\n",
              "  .colab-df-quickchart {\n",
              "      --bg-color: #E8F0FE;\n",
              "      --fill-color: #1967D2;\n",
              "      --hover-bg-color: #E2EBFA;\n",
              "      --hover-fill-color: #174EA6;\n",
              "      --disabled-fill-color: #AAA;\n",
              "      --disabled-bg-color: #DDD;\n",
              "  }\n",
              "\n",
              "  [theme=dark] .colab-df-quickchart {\n",
              "      --bg-color: #3B4455;\n",
              "      --fill-color: #D2E3FC;\n",
              "      --hover-bg-color: #434B5C;\n",
              "      --hover-fill-color: #FFFFFF;\n",
              "      --disabled-bg-color: #3B4455;\n",
              "      --disabled-fill-color: #666;\n",
              "  }\n",
              "\n",
              "  .colab-df-quickchart {\n",
              "    background-color: var(--bg-color);\n",
              "    border: none;\n",
              "    border-radius: 50%;\n",
              "    cursor: pointer;\n",
              "    display: none;\n",
              "    fill: var(--fill-color);\n",
              "    height: 32px;\n",
              "    padding: 0;\n",
              "    width: 32px;\n",
              "  }\n",
              "\n",
              "  .colab-df-quickchart:hover {\n",
              "    background-color: var(--hover-bg-color);\n",
              "    box-shadow: 0 1px 2px rgba(60, 64, 67, 0.3), 0 1px 3px 1px rgba(60, 64, 67, 0.15);\n",
              "    fill: var(--button-hover-fill-color);\n",
              "  }\n",
              "\n",
              "  .colab-df-quickchart-complete:disabled,\n",
              "  .colab-df-quickchart-complete:disabled:hover {\n",
              "    background-color: var(--disabled-bg-color);\n",
              "    fill: var(--disabled-fill-color);\n",
              "    box-shadow: none;\n",
              "  }\n",
              "\n",
              "  .colab-df-spinner {\n",
              "    border: 2px solid var(--fill-color);\n",
              "    border-color: transparent;\n",
              "    border-bottom-color: var(--fill-color);\n",
              "    animation:\n",
              "      spin 1s steps(1) infinite;\n",
              "  }\n",
              "\n",
              "  @keyframes spin {\n",
              "    0% {\n",
              "      border-color: transparent;\n",
              "      border-bottom-color: var(--fill-color);\n",
              "      border-left-color: var(--fill-color);\n",
              "    }\n",
              "    20% {\n",
              "      border-color: transparent;\n",
              "      border-left-color: var(--fill-color);\n",
              "      border-top-color: var(--fill-color);\n",
              "    }\n",
              "    30% {\n",
              "      border-color: transparent;\n",
              "      border-left-color: var(--fill-color);\n",
              "      border-top-color: var(--fill-color);\n",
              "      border-right-color: var(--fill-color);\n",
              "    }\n",
              "    40% {\n",
              "      border-color: transparent;\n",
              "      border-right-color: var(--fill-color);\n",
              "      border-top-color: var(--fill-color);\n",
              "    }\n",
              "    60% {\n",
              "      border-color: transparent;\n",
              "      border-right-color: var(--fill-color);\n",
              "    }\n",
              "    80% {\n",
              "      border-color: transparent;\n",
              "      border-right-color: var(--fill-color);\n",
              "      border-bottom-color: var(--fill-color);\n",
              "    }\n",
              "    90% {\n",
              "      border-color: transparent;\n",
              "      border-bottom-color: var(--fill-color);\n",
              "    }\n",
              "  }\n",
              "</style>\n",
              "\n",
              "  <script>\n",
              "    async function quickchart(key) {\n",
              "      const quickchartButtonEl =\n",
              "        document.querySelector('#' + key + ' button');\n",
              "      quickchartButtonEl.disabled = true;  // To prevent multiple clicks.\n",
              "      quickchartButtonEl.classList.add('colab-df-spinner');\n",
              "      try {\n",
              "        const charts = await google.colab.kernel.invokeFunction(\n",
              "            'suggestCharts', [key], {});\n",
              "      } catch (error) {\n",
              "        console.error('Error during call to suggestCharts:', error);\n",
              "      }\n",
              "      quickchartButtonEl.classList.remove('colab-df-spinner');\n",
              "      quickchartButtonEl.classList.add('colab-df-quickchart-complete');\n",
              "    }\n",
              "    (() => {\n",
              "      let quickchartButtonEl =\n",
              "        document.querySelector('#df-a72446c0-e076-4713-81fe-063de756d96d button');\n",
              "      quickchartButtonEl.style.display =\n",
              "        google.colab.kernel.accessAllowed ? 'block' : 'none';\n",
              "    })();\n",
              "  </script>\n",
              "</div>\n",
              "\n",
              "    </div>\n",
              "  </div>\n"
            ],
            "application/vnd.google.colaboratory.intrinsic+json": {
              "type": "dataframe",
              "variable_name": "df",
              "summary": "{\n  \"name\": \"df\",\n  \"rows\": 500,\n  \"fields\": [\n    {\n      \"column\": \"EmployeeID\",\n      \"properties\": {\n        \"dtype\": \"number\",\n        \"std\": 2599,\n        \"min\": 1046,\n        \"max\": 9984,\n        \"num_unique_values\": 500,\n        \"samples\": [\n          8747,\n          2018,\n          5924\n        ],\n        \"semantic_type\": \"\",\n        \"description\": \"\"\n      }\n    },\n    {\n      \"column\": \"Name\",\n      \"properties\": {\n        \"dtype\": \"string\",\n        \"num_unique_values\": 498,\n        \"samples\": [\n          \"Heidi Shaffer\",\n          \"Patricia Perez\",\n          \"James Sharp\"\n        ],\n        \"semantic_type\": \"\",\n        \"description\": \"\"\n      }\n    },\n    {\n      \"column\": \"Age\",\n      \"properties\": {\n        \"dtype\": \"number\",\n        \"std\": 11,\n        \"min\": 22,\n        \"max\": 60,\n        \"num_unique_values\": 39,\n        \"samples\": [\n          46,\n          56,\n          26\n        ],\n        \"semantic_type\": \"\",\n        \"description\": \"\"\n      }\n    },\n    {\n      \"column\": \"Department\",\n      \"properties\": {\n        \"dtype\": \"category\",\n        \"num_unique_values\": 5,\n        \"samples\": [\n          \"Marketing\",\n          \"IT\",\n          \"Finance\"\n        ],\n        \"semantic_type\": \"\",\n        \"description\": \"\"\n      }\n    },\n    {\n      \"column\": \"Salary\",\n      \"properties\": {\n        \"dtype\": \"number\",\n        \"std\": 26708,\n        \"min\": 30071,\n        \"max\": 119978,\n        \"num_unique_values\": 499,\n        \"samples\": [\n          88389,\n          102567,\n          88043\n        ],\n        \"semantic_type\": \"\",\n        \"description\": \"\"\n      }\n    },\n    {\n      \"column\": \"JoiningDate\",\n      \"properties\": {\n        \"dtype\": \"date\",\n        \"min\": \"2015-06-03 00:00:00\",\n        \"max\": \"2025-05-28 00:00:00\",\n        \"num_unique_values\": 472,\n        \"samples\": [\n          \"2015-12-24 00:00:00\",\n          \"2016-05-31 00:00:00\",\n          \"2017-10-01 00:00:00\"\n        ],\n        \"semantic_type\": \"\",\n        \"description\": \"\"\n      }\n    },\n    {\n      \"column\": \"Status\",\n      \"properties\": {\n        \"dtype\": \"category\",\n        \"num_unique_values\": 3,\n        \"samples\": [\n          \"Resigned\",\n          \"Active\",\n          \"On Leave\"\n        ],\n        \"semantic_type\": \"\",\n        \"description\": \"\"\n      }\n    },\n    {\n      \"column\": \"City\",\n      \"properties\": {\n        \"dtype\": \"string\",\n        \"num_unique_values\": 494,\n        \"samples\": [\n          \"East Shannon\",\n          \"Henrymouth\",\n          \"Jesseview\"\n        ],\n        \"semantic_type\": \"\",\n        \"description\": \"\"\n      }\n    }\n  ]\n}"
            }
          },
          "metadata": {},
          "execution_count": 2
        }
      ],
      "source": [
        "from google.colab import files\n",
        "import pandas as pd\n",
        "from datetime import datetime\n",
        "\n",
        "# Upload the CSV file\n",
        "uploaded = files.upload()\n",
        "\n",
        "# Load the dataset\n",
        "df = pd.read_csv(\"large_employee_dataset.csv\", parse_dates=[\"JoiningDate\"])\n",
        "\n",
        "# Display first few rows\n",
        "df.head()\n",
        "\n"
      ]
    },
    {
      "cell_type": "code",
      "source": [],
      "metadata": {
        "id": "8JS4thcEJ6C3"
      },
      "execution_count": null,
      "outputs": []
    },
    {
      "cell_type": "code",
      "source": [
        "print(df.head(10))\n"
      ],
      "metadata": {
        "colab": {
          "base_uri": "https://localhost:8080/"
        },
        "id": "GBuEPd3dKBEe",
        "outputId": "c6802277-c154-4c7a-e38e-4f961ed6ccb6"
      },
      "execution_count": 3,
      "outputs": [
        {
          "output_type": "stream",
          "name": "stdout",
          "text": [
            "   EmployeeID                   Name  Age Department  Salary JoiningDate  \\\n",
            "0        4128        Charles Johnson   52         HR   64039  2018-07-07   \n",
            "1        6094          Dylan Camacho   57  Marketing   34686  2015-08-25   \n",
            "2        5883    Mr. Ryan Bowman Jr.   29    Finance   64541  2025-03-11   \n",
            "3        9146             Brian Ball   24      Sales   87831  2015-10-01   \n",
            "4        1918          Angela Hooper   26    Finance  108773  2019-08-14   \n",
            "5        4600  Alexander Johnson PhD   45      Sales   75671  2016-04-21   \n",
            "6        6253            Steven Lane   47    Finance   64982  2021-07-25   \n",
            "7        8278          Riley Johnson   49         HR   43449  2015-08-03   \n",
            "8        8520       Emily Washington   43    Finance   33851  2021-11-30   \n",
            "9        1298        Valerie Fleming   42  Marketing   70137  2019-12-08   \n",
            "\n",
            "     Status          City  \n",
            "0  Resigned     Allentown  \n",
            "1    Active   Anthonyfort  \n",
            "2  On Leave     Gilesstad  \n",
            "3  Resigned  Jenniferfurt  \n",
            "4  On Leave  Lake Amystad  \n",
            "5  On Leave    Russohaven  \n",
            "6    Active   East Robert  \n",
            "7  Resigned    New Thomas  \n",
            "8  Resigned   West Ashley  \n",
            "9  Resigned   Caseborough  \n"
          ]
        }
      ]
    },
    {
      "cell_type": "code",
      "source": [
        "print(\"Total employees:\", len(df))\n"
      ],
      "metadata": {
        "colab": {
          "base_uri": "https://localhost:8080/"
        },
        "id": "wqzbbq30KFHJ",
        "outputId": "237ee08e-a44d-4d50-af65-f7d68abee239"
      },
      "execution_count": 4,
      "outputs": [
        {
          "output_type": "stream",
          "name": "stdout",
          "text": [
            "Total employees: 500\n"
          ]
        }
      ]
    },
    {
      "cell_type": "code",
      "source": [
        "print(\"Departments:\", df['Department'].unique())\n"
      ],
      "metadata": {
        "colab": {
          "base_uri": "https://localhost:8080/"
        },
        "id": "98ooXU9cKK7Q",
        "outputId": "c670452b-f9fd-4309-8cd8-b769c27b0876"
      },
      "execution_count": 5,
      "outputs": [
        {
          "output_type": "stream",
          "name": "stdout",
          "text": [
            "Departments: ['HR' 'Marketing' 'Finance' 'Sales' 'IT']\n"
          ]
        }
      ]
    },
    {
      "cell_type": "code",
      "source": [
        "it_employees = df[df['Department'] == \"IT\"]\n",
        "print(it_employees)\n"
      ],
      "metadata": {
        "colab": {
          "base_uri": "https://localhost:8080/"
        },
        "id": "CYhpL6z3KOt0",
        "outputId": "14426c72-fbfb-4271-d381-72ce2e973516"
      },
      "execution_count": 6,
      "outputs": [
        {
          "output_type": "stream",
          "name": "stdout",
          "text": [
            "     EmployeeID               Name  Age Department  Salary JoiningDate  \\\n",
            "15         6598        Mary Henson   58         IT   63951  2021-08-25   \n",
            "23         8518   Elizabeth Abbott   22         IT   91732  2022-11-05   \n",
            "24         9506        Thomas Dunn   45         IT   90340  2020-07-12   \n",
            "32         9663        Glenn Mason   43         IT  109189  2020-03-27   \n",
            "36         2106     Richard Bailey   45         IT   30950  2021-06-29   \n",
            "..          ...                ...  ...        ...     ...         ...   \n",
            "484        5252      Mary Martinez   22         IT   94629  2019-09-09   \n",
            "486        5755       Erika Ortega   42         IT  117517  2023-04-16   \n",
            "488        2581   Alexandria Jones   34         IT  119009  2017-01-22   \n",
            "493        5876       Nicole Baker   25         IT   64237  2023-12-28   \n",
            "497        4435  Patricia Odonnell   52         IT   65423  2024-08-05   \n",
            "\n",
            "       Status              City  \n",
            "15     Active       Port Tricia  \n",
            "23     Active       Douglasside  \n",
            "24   On Leave    Lindseychester  \n",
            "32   On Leave      Katelynburgh  \n",
            "36   Resigned        North John  \n",
            "..        ...               ...  \n",
            "484  Resigned  West Christopher  \n",
            "486  On Leave         Kellyfort  \n",
            "488  On Leave          Toniside  \n",
            "493    Active      North Nicole  \n",
            "497    Active      Moranchester  \n",
            "\n",
            "[90 rows x 8 columns]\n"
          ]
        }
      ]
    },
    {
      "cell_type": "code",
      "source": [
        "age_filtered = df[(df['Age'] >= 30) & (df['Age'] <= 40)]\n",
        "print(age_filtered)\n"
      ],
      "metadata": {
        "colab": {
          "base_uri": "https://localhost:8080/"
        },
        "id": "qkoIeIwxKSma",
        "outputId": "0a8373d6-7c00-4158-81c5-97150d340178"
      },
      "execution_count": 7,
      "outputs": [
        {
          "output_type": "stream",
          "name": "stdout",
          "text": [
            "     EmployeeID                Name  Age Department  Salary JoiningDate  \\\n",
            "14         4676  Christopher Fuller   30         HR   63042  2021-04-30   \n",
            "16         4136       Jerome Torres   30    Finance   68213  2024-11-30   \n",
            "22         1588         Edwin Burns   34      Sales  108208  2015-09-14   \n",
            "28         8074         Fred Brewer   30         HR  100736  2021-06-06   \n",
            "31         3841         April Allen   36         HR   98845  2020-05-20   \n",
            "..          ...                 ...  ...        ...     ...         ...   \n",
            "489        6329       Heidi Shaffer   36         HR  119165  2020-01-14   \n",
            "490        5998       Bruce Serrano   36         HR  118641  2019-02-02   \n",
            "491        2621        Aaron Duncan   36    Finance   76393  2017-07-24   \n",
            "492        7189     Spencer Frazier   32      Sales   86055  2025-03-23   \n",
            "494        4793        Tara Sanchez   36    Finance   78360  2015-10-31   \n",
            "\n",
            "       Status                 City  \n",
            "14   Resigned     South Donnaville  \n",
            "16     Active  North Justinborough  \n",
            "22   Resigned          South David  \n",
            "28   On Leave      Port Wendyville  \n",
            "31     Active        Rachelchester  \n",
            "..        ...                  ...  \n",
            "489  Resigned            New Alexa  \n",
            "490    Active      South Elizabeth  \n",
            "491  Resigned          Michaelport  \n",
            "492  Resigned     East Ericborough  \n",
            "494  Resigned         Kimberlyfurt  \n",
            "\n",
            "[142 rows x 8 columns]\n"
          ]
        }
      ]
    },
    {
      "cell_type": "code",
      "source": [
        "sorted_by_salary = df.sort_values(by='Salary', ascending=False)\n",
        "print(sorted_by_salary)\n"
      ],
      "metadata": {
        "colab": {
          "base_uri": "https://localhost:8080/"
        },
        "id": "HAxtDYxbKW-v",
        "outputId": "6a042a33-d989-4681-a0fa-5cb33061513a"
      },
      "execution_count": 8,
      "outputs": [
        {
          "output_type": "stream",
          "name": "stdout",
          "text": [
            "     EmployeeID              Name  Age Department  Salary JoiningDate  \\\n",
            "445        8860     Cody Williams   30         IT  119978  2019-03-16   \n",
            "248        4585    Sandra Webster   30         HR  119940  2022-10-21   \n",
            "413        4667       Ronald Hunt   58      Sales  119677  2019-08-29   \n",
            "121        1602  Deborah Williams   25         HR  119397  2023-09-26   \n",
            "45         3374      Amanda Green   41         HR  119316  2021-04-08   \n",
            "..          ...               ...  ...        ...     ...         ...   \n",
            "320        5332   Nicole Figueroa   42    Finance   30570  2023-11-14   \n",
            "437        6408     Vernon Miller   28  Marketing   30547  2018-07-05   \n",
            "239        1320  Michele Lawrence   22    Finance   30110  2024-05-14   \n",
            "99         3087      Mark Padilla   33         HR   30080  2017-10-14   \n",
            "346        1914      Hannah Jones   57         HR   30071  2018-04-30   \n",
            "\n",
            "       Status               City  \n",
            "445  Resigned         Susanville  \n",
            "248  On Leave       Thompsonport  \n",
            "413  Resigned    Griffithchester  \n",
            "121  On Leave    Port Terrimouth  \n",
            "45   Resigned    West Shelleyton  \n",
            "..        ...                ...  \n",
            "320  On Leave         Davishaven  \n",
            "437    Active       New Michelle  \n",
            "239  Resigned     Natalieborough  \n",
            "99   On Leave  North Josephhaven  \n",
            "346    Active         South Luis  \n",
            "\n",
            "[500 rows x 8 columns]\n"
          ]
        }
      ]
    },
    {
      "cell_type": "code",
      "source": [
        "avg_salary_by_dept = df.groupby('Department')['Salary'].mean()\n",
        "print(avg_salary_by_dept)\n"
      ],
      "metadata": {
        "colab": {
          "base_uri": "https://localhost:8080/"
        },
        "id": "MiUuvjlAKc5I",
        "outputId": "80b57cc9-d5b0-4a55-a3d6-6e8a6eef4362"
      },
      "execution_count": 9,
      "outputs": [
        {
          "output_type": "stream",
          "name": "stdout",
          "text": [
            "Department\n",
            "Finance      72834.756303\n",
            "HR           76091.274510\n",
            "IT           73116.255556\n",
            "Marketing    71958.188889\n",
            "Sales        77488.545455\n",
            "Name: Salary, dtype: float64\n"
          ]
        }
      ]
    },
    {
      "cell_type": "code",
      "source": [
        "status_count = df['Status'].value_counts()\n",
        "print(status_count)\n"
      ],
      "metadata": {
        "colab": {
          "base_uri": "https://localhost:8080/"
        },
        "id": "7jmiIXmSKhnz",
        "outputId": "76dc4b0e-f36a-4e5f-ba4d-6072367bd04e"
      },
      "execution_count": 10,
      "outputs": [
        {
          "output_type": "stream",
          "name": "stdout",
          "text": [
            "Status\n",
            "Active      172\n",
            "On Leave    169\n",
            "Resigned    159\n",
            "Name: count, dtype: int64\n"
          ]
        }
      ]
    },
    {
      "cell_type": "code",
      "source": [
        "max_salary_by_city = df.groupby('City')['Salary'].max()\n",
        "print(max_salary_by_city)\n"
      ],
      "metadata": {
        "colab": {
          "base_uri": "https://localhost:8080/"
        },
        "id": "K1C3jzh1KmY2",
        "outputId": "ccec92dd-80c2-477a-80bc-e5b317692e6e"
      },
      "execution_count": 11,
      "outputs": [
        {
          "output_type": "stream",
          "name": "stdout",
          "text": [
            "City\n",
            "Aaronberg           76528\n",
            "Adkinsbury          60857\n",
            "Aguilarchester      37472\n",
            "Aimeeport          101791\n",
            "Allenberg           96201\n",
            "                    ...  \n",
            "Whiteport           31057\n",
            "Whiteview          115326\n",
            "Williamsborough     70552\n",
            "Williamsland        49167\n",
            "Wilsonchester       67025\n",
            "Name: Salary, Length: 494, dtype: int64\n"
          ]
        }
      ]
    },
    {
      "cell_type": "code",
      "source": [
        "df['JoinYear'] = df['JoiningDate'].dt.year\n",
        "join_count_by_year = df.groupby('JoinYear')['EmployeeID'].count()\n",
        "print(join_count_by_year)\n"
      ],
      "metadata": {
        "colab": {
          "base_uri": "https://localhost:8080/"
        },
        "id": "DJ88iGKWK1KN",
        "outputId": "cb9b14c7-9e9a-41fa-b062-413d12861c12"
      },
      "execution_count": 12,
      "outputs": [
        {
          "output_type": "stream",
          "name": "stdout",
          "text": [
            "JoinYear\n",
            "2015    37\n",
            "2016    49\n",
            "2017    44\n",
            "2018    52\n",
            "2019    52\n",
            "2020    56\n",
            "2021    49\n",
            "2022    49\n",
            "2023    47\n",
            "2024    38\n",
            "2025    27\n",
            "Name: EmployeeID, dtype: int64\n"
          ]
        }
      ]
    },
    {
      "cell_type": "code",
      "source": [
        "active_employees = df[df['Status'] == \"Active\"]\n",
        "active_by_dept = active_employees.groupby('Department')['EmployeeID'].count()\n",
        "print(active_by_dept)\n"
      ],
      "metadata": {
        "colab": {
          "base_uri": "https://localhost:8080/"
        },
        "id": "wuvsLcdNK5RE",
        "outputId": "f2c131af-8c2b-40b1-9461-1939271a29ff"
      },
      "execution_count": 13,
      "outputs": [
        {
          "output_type": "stream",
          "name": "stdout",
          "text": [
            "Department\n",
            "Finance      45\n",
            "HR           37\n",
            "IT           26\n",
            "Marketing    32\n",
            "Sales        32\n",
            "Name: EmployeeID, dtype: int64\n"
          ]
        }
      ]
    },
    {
      "cell_type": "code",
      "source": [
        "avg_age_by_dept = df.groupby('Department')['Age'].mean()\n",
        "print(avg_age_by_dept)\n"
      ],
      "metadata": {
        "colab": {
          "base_uri": "https://localhost:8080/"
        },
        "id": "xfEg64LYK9mx",
        "outputId": "d0dcf0fd-de6b-4ec8-d49b-9cc6af6ef295"
      },
      "execution_count": 14,
      "outputs": [
        {
          "output_type": "stream",
          "name": "stdout",
          "text": [
            "Department\n",
            "Finance      39.210084\n",
            "HR           41.460784\n",
            "IT           38.688889\n",
            "Marketing    41.822222\n",
            "Sales        40.535354\n",
            "Name: Age, dtype: float64\n"
          ]
        }
      ]
    },
    {
      "cell_type": "code",
      "source": [
        "# Sample mapping\n",
        "city_region_data = {\n",
        "    'City': ['New York', 'Los Angeles', 'Chicago', 'Houston'],\n",
        "    'Region': ['East', 'West', 'Central', 'South']\n",
        "}\n",
        "\n",
        "city_region_df = pd.DataFrame(city_region_data)\n",
        "\n",
        "# Merge\n",
        "df_merged = pd.merge(df, city_region_df, on='City', how='left')\n",
        "print(df_merged.head())\n"
      ],
      "metadata": {
        "colab": {
          "base_uri": "https://localhost:8080/"
        },
        "id": "fWvxcNIYLCk3",
        "outputId": "9bca6515-d0d3-46ca-b9db-680bf46328cb"
      },
      "execution_count": 15,
      "outputs": [
        {
          "output_type": "stream",
          "name": "stdout",
          "text": [
            "   EmployeeID                 Name  Age Department  Salary JoiningDate  \\\n",
            "0        4128      Charles Johnson   52         HR   64039  2018-07-07   \n",
            "1        6094        Dylan Camacho   57  Marketing   34686  2015-08-25   \n",
            "2        5883  Mr. Ryan Bowman Jr.   29    Finance   64541  2025-03-11   \n",
            "3        9146           Brian Ball   24      Sales   87831  2015-10-01   \n",
            "4        1918        Angela Hooper   26    Finance  108773  2019-08-14   \n",
            "\n",
            "     Status          City  JoinYear Region  \n",
            "0  Resigned     Allentown      2018    NaN  \n",
            "1    Active   Anthonyfort      2015    NaN  \n",
            "2  On Leave     Gilesstad      2025    NaN  \n",
            "3  Resigned  Jenniferfurt      2015    NaN  \n",
            "4  On Leave  Lake Amystad      2019    NaN  \n"
          ]
        }
      ]
    },
    {
      "cell_type": "code",
      "source": [
        "salary_by_region = df_merged.groupby('Region')['Salary'].sum()\n",
        "print(salary_by_region)\n"
      ],
      "metadata": {
        "colab": {
          "base_uri": "https://localhost:8080/"
        },
        "id": "8j9nrd0bLGn-",
        "outputId": "dc3c02f2-5094-45cf-e5c5-772d98e0bb56"
      },
      "execution_count": 16,
      "outputs": [
        {
          "output_type": "stream",
          "name": "stdout",
          "text": [
            "Series([], Name: Salary, dtype: int64)\n"
          ]
        }
      ]
    },
    {
      "cell_type": "code",
      "source": [
        "df['YearsExperience'] = (pd.to_datetime('today') - df['JoiningDate']).dt.days // 365\n",
        "print(df[['EmployeeID', 'Name', 'YearsExperience']].head())\n"
      ],
      "metadata": {
        "colab": {
          "base_uri": "https://localhost:8080/"
        },
        "id": "2_shxgFeLKd1",
        "outputId": "396b9319-4a89-47d9-879b-312c24f03e90"
      },
      "execution_count": 17,
      "outputs": [
        {
          "output_type": "stream",
          "name": "stdout",
          "text": [
            "   EmployeeID                 Name  YearsExperience\n",
            "0        4128      Charles Johnson                6\n",
            "1        6094        Dylan Camacho                9\n",
            "2        5883  Mr. Ryan Bowman Jr.                0\n",
            "3        9146           Brian Ball                9\n",
            "4        1918        Angela Hooper                5\n"
          ]
        }
      ]
    },
    {
      "cell_type": "code",
      "source": [
        "experienced_employees = df[df['YearsExperience'] > 5]\n",
        "print(experienced_employees[['EmployeeID', 'Name', 'YearsExperience']])\n"
      ],
      "metadata": {
        "colab": {
          "base_uri": "https://localhost:8080/"
        },
        "id": "s_U5yPLULOFf",
        "outputId": "06ae6583-00a2-4072-d078-6fb90b8be5c2"
      },
      "execution_count": 18,
      "outputs": [
        {
          "output_type": "stream",
          "name": "stdout",
          "text": [
            "     EmployeeID                   Name  YearsExperience\n",
            "0          4128        Charles Johnson                6\n",
            "1          6094          Dylan Camacho                9\n",
            "3          9146             Brian Ball                9\n",
            "5          4600  Alexander Johnson PhD                9\n",
            "7          8278          Riley Johnson                9\n",
            "..          ...                    ...              ...\n",
            "490        5998          Bruce Serrano                6\n",
            "491        2621           Aaron Duncan                7\n",
            "494        4793           Tara Sanchez                9\n",
            "496        6429        Timothy Farrell                8\n",
            "498        4872         Brittany Craig                9\n",
            "\n",
            "[207 rows x 3 columns]\n"
          ]
        }
      ]
    }
  ]
}