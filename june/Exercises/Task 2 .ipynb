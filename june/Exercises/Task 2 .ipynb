{
  "nbformat": 4,
  "nbformat_minor": 0,
  "metadata": {
    "colab": {
      "provenance": []
    },
    "kernelspec": {
      "name": "python3",
      "display_name": "Python 3"
    },
    "language_info": {
      "name": "python"
    }
  },
  "cells": [
    {
      "cell_type": "code",
      "source": [
        "from pyspark.sql import SparkSession\n",
        "\n",
        "spark = SparkSession.builder.appName(\"SalesAnalysis\").getOrCreate()\n",
        "df_spark = spark.read.option(\"header\", True).option(\"inferSchema\", True).csv(\"Sales_Dataset__500_Records_.csv\")\n",
        "df_spark.show(5)\n",
        "df_spark.tail(5)\n",
        "df_spark.printSchema()\n",
        "import dask.dataframe as dd\n",
        "\n"
      ],
      "metadata": {
        "colab": {
          "base_uri": "https://localhost:8080/"
        },
        "id": "3sN0Vrq7GZOr",
        "outputId": "5ae3ab5b-32a3-48ee-d3bc-207fccc9b555"
      },
      "execution_count": 12,
      "outputs": [
        {
          "output_type": "stream",
          "name": "stdout",
          "text": [
            "+-------+--------------+---------------+------+----------+--------------+--------+----------------+-----------+-------------+\n",
            "|OrderID|  CustomerName|ProductCategory|Amount| OrderDate|DeliveryStatus|Discount|            City|PaymentMode|CustomerSince|\n",
            "+-------+--------------+---------------+------+----------+--------------+--------+----------------+-----------+-------------+\n",
            "|   2824| Donald Walker|          Books|783.04|2024-12-26|      Returned|    0.15|    Lake Joyside|Credit Card|   2020-10-15|\n",
            "|   7912|  Brandon Hall|      Groceries| 905.0|2024-09-12|     Cancelled|    0.03|   New Jamesside|     Wallet|   2022-03-15|\n",
            "|   4611|  Donald Booth|        Fashion|657.96|2025-01-12|      Returned|    0.01|    Lake Roberto|     Wallet|   2021-08-07|\n",
            "|   3547|Phillip Garcia|        Fashion|606.89|2024-03-24|      Returned|    0.15|West Melanieview|     Wallet|   2020-08-08|\n",
            "|   8527|  Valerie Gray|           Toys| 77.87|2024-08-04|     Delivered|    0.17|       Mariastad|       Cash|   2022-11-15|\n",
            "+-------+--------------+---------------+------+----------+--------------+--------+----------------+-----------+-------------+\n",
            "only showing top 5 rows\n",
            "\n",
            "root\n",
            " |-- OrderID: integer (nullable = true)\n",
            " |-- CustomerName: string (nullable = true)\n",
            " |-- ProductCategory: string (nullable = true)\n",
            " |-- Amount: double (nullable = true)\n",
            " |-- OrderDate: date (nullable = true)\n",
            " |-- DeliveryStatus: string (nullable = true)\n",
            " |-- Discount: double (nullable = true)\n",
            " |-- City: string (nullable = true)\n",
            " |-- PaymentMode: string (nullable = true)\n",
            " |-- CustomerSince: date (nullable = true)\n",
            "\n"
          ]
        }
      ]
    },
    {
      "cell_type": "code",
      "source": [
        "\n",
        "\n",
        "#PySpark\n",
        "from pyspark.sql.functions import col\n",
        "\n",
        "df_selected = df_spark.select(\"OrderID\", \"CustomerName\", \"Amount\")\n",
        "df_renamed = df_selected.withColumnRenamed(\"Amount\", \"OrderAmount\")\n",
        "df_filtered = df_spark.filter(col(\"Amount\") > 500)\n",
        "df_city = df_spark.filter(col(\"City\") == \"New York\")\n",
        "\n"
      ],
      "metadata": {
        "id": "QZXSaeS0GrMI"
      },
      "execution_count": 13,
      "outputs": []
    },
    {
      "cell_type": "code",
      "source": [
        "from pyspark.sql.functions import expr\n",
        "\n",
        "df_mod = df_spark.drop(\"CustomerSince\")\n",
        "df_mod = df_mod.withColumn(\"FinalAmount\", col(\"Amount\") - (col(\"Amount\") * col(\"Discount\")))\n",
        "df_sorted = df_mod.orderBy(col(\"FinalAmount\").desc())\n",
        "df_replaced = df_mod.withColumn(\"DeliveryStatus\", expr(\"CASE WHEN DeliveryStatus = 'Cancelled' THEN 'Order Cancelled' ELSE DeliveryStatus END\"))\n"
      ],
      "metadata": {
        "id": "pXO3p2roH1_L"
      },
      "execution_count": 15,
      "outputs": []
    },
    {
      "cell_type": "code",
      "source": [
        "df_spark.groupBy(\"DeliveryStatus\").count().show()\n",
        "df_spark.groupBy(\"ProductCategory\").avg(\"Amount\").show()\n",
        "df_spark.groupBy(\"City\").sum(\"Amount\").show()\n"
      ],
      "metadata": {
        "colab": {
          "base_uri": "https://localhost:8080/"
        },
        "id": "hoE9mSfSIiYl",
        "outputId": "27db2b30-5afd-4f60-d1b0-c15eb5ac6f7a"
      },
      "execution_count": 16,
      "outputs": [
        {
          "output_type": "stream",
          "name": "stdout",
          "text": [
            "+--------------+-----+\n",
            "|DeliveryStatus|count|\n",
            "+--------------+-----+\n",
            "|      Returned|  117|\n",
            "|     Cancelled|  149|\n",
            "|     Delivered|  119|\n",
            "|       Pending|  115|\n",
            "+--------------+-----+\n",
            "\n",
            "+---------------+------------------+\n",
            "|ProductCategory|       avg(Amount)|\n",
            "+---------------+------------------+\n",
            "|        Fashion| 500.6308235294116|\n",
            "|      Groceries|459.51786407766957|\n",
            "|    Electronics|           551.745|\n",
            "|          Books| 568.6003773584907|\n",
            "|           Toys| 534.2837499999999|\n",
            "+---------------+------------------+\n",
            "\n",
            "+----------------+-----------+\n",
            "|            City|sum(Amount)|\n",
            "+----------------+-----------+\n",
            "|     Ramseymouth|     761.06|\n",
            "|East Edwardshire|     291.26|\n",
            "|      Thomasberg|     882.68|\n",
            "|     Laurenville|     383.26|\n",
            "| South Colinstad|     786.27|\n",
            "|    Lake Douglas|     975.09|\n",
            "|   Williamsmouth|      10.78|\n",
            "|      Gordonport|     514.99|\n",
            "|  West Dawnmouth|       12.8|\n",
            "|        Seanbury|     814.39|\n",
            "|     Sheilaville|     981.05|\n",
            "|       Mollybury|     222.02|\n",
            "|       Lisaville|      45.69|\n",
            "| Lake Jerrymouth|     404.01|\n",
            "|       Perezfort|     917.55|\n",
            "|Port Nicoleshire|     133.78|\n",
            "|  South Samantha|     229.46|\n",
            "|     Port Willie|     788.13|\n",
            "|     Waltersfort|     552.81|\n",
            "|       Youngbury|     372.95|\n",
            "+----------------+-----------+\n",
            "only showing top 20 rows\n",
            "\n"
          ]
        }
      ]
    },
    {
      "cell_type": "code",
      "source": [
        "from pyspark.sql.functions import when\n",
        "\n",
        "df_null = df_spark.withColumn(\"City\", when(col(\"OrderID\") % 50 == 0, None).otherwise(col(\"City\")))\n",
        "df_filled = df_null.fillna({\"City\": \"Unknown\"})\n",
        "\n",
        "df_tagged = df_spark.withColumn(\"CustomerType\", when(col(\"Amount\") > 800, \"High-Value\").otherwise(\"Regular\"))\n"
      ],
      "metadata": {
        "id": "L1eXyG5zIoKj"
      },
      "execution_count": 17,
      "outputs": []
    },
    {
      "cell_type": "code",
      "source": [
        "from pyspark.sql.functions import year, month, current_date, datediff\n",
        "\n",
        "df_spark = df_spark.withColumn(\"Year\", year(col(\"OrderDate\")))\n",
        "df_spark = df_spark.withColumn(\"Month\", month(col(\"OrderDate\")))\n",
        "df_spark = df_spark.withColumn(\"LoyaltyYears\", (datediff(current_date(), col(\"CustomerSince\")) / 365).cast(\"int\"))\n"
      ],
      "metadata": {
        "id": "qgZ7LVuHIvCs"
      },
      "execution_count": 18,
      "outputs": []
    },
    {
      "cell_type": "code",
      "source": [
        "region_data = [(\"New York\", \"East\"), (\"Los Angeles\", \"West\")]\n",
        "region_df = spark.createDataFrame(region_data, [\"City\", \"Region\"])\n",
        "\n",
        "df_joined_inner = df_spark.join(region_df, on=\"City\", how=\"inner\")\n",
        "df_joined_left = df_spark.join(region_df, on=\"City\", how=\"left\")\n",
        "\n",
        "df_2023 = df_spark.filter(year(\"OrderDate\") == 2023)\n",
        "df_2024 = df_spark.filter(year(\"OrderDate\") == 2024)\n",
        "df_union = df_2023.union(df_2024)\n"
      ],
      "metadata": {
        "id": "RGWULi9iI08c"
      },
      "execution_count": 19,
      "outputs": []
    },
    {
      "cell_type": "code",
      "source": [
        "from pyspark.sql.functions import to_json, struct, from_json, explode, get_json_object\n",
        "from pyspark.sql.types import StringType\n",
        "\n",
        "json_df = df_spark.withColumn(\"json_data\", to_json(struct([col(x) for x in df_spark.columns])))\n",
        "parsed_df = spark.read.json(json_df.rdd.map(lambda row: row[\"json_data\"]))\n"
      ],
      "metadata": {
        "id": "91KQch-fI5KT"
      },
      "execution_count": 20,
      "outputs": []
    },
    {
      "cell_type": "code",
      "source": [
        "from pyspark.sql.functions import udf\n",
        "from pyspark.sql.types import StringType\n",
        "\n",
        "def tag_order(amount):\n",
        "    if amount > 800:\n",
        "        return \"Big\"\n",
        "    elif amount > 400:\n",
        "        return \"Medium\"\n",
        "    else:\n",
        "        return \"Small\"\n",
        "\n",
        "tag_udf = udf(tag_order, StringType())\n",
        "df_tagged = df_spark.withColumn(\"OrderTag\", tag_udf(col(\"Amount\")))\n"
      ],
      "metadata": {
        "id": "U7FRxwSKJAIY"
      },
      "execution_count": 21,
      "outputs": []
    }
  ]
}