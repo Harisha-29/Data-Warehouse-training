{
 "cells": [
  {
   "cell_type": "code",
   "execution_count": 0,
   "metadata": {
    "application/vnd.databricks.v1+cell": {
     "cellMetadata": {
      "byteLimit": 2048000,
      "rowLimit": 10000
     },
     "inputWidgets": {},
     "nuid": "388b4f56-2a82-4689-9a78-8e8f93da4560",
     "showTitle": false,
     "tableResultSettingsMap": {},
     "title": ""
    }
   },
   "outputs": [],
   "source": [
    "from pyspark.sql import SparkSession\n",
    "from pyspark.sql.functions import col, avg, max, min, count, when, current_date, datediff, expr, rand\n",
    "from pyspark.sql.window import Window\n",
    "from pyspark.sql.functions import rank, sum as _sum\n",
    "from pyspark.sql.types import DateType\n",
    "import datetime\n",
    "import random\n",
    "\n",
    "# Create SparkSession\n",
    "spark = SparkSession.builder.appName(\"AdvancedEmployeePerformance\").getOrCreate()\n",
    "\n",
    "# Dataset 1: employee_data\n",
    "data = [\n",
    "    (\"Ananya\", \"HR\", 52000),\n",
    "    (\"Rahul\", \"Engineering\", 65000),\n",
    "    (\"Priya\", \"Engineering\", 60000),\n",
    "    (\"Zoya\", \"Marketing\", 48000),\n",
    "    (\"Karan\", \"HR\", 53000),\n",
    "    (\"Naveen\", \"Engineering\", 70000),\n",
    "    (\"Fatima\", \"Marketing\", 45000)\n",
    "]\n",
    "columns = [\"Name\", \"Department\", \"Salary\"]\n",
    "df_emp = spark.createDataFrame(data, columns)\n",
    "\n",
    "# Dataset 2: performance_data\n",
    "performance = [\n",
    "    (\"Ananya\", 2023, 4.5),\n",
    "    (\"Rahul\", 2023, 4.9),\n",
    "    (\"Priya\", 2023, 4.3),\n",
    "    (\"Zoya\", 2023, 3.8),\n",
    "    (\"Karan\", 2023, 4.1),\n",
    "    (\"Naveen\", 2023, 4.7),\n",
    "    (\"Fatima\", 2023, 3.9)\n",
    "]\n",
    "columns_perf = [\"Name\", \"Year\", \"Rating\"]\n",
    "df_perf = spark.createDataFrame(performance, columns_perf)\n"
   ]
  },
  {
   "cell_type": "code",
   "execution_count": 0,
   "metadata": {
    "application/vnd.databricks.v1+cell": {
     "cellMetadata": {
      "byteLimit": 2048000,
      "rowLimit": 10000
     },
     "inputWidgets": {},
     "nuid": "a098eb2f-6d74-4d74-bd3f-e6220c9c9bf2",
     "showTitle": false,
     "tableResultSettingsMap": {},
     "title": ""
    }
   },
   "outputs": [
    {
     "output_type": "stream",
     "name": "stdout",
     "output_type": "stream",
     "text": [
      "+-----------+---------+\n| Department|AvgSalary|\n+-----------+---------+\n|         HR|  52500.0|\n|Engineering|  65000.0|\n|  Marketing|  46500.0|\n+-----------+---------+\n\n+-----------+--------+\n| Department|EmpCount|\n+-----------+--------+\n|         HR|       2|\n|Engineering|       3|\n|  Marketing|       2|\n+-----------+--------+\n\n+---------+---------+\n|MaxSalary|MinSalary|\n+---------+---------+\n|    70000|    60000|\n+---------+---------+\n\n"
     ]
    }
   ],
   "source": [
    "# 1. Average salary by department\n",
    "df_emp.groupBy(\"Department\").agg(avg(\"Salary\").alias(\"AvgSalary\")).show()\n",
    "\n",
    "# 2. Count of employees per department\n",
    "df_emp.groupBy(\"Department\").agg(count(\"*\").alias(\"EmpCount\")).show()\n",
    "\n",
    "# 3. Max and Min salary in Engineering\n",
    "df_emp.filter(col(\"Department\") == \"Engineering\") \\\n",
    "      .agg(max(\"Salary\").alias(\"MaxSalary\"), min(\"Salary\").alias(\"MinSalary\")).show()\n"
   ]
  },
  {
   "cell_type": "code",
   "execution_count": 0,
   "metadata": {
    "application/vnd.databricks.v1+cell": {
     "cellMetadata": {
      "byteLimit": 2048000,
      "rowLimit": 10000
     },
     "inputWidgets": {},
     "nuid": "09f96f3c-91d3-4116-bd8b-ec3b7d1b6d99",
     "showTitle": false,
     "tableResultSettingsMap": {},
     "title": ""
    }
   },
   "outputs": [
    {
     "output_type": "stream",
     "name": "stdout",
     "output_type": "stream",
     "text": [
      "+------+-----------+------+----+------+\n|  Name| Department|Salary|Year|Rating|\n+------+-----------+------+----+------+\n|Ananya|         HR| 52000|2023|   4.5|\n|Fatima|  Marketing| 45000|2023|   3.9|\n| Karan|         HR| 53000|2023|   4.1|\n|Naveen|Engineering| 70000|2023|   4.7|\n| Priya|Engineering| 60000|2023|   4.3|\n| Rahul|Engineering| 65000|2023|   4.9|\n|  Zoya|  Marketing| 48000|2023|   3.8|\n+------+-----------+------+----+------+\n\n+------+------+------+\n|  Name|Salary|Rating|\n+------+------+------+\n|Ananya| 52000|   4.5|\n|Fatima| 45000|   3.9|\n| Karan| 53000|   4.1|\n|Naveen| 70000|   4.7|\n| Priya| 60000|   4.3|\n| Rahul| 65000|   4.9|\n|  Zoya| 48000|   3.8|\n+------+------+------+\n\n+------+-----------+------+----+------+\n|  Name| Department|Salary|Year|Rating|\n+------+-----------+------+----+------+\n|Naveen|Engineering| 70000|2023|   4.7|\n| Rahul|Engineering| 65000|2023|   4.9|\n+------+-----------+------+----+------+\n\n"
     ]
    }
   ],
   "source": [
    "# 4. Inner join on Name\n",
    "df_joined = df_emp.join(df_perf, on=\"Name\", how=\"inner\")\n",
    "df_joined.show()\n",
    "\n",
    "# 5. Show employee salary and performance rating\n",
    "df_joined.select(\"Name\", \"Salary\", \"Rating\").show()\n",
    "\n",
    "# 6. Filter employees with rating > 4.5 and salary > 60000\n",
    "df_joined.filter((col(\"Rating\") > 4.5) & (col(\"Salary\") > 60000)).show()\n"
   ]
  },
  {
   "cell_type": "code",
   "execution_count": 0,
   "metadata": {
    "application/vnd.databricks.v1+cell": {
     "cellMetadata": {
      "byteLimit": 2048000,
      "rowLimit": 10000
     },
     "inputWidgets": {},
     "nuid": "1ec3a1b5-0284-4779-9b39-88dfe43b9703",
     "showTitle": false,
     "tableResultSettingsMap": {},
     "title": ""
    }
   },
   "outputs": [
    {
     "output_type": "stream",
     "name": "stdout",
     "output_type": "stream",
     "text": [
      "+------+-----------+------+----------+\n|  Name| Department|Salary|SalaryRank|\n+------+-----------+------+----------+\n|Naveen|Engineering| 70000|         1|\n| Rahul|Engineering| 65000|         2|\n| Priya|Engineering| 60000|         3|\n| Karan|         HR| 53000|         1|\n|Ananya|         HR| 52000|         2|\n|  Zoya|  Marketing| 48000|         1|\n|Fatima|  Marketing| 45000|         2|\n+------+-----------+------+----------+\n\n+------+-----------+------+----------------+\n|  Name| Department|Salary|CumulativeSalary|\n+------+-----------+------+----------------+\n|Naveen|Engineering| 70000|           70000|\n| Rahul|Engineering| 65000|          135000|\n| Priya|Engineering| 60000|          195000|\n| Karan|         HR| 53000|           53000|\n|Ananya|         HR| 52000|          105000|\n|  Zoya|  Marketing| 48000|           48000|\n|Fatima|  Marketing| 45000|           93000|\n+------+-----------+------+----------------+\n\n"
     ]
    }
   ],
   "source": [
    "from pyspark.sql.window import Window\n",
    "\n",
    "# 7. Rank employees by salary within department\n",
    "windowSpec = Window.partitionBy(\"Department\").orderBy(col(\"Salary\").desc())\n",
    "df_emp.withColumn(\"SalaryRank\", rank().over(windowSpec)).show()\n",
    "\n",
    "# 8. Cumulative salary in each department\n",
    "df_emp.withColumn(\"CumulativeSalary\", _sum(\"Salary\").over(windowSpec.rowsBetween(Window.unboundedPreceding, Window.currentRow))).show()\n"
   ]
  },
  {
   "cell_type": "code",
   "execution_count": 0,
   "metadata": {
    "application/vnd.databricks.v1+cell": {
     "cellMetadata": {
      "byteLimit": 2048000,
      "rowLimit": 10000
     },
     "inputWidgets": {},
     "nuid": "c7d0af3e-07ba-4800-b36f-3fff3e41b4e7",
     "showTitle": false,
     "tableResultSettingsMap": {},
     "title": ""
    }
   },
   "outputs": [
    {
     "output_type": "stream",
     "name": "stdout",
     "output_type": "stream",
     "text": [
      "+------+-----------+------+----------+\n|  Name| Department|Salary|  JoinDate|\n+------+-----------+------+----------+\n|Ananya|         HR| 52000|2020-02-03|\n| Rahul|Engineering| 65000|2022-04-04|\n| Priya|Engineering| 60000|2021-11-04|\n|  Zoya|  Marketing| 48000|2020-07-21|\n| Karan|         HR| 53000|2023-06-23|\n|Naveen|Engineering| 70000|2020-09-13|\n|Fatima|  Marketing| 45000|2022-08-17|\n+------+-----------+------+----------+\n\n+------+----------+----------------+\n|  Name|  JoinDate|YearsWithCompany|\n+------+----------+----------------+\n|Ananya|2020-02-03|               5|\n| Rahul|2022-04-04|               3|\n| Priya|2021-11-04|               3|\n|  Zoya|2020-07-21|               4|\n| Karan|2023-06-23|               1|\n|Naveen|2020-09-13|               4|\n|Fatima|2022-08-17|               2|\n+------+----------+----------------+\n\n"
     ]
    }
   ],
   "source": [
    "from pyspark.sql.functions import to_date, lit\n",
    "\n",
    "# 9. Add JoinDate (random dates from 2020 to 2023)\n",
    "def random_date():\n",
    "    start_date = datetime.date(2020, 1, 1)\n",
    "    end_date = datetime.date(2023, 12, 31)\n",
    "    return start_date + datetime.timedelta(days=random.randint(0, (end_date - start_date).days))\n",
    "\n",
    "join_dates = [random_date() for _ in range(df_emp.count())]\n",
    "join_dates_df = spark.createDataFrame([(name, date) for (name, _, _), date in zip(data, join_dates)], [\"Name\", \"JoinDate\"])\n",
    "\n",
    "df_with_dates = df_emp.join(join_dates_df, on=\"Name\", how=\"left\")\n",
    "df_with_dates = df_with_dates.withColumn(\"JoinDate\", col(\"JoinDate\").cast(DateType()))\n",
    "df_with_dates.show()\n",
    "\n",
    "# 10. YearsWithCompany using current_date and datediff\n",
    "df_with_tenure = df_with_dates.withColumn(\n",
    "    \"YearsWithCompany\",\n",
    "    (datediff(current_date(), col(\"JoinDate\")) / 365).cast(\"int\")\n",
    ")\n",
    "df_with_tenure.select(\"Name\", \"JoinDate\", \"YearsWithCompany\").show()\n"
   ]
  },
  {
   "cell_type": "code",
   "execution_count": 0,
   "metadata": {
    "application/vnd.databricks.v1+cell": {
     "cellMetadata": {
      "byteLimit": 2048000,
      "rowLimit": 10000
     },
     "inputWidgets": {},
     "nuid": "4caef5a0-961d-4de9-b27d-b3940421fef5",
     "showTitle": false,
     "tableResultSettingsMap": {},
     "title": ""
    }
   },
   "outputs": [
    {
     "output_type": "stream",
     "name": "stdout",
     "output_type": "stream",
     "text": [
      "+------+-----------+------+\n|  Name| Department|Salary|\n+------+-----------+------+\n| Rahul|Engineering| 65000|\n| Priya|Engineering| 60000|\n|Naveen|Engineering| 70000|\n|Fatima|  Marketing| 45000|\n|  Zoya|  Marketing| 48000|\n| Karan|         HR| 53000|\n|Ananya|         HR| 52000|\n+------+-----------+------+\n\n+------+-----------+------+----+------+\n|  Name| Department|Salary|Year|Rating|\n+------+-----------+------+----+------+\n|Ananya|         HR| 52000|2023|   4.5|\n|Fatima|  Marketing| 45000|2023|   3.9|\n| Karan|         HR| 53000|2023|   4.1|\n|Naveen|Engineering| 70000|2023|   4.7|\n| Priya|Engineering| 60000|2023|   4.3|\n| Rahul|Engineering| 65000|2023|   4.9|\n|  Zoya|  Marketing| 48000|2023|   3.8|\n+------+-----------+------+----+------+\n\n"
     ]
    }
   ],
   "source": [
    "# Read back the CSV\n",
    "df_csv = spark.read.option(\"header\", True).csv(\"/path/to/output/employee_data_csv\")\n",
    "df_csv.show()\n",
    "\n",
    "# Read back the Parquet\n",
    "df_parquet = spark.read.parquet(\"/path/to/output/joined_data_parquet\")\n",
    "df_parquet.show()\n",
    "\n"
   ]
  }
 ],
 "metadata": {
  "application/vnd.databricks.v1+notebook": {
   "computePreferences": null,
   "dashboards": [],
   "environmentMetadata": {
    "base_environment": "",
    "environment_version": "2"
   },
   "inputWidgetPreferences": null,
   "language": "python",
   "notebookMetadata": {
    "pythonIndentUnit": 4
   },
   "notebookName": "Untitled Notebook 2025-06-11 14:50:09",
   "widgets": {}
  },
  "language_info": {
   "name": "python"
  }
 },
 "nbformat": 4,
 "nbformat_minor": 0
}