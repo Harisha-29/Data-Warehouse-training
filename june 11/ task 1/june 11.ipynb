{
 "cells": [
  {
   "cell_type": "code",
   "execution_count": 0,
   "metadata": {
    "application/vnd.databricks.v1+cell": {
     "cellMetadata": {
      "byteLimit": 2048000,
      "rowLimit": 10000
     },
     "inputWidgets": {},
     "nuid": "9926ce4f-96a1-467f-8fe4-8437ee295423",
     "showTitle": false,
     "tableResultSettingsMap": {},
     "title": ""
    }
   },
   "outputs": [],
   "source": [
    "from pyspark.sql import SparkSession\n",
    "from pyspark.sql.functions import col, when, upper\n",
    "\n",
    "# Create SparkSession\n",
    "spark = SparkSession.builder.appName(\"EmployeeDataAnalysis\").getOrCreate()\n",
    "\n",
    "# Dataset\n",
    "data = [\n",
    "    (\"Ananya\", \"HR\", 52000),\n",
    "    (\"Rahul\", \"Engineering\", 65000),\n",
    "    (\"Priya\", \"Engineering\", 60000),\n",
    "    (\"Zoya\", \"Marketing\", 48000),\n",
    "    (\"Karan\", \"HR\", 53000),\n",
    "    (\"Naveen\", \"Engineering\", 70000),\n",
    "    (\"Fatima\", \"Marketing\", 45000)\n",
    "]\n",
    "columns = [\"Name\", \"Department\", \"Salary\"]\n",
    "\n",
    "# Create DataFrame\n",
    "df = spark.createDataFrame(data, columns)\n"
   ]
  },
  {
   "cell_type": "code",
   "execution_count": 0,
   "metadata": {
    "application/vnd.databricks.v1+cell": {
     "cellMetadata": {
      "byteLimit": 2048000,
      "rowLimit": 10000
     },
     "inputWidgets": {},
     "nuid": "c7dccc8a-c9ad-4531-a356-727dc67d5480",
     "showTitle": false,
     "tableResultSettingsMap": {},
     "title": ""
    }
   },
   "outputs": [
    {
     "output_type": "stream",
     "name": "stdout",
     "output_type": "stream",
     "text": [
      "+------+-----------+------+\n|  Name| Department|Salary|\n+------+-----------+------+\n|Ananya|         HR| 52000|\n| Rahul|Engineering| 65000|\n| Priya|Engineering| 60000|\n|  Zoya|  Marketing| 48000|\n| Karan|         HR| 53000|\n|Naveen|Engineering| 70000|\n|Fatima|  Marketing| 45000|\n+------+-----------+------+\n\nroot\n |-- Name: string (nullable = true)\n |-- Department: string (nullable = true)\n |-- Salary: long (nullable = true)\n\n"
     ]
    },
    {
     "output_type": "execute_result",
     "data": {
      "text/plain": [
       "7"
      ]
     },
     "execution_count": 2,
     "metadata": {},
     "output_type": "execute_result"
    }
   ],
   "source": [
    "# 1. Display all records\n",
    "df.show()\n",
    "\n",
    "# 2. Print the schema\n",
    "df.printSchema()\n",
    "\n",
    "# 3. Count total number of employees\n",
    "df.count()\n"
   ]
  },
  {
   "cell_type": "code",
   "execution_count": 0,
   "metadata": {
    "application/vnd.databricks.v1+cell": {
     "cellMetadata": {
      "byteLimit": 2048000,
      "rowLimit": 10000
     },
     "inputWidgets": {},
     "nuid": "9fe44cd1-dec5-412d-8ec1-ad7e1646840f",
     "showTitle": false,
     "tableResultSettingsMap": {},
     "title": ""
    }
   },
   "outputs": [
    {
     "output_type": "stream",
     "name": "stdout",
     "output_type": "stream",
     "text": [
      "+------+-----------+------+-------+\n|  Name| Department|Salary|  Bonus|\n+------+-----------+------+-------+\n|Ananya|         HR| 52000| 7800.0|\n| Rahul|Engineering| 65000| 9750.0|\n| Priya|Engineering| 60000| 9000.0|\n|  Zoya|  Marketing| 48000| 7200.0|\n| Karan|         HR| 53000| 7950.0|\n|Naveen|Engineering| 70000|10500.0|\n|Fatima|  Marketing| 45000| 6750.0|\n+------+-----------+------+-------+\n\n+------+-----------+------+-------+-------+\n|  Name| Department|Salary|  Bonus| NetPay|\n+------+-----------+------+-------+-------+\n|Ananya|         HR| 52000| 7800.0|59800.0|\n| Rahul|Engineering| 65000| 9750.0|74750.0|\n| Priya|Engineering| 60000| 9000.0|69000.0|\n|  Zoya|  Marketing| 48000| 7200.0|55200.0|\n| Karan|         HR| 53000| 7950.0|60950.0|\n|Naveen|Engineering| 70000|10500.0|80500.0|\n|Fatima|  Marketing| 45000| 6750.0|51750.0|\n+------+-----------+------+-------+-------+\n\n"
     ]
    }
   ],
   "source": [
    "# 4. Add a new column Bonus (15% of Salary)\n",
    "df_with_bonus = df.withColumn(\"Bonus\", col(\"Salary\") * 0.15)\n",
    "df_with_bonus.show()\n",
    "\n",
    "# 5. Add NetPay = Salary + Bonus\n",
    "df_with_netpay = df_with_bonus.withColumn(\"NetPay\", col(\"Salary\") + col(\"Bonus\"))\n",
    "df_with_netpay.show()\n"
   ]
  },
  {
   "cell_type": "code",
   "execution_count": 0,
   "metadata": {
    "application/vnd.databricks.v1+cell": {
     "cellMetadata": {
      "byteLimit": 2048000,
      "rowLimit": 10000
     },
     "inputWidgets": {},
     "nuid": "4742911e-d734-43ad-88a2-6cc06b690a79",
     "showTitle": false,
     "tableResultSettingsMap": {},
     "title": ""
    }
   },
   "outputs": [
    {
     "output_type": "stream",
     "name": "stdout",
     "output_type": "stream",
     "text": [
      "+------+-----------+------+\n|  Name| Department|Salary|\n+------+-----------+------+\n| Rahul|Engineering| 65000|\n| Priya|Engineering| 60000|\n|Naveen|Engineering| 70000|\n+------+-----------+------+\n\n+------+-----------+------+\n|  Name| Department|Salary|\n+------+-----------+------+\n| Rahul|Engineering| 65000|\n|Naveen|Engineering| 70000|\n+------+-----------+------+\n\n+------+-----------+------+\n|  Name| Department|Salary|\n+------+-----------+------+\n|Ananya|         HR| 52000|\n| Rahul|Engineering| 65000|\n| Priya|Engineering| 60000|\n| Karan|         HR| 53000|\n|Naveen|Engineering| 70000|\n+------+-----------+------+\n\n"
     ]
    }
   ],
   "source": [
    "# 6. Employees from Engineering department\n",
    "df.filter(col(\"Department\") == \"Engineering\").show()\n",
    "\n",
    "# 7. Employees with salary > 60000\n",
    "df.filter(col(\"Salary\") > 60000).show()\n",
    "\n",
    "# 8. Employees not in Marketing\n",
    "df.filter(col(\"Department\") != \"Marketing\").show()\n"
   ]
  },
  {
   "cell_type": "code",
   "execution_count": 0,
   "metadata": {
    "application/vnd.databricks.v1+cell": {
     "cellMetadata": {
      "byteLimit": 2048000,
      "rowLimit": 10000
     },
     "inputWidgets": {},
     "nuid": "a1ccb37a-fdde-4bb4-888f-f6d0d2f8aa41",
     "showTitle": false,
     "tableResultSettingsMap": {},
     "title": ""
    }
   },
   "outputs": [
    {
     "output_type": "stream",
     "name": "stdout",
     "output_type": "stream",
     "text": [
      "+------+-----------+------+\n|  Name| Department|Salary|\n+------+-----------+------+\n|Naveen|Engineering| 70000|\n| Rahul|Engineering| 65000|\n| Priya|Engineering| 60000|\n+------+-----------+------+\nonly showing top 3 rows\n\n+------+-----------+------+\n|  Name| Department|Salary|\n+------+-----------+------+\n|Naveen|Engineering| 70000|\n| Rahul|Engineering| 65000|\n| Priya|Engineering| 60000|\n| Karan|         HR| 53000|\n|Ananya|         HR| 52000|\n|  Zoya|  Marketing| 48000|\n|Fatima|  Marketing| 45000|\n+------+-----------+------+\n\n"
     ]
    }
   ],
   "source": [
    "# 9. Top 3 highest paid employees\n",
    "df.orderBy(col(\"Salary\").desc()).show(3)\n",
    "\n",
    "# 10. Sort by Department ASC, Salary DESC\n",
    "df.orderBy(col(\"Department\").asc(), col(\"Salary\").desc()).show()\n"
   ]
  },
  {
   "cell_type": "code",
   "execution_count": 0,
   "metadata": {
    "application/vnd.databricks.v1+cell": {
     "cellMetadata": {
      "byteLimit": 2048000,
      "rowLimit": 10000
     },
     "inputWidgets": {},
     "nuid": "c87576fb-6f29-4686-ae3e-6aa138208322",
     "showTitle": false,
     "tableResultSettingsMap": {},
     "title": ""
    }
   },
   "outputs": [
    {
     "output_type": "stream",
     "name": "stdout",
     "output_type": "stream",
     "text": [
      "+------+-----------+------+------+\n|  Name| Department|Salary| Level|\n+------+-----------+------+------+\n|Ananya|         HR| 52000|   Mid|\n| Rahul|Engineering| 65000|Senior|\n| Priya|Engineering| 60000|   Mid|\n|  Zoya|  Marketing| 48000|Junior|\n| Karan|         HR| 53000|   Mid|\n|Naveen|Engineering| 70000|Senior|\n|Fatima|  Marketing| 45000|Junior|\n+------+-----------+------+------+\n\n+------+-----------+------+----------+\n|  Name| Department|Salary|Name_Upper|\n+------+-----------+------+----------+\n|Ananya|         HR| 52000|    ANANYA|\n| Rahul|Engineering| 65000|     RAHUL|\n| Priya|Engineering| 60000|     PRIYA|\n|  Zoya|  Marketing| 48000|      ZOYA|\n| Karan|         HR| 53000|     KARAN|\n|Naveen|Engineering| 70000|    NAVEEN|\n|Fatima|  Marketing| 45000|    FATIMA|\n+------+-----------+------+----------+\n\n"
     ]
    }
   ],
   "source": [
    "# 11. Add Level column\n",
    "df_with_level = df.withColumn(\n",
    "    \"Level\",\n",
    "    when(col(\"Salary\") > 60000, \"Senior\")\n",
    "    .when((col(\"Salary\") >= 50000) & (col(\"Salary\") <= 60000), \"Mid\")\n",
    "    .otherwise(\"Junior\")\n",
    ")\n",
    "df_with_level.show()\n",
    "\n",
    "# 12. Convert all names to uppercase\n",
    "df_upper = df.withColumn(\"Name_Upper\", upper(col(\"Name\")))\n",
    "df_upper.show()\n"
   ]
  },
  {
   "cell_type": "code",
   "execution_count": 0,
   "metadata": {
    "application/vnd.databricks.v1+cell": {
     "cellMetadata": {},
     "inputWidgets": {},
     "nuid": "0d4a6f06-515d-42cf-9cba-cf1769cee0a4",
     "showTitle": false,
     "tableResultSettingsMap": {},
     "title": ""
    }
   },
   "outputs": [],
   "source": []
  }
 ],
 "metadata": {
  "application/vnd.databricks.v1+notebook": {
   "computePreferences": null,
   "dashboards": [],
   "environmentMetadata": {
    "base_environment": "",
    "environment_version": "2"
   },
   "inputWidgetPreferences": null,
   "language": "python",
   "notebookMetadata": {
    "pythonIndentUnit": 4
   },
   "notebookName": "Untitled Notebook 2025-06-11 11:17:07",
   "widgets": {}
  },
  "language_info": {
   "name": "python"
  }
 },
 "nbformat": 4,
 "nbformat_minor": 0
}