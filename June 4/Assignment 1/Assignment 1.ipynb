{
  "nbformat": 4,
  "nbformat_minor": 0,
  "metadata": {
    "colab": {
      "provenance": []
    },
    "kernelspec": {
      "name": "python3",
      "display_name": "Python 3"
    },
    "language_info": {
      "name": "python"
    }
  },
  "cells": [
    {
      "cell_type": "code",
      "execution_count": 5,
      "metadata": {
        "colab": {
          "base_uri": "https://localhost:8080/"
        },
        "id": "sz5C9H_2bujz",
        "outputId": "962993a2-81ac-420a-d452-b851647ff52a"
      },
      "outputs": [
        {
          "output_type": "stream",
          "name": "stdout",
          "text": [
            "+---------+-----------+-----------+-------+--------+----------+\n",
            "|ProductID|ProductName|   Category|  Price|Quantity|  SaleDate|\n",
            "+---------+-----------+-----------+-------+--------+----------+\n",
            "|      101|     Laptop|Electronics|60000.0|       2|2024-06-01|\n",
            "|      102|     Mobile|Electronics|20000.0|       3|2024-06-02|\n",
            "|      103|      Shoes|   Footwear| 1500.0|       4|2024-06-03|\n",
            "|      104|      Jeans|    Apparel| 1200.0|       1|2024-06-04|\n",
            "|      105|      Watch|Accessories| 3000.0|       2|2024-06-05|\n",
            "+---------+-----------+-----------+-------+--------+----------+\n",
            "\n"
          ]
        }
      ],
      "source": [
        "from pyspark.sql import SparkSession\n",
        "\n",
        "# Initialize Spark session\n",
        "spark = SparkSession.builder \\\n",
        "    .appName(\"Sales SQL Example\") \\\n",
        "    .enableHiveSupport() \\\n",
        "    .getOrCreate()\n",
        "\n",
        "# Create database\n",
        "spark.sql(\"CREATE DATABASE IF NOT EXISTS sales_db\")\n",
        "\n",
        "# Use the database\n",
        "spark.sql(\"USE sales_db\")\n",
        "\n",
        "# Create table\n",
        "spark.sql(\"\"\"\n",
        "    CREATE TABLE IF NOT EXISTS product_sales (\n",
        "        ProductID INT,\n",
        "        ProductName STRING,\n",
        "        Category STRING,\n",
        "        Price DOUBLE,\n",
        "        Quantity INT,\n",
        "        SaleDate DATE\n",
        "    )\n",
        "\"\"\")\n",
        "\n",
        "# Insert rows\n",
        "spark.sql(\"\"\"\n",
        "    INSERT INTO product_sales VALUES\n",
        "    (101, 'Laptop', 'Electronics', 60000, 2, DATE('2024-06-01')),\n",
        "    (102, 'Mobile', 'Electronics', 20000, 3, DATE('2024-06-02')),\n",
        "    (103, 'Shoes', 'Footwear', 1500, 4, DATE('2024-06-03')),\n",
        "    (104, 'Jeans', 'Apparel', 1200, 1, DATE('2024-06-04')),\n",
        "    (105, 'Watch', 'Accessories', 3000, 2, DATE('2024-06-05'))\n",
        "\"\"\")\n",
        "\n",
        "# Show inserted data\n",
        "spark.sql(\"SELECT * FROM product_sales\").show()\n",
        "\n",
        "\n"
      ]
    },
    {
      "cell_type": "code",
      "source": [
        "# 5. Select all records\n",
        "spark.sql(\"SELECT * FROM product_sales\").show()\n",
        "\n",
        "# 6. Products where price > 500\n",
        "spark.sql(\"SELECT * FROM product_sales WHERE Price > 500\").show()\n",
        "\n",
        "# 7. Total sale amount per product\n",
        "spark.sql(\"\"\"\n",
        "    SELECT ProductName, Price, Quantity, (Price * Quantity) AS TotalAmount\n",
        "    FROM product_sales\n",
        "\"\"\").show()\n",
        "\n",
        "# 8. Number of products per category\n",
        "spark.sql(\"\"\"\n",
        "    SELECT Category, COUNT(*) AS NumProducts\n",
        "    FROM product_sales\n",
        "    GROUP BY Category\n",
        "\"\"\").show()\n",
        "\n",
        "# 9. Sort by total sales descending\n",
        "spark.sql(\"\"\"\n",
        "    SELECT ProductName, (Price * Quantity) AS TotalSales\n",
        "    FROM product_sales\n",
        "    ORDER BY TotalSales DESC\n",
        "\"\"\").show()\n"
      ],
      "metadata": {
        "colab": {
          "base_uri": "https://localhost:8080/"
        },
        "id": "irlURL1ofpWu",
        "outputId": "94123d2a-583e-47c9-d787-dac280600a4b"
      },
      "execution_count": 6,
      "outputs": [
        {
          "output_type": "stream",
          "name": "stdout",
          "text": [
            "+---------+-----------+-----------+-------+--------+----------+\n",
            "|ProductID|ProductName|   Category|  Price|Quantity|  SaleDate|\n",
            "+---------+-----------+-----------+-------+--------+----------+\n",
            "|      101|     Laptop|Electronics|60000.0|       2|2024-06-01|\n",
            "|      102|     Mobile|Electronics|20000.0|       3|2024-06-02|\n",
            "|      103|      Shoes|   Footwear| 1500.0|       4|2024-06-03|\n",
            "|      104|      Jeans|    Apparel| 1200.0|       1|2024-06-04|\n",
            "|      105|      Watch|Accessories| 3000.0|       2|2024-06-05|\n",
            "+---------+-----------+-----------+-------+--------+----------+\n",
            "\n",
            "+---------+-----------+-----------+-------+--------+----------+\n",
            "|ProductID|ProductName|   Category|  Price|Quantity|  SaleDate|\n",
            "+---------+-----------+-----------+-------+--------+----------+\n",
            "|      101|     Laptop|Electronics|60000.0|       2|2024-06-01|\n",
            "|      102|     Mobile|Electronics|20000.0|       3|2024-06-02|\n",
            "|      103|      Shoes|   Footwear| 1500.0|       4|2024-06-03|\n",
            "|      104|      Jeans|    Apparel| 1200.0|       1|2024-06-04|\n",
            "|      105|      Watch|Accessories| 3000.0|       2|2024-06-05|\n",
            "+---------+-----------+-----------+-------+--------+----------+\n",
            "\n",
            "+-----------+-------+--------+-----------+\n",
            "|ProductName|  Price|Quantity|TotalAmount|\n",
            "+-----------+-------+--------+-----------+\n",
            "|     Laptop|60000.0|       2|   120000.0|\n",
            "|     Mobile|20000.0|       3|    60000.0|\n",
            "|      Shoes| 1500.0|       4|     6000.0|\n",
            "|      Jeans| 1200.0|       1|     1200.0|\n",
            "|      Watch| 3000.0|       2|     6000.0|\n",
            "+-----------+-------+--------+-----------+\n",
            "\n",
            "+-----------+-----------+\n",
            "|   Category|NumProducts|\n",
            "+-----------+-----------+\n",
            "|Electronics|          2|\n",
            "|    Apparel|          1|\n",
            "|   Footwear|          1|\n",
            "|Accessories|          1|\n",
            "+-----------+-----------+\n",
            "\n",
            "+-----------+----------+\n",
            "|ProductName|TotalSales|\n",
            "+-----------+----------+\n",
            "|     Laptop|  120000.0|\n",
            "|     Mobile|   60000.0|\n",
            "|      Shoes|    6000.0|\n",
            "|      Watch|    6000.0|\n",
            "|      Jeans|    1200.0|\n",
            "+-----------+----------+\n",
            "\n"
          ]
        }
      ]
    },
    {
      "cell_type": "code",
      "source": [
        "# 10. Create PySpark DataFrame\n",
        "dummy_data = [\n",
        "    (201, \"Tablet\", \"Electronics\", 15000.0, 2, \"2024-06-01\"),\n",
        "    (202, \"Socks\", \"Apparel\", 300.0, 5, \"2024-06-02\"),\n",
        "    (203, \"Keyboard\", \"Electronics\", 800.0, 1, \"2024-06-03\"),\n",
        "]\n",
        "columns = [\"ProductID\", \"ProductName\", \"Category\", \"Price\", \"Quantity\", \"SaleDate\"]\n",
        "\n",
        "df_temp = spark.createDataFrame(dummy_data, columns)\n",
        "\n",
        "# 11. Register temporary view\n",
        "df_temp.createOrReplaceTempView(\"temp_orders\")\n",
        "\n",
        "# 12. Query where quantity > 1\n",
        "spark.sql(\"SELECT * FROM temp_orders WHERE Quantity > 1\").show()\n"
      ],
      "metadata": {
        "colab": {
          "base_uri": "https://localhost:8080/"
        },
        "id": "-8qnncM9f6OC",
        "outputId": "038345a8-30e0-4056-aa66-cf5e945d4f91"
      },
      "execution_count": 7,
      "outputs": [
        {
          "output_type": "stream",
          "name": "stdout",
          "text": [
            "+---------+-----------+-----------+-------+--------+----------+\n",
            "|ProductID|ProductName|   Category|  Price|Quantity|  SaleDate|\n",
            "+---------+-----------+-----------+-------+--------+----------+\n",
            "|      201|     Tablet|Electronics|15000.0|       2|2024-06-01|\n",
            "|      202|      Socks|    Apparel|  300.0|       5|2024-06-02|\n",
            "+---------+-----------+-----------+-------+--------+----------+\n",
            "\n"
          ]
        }
      ]
    },
    {
      "cell_type": "code",
      "source": [
        "# 13. Create global temp view\n",
        "df_temp.createOrReplaceGlobalTempView(\"global_orders\")\n",
        "\n",
        "# 14. Query global view (can be accessed across sessions via global_temp)\n",
        "spark.sql(\"SELECT * FROM global_temp.global_orders WHERE Quantity > 1\").show()\n"
      ],
      "metadata": {
        "colab": {
          "base_uri": "https://localhost:8080/"
        },
        "id": "XyocIOhxgIYS",
        "outputId": "cb52072d-aa14-4489-d408-450426ec9bdc"
      },
      "execution_count": 8,
      "outputs": [
        {
          "output_type": "stream",
          "name": "stdout",
          "text": [
            "+---------+-----------+-----------+-------+--------+----------+\n",
            "|ProductID|ProductName|   Category|  Price|Quantity|  SaleDate|\n",
            "+---------+-----------+-----------+-------+--------+----------+\n",
            "|      201|     Tablet|Electronics|15000.0|       2|2024-06-01|\n",
            "|      202|      Socks|    Apparel|  300.0|       5|2024-06-02|\n",
            "+---------+-----------+-----------+-------+--------+----------+\n",
            "\n"
          ]
        }
      ]
    },
    {
      "cell_type": "code",
      "source": [
        "# 15. Create customer_details table\n",
        "spark.sql(\"\"\"\n",
        "    CREATE TABLE IF NOT EXISTS customer_details (\n",
        "        CustomerID INT,\n",
        "        Name STRING,\n",
        "        Gender STRING,\n",
        "        City STRING,\n",
        "        SignupDate DATE\n",
        "    )\n",
        "\"\"\")\n",
        "\n",
        "# 16. Insert customer data\n",
        "spark.sql(\"\"\"\n",
        "    INSERT INTO customer_details VALUES\n",
        "    (101, 'Ali', 'Male', 'Hyderabad', DATE('2024-01-01')),\n",
        "    (102, 'Neha', 'Female', 'Mumbai', DATE('2024-02-15')),\n",
        "    (105, 'Raj', 'Male', 'Delhi', DATE('2024-03-20'))\n",
        "\"\"\")\n",
        "\n",
        "# 17. Join product_sales and customer_details (ProductID = CustomerID)\n",
        "spark.sql(\"\"\"\n",
        "    SELECT ps.ProductID, ps.ProductName, cd.Name, cd.City\n",
        "    FROM product_sales ps\n",
        "    JOIN customer_details cd\n",
        "    ON ps.ProductID = cd.CustomerID\n",
        "\"\"\").show()\n",
        "\n",
        "# 18. Customers who bought more than 2 products\n",
        "spark.sql(\"\"\"\n",
        "    SELECT cd.Name, ps.ProductName, ps.Quantity\n",
        "    FROM product_sales ps\n",
        "    JOIN customer_details cd\n",
        "    ON ps.ProductID = cd.CustomerID\n",
        "    WHERE ps.Quantity > 2\n",
        "\"\"\").show()\n"
      ],
      "metadata": {
        "colab": {
          "base_uri": "https://localhost:8080/"
        },
        "id": "vA7ZF-DzgOSd",
        "outputId": "77681a6c-80db-4334-e291-c10e8525075f"
      },
      "execution_count": 9,
      "outputs": [
        {
          "output_type": "stream",
          "name": "stdout",
          "text": [
            "+---------+-----------+----+---------+\n",
            "|ProductID|ProductName|Name|     City|\n",
            "+---------+-----------+----+---------+\n",
            "|      101|     Laptop| Ali|Hyderabad|\n",
            "|      102|     Mobile|Neha|   Mumbai|\n",
            "|      105|      Watch| Raj|    Delhi|\n",
            "+---------+-----------+----+---------+\n",
            "\n",
            "+----+-----------+--------+\n",
            "|Name|ProductName|Quantity|\n",
            "+----+-----------+--------+\n",
            "|Neha|     Mobile|       3|\n",
            "+----+-----------+--------+\n",
            "\n"
          ]
        }
      ]
    },
    {
      "cell_type": "code",
      "source": [
        "# 19. Create view sales_summary\n",
        "spark.sql(\"\"\"\n",
        "    CREATE VIEW IF NOT EXISTS sales_summary AS\n",
        "    SELECT ProductName, Price, Quantity, (Price * Quantity) AS Total\n",
        "    FROM product_sales\n",
        "\"\"\")\n",
        "\n",
        "# 20. Query the view\n",
        "spark.sql(\"SELECT * FROM sales_summary WHERE Total > 1000\").show()\n"
      ],
      "metadata": {
        "colab": {
          "base_uri": "https://localhost:8080/"
        },
        "id": "B1Yq5gMEgXaV",
        "outputId": "a30d235d-9ef4-4a36-ae15-e955e25b2313"
      },
      "execution_count": 10,
      "outputs": [
        {
          "output_type": "stream",
          "name": "stdout",
          "text": [
            "+-----------+-------+--------+--------+\n",
            "|ProductName|  Price|Quantity|   Total|\n",
            "+-----------+-------+--------+--------+\n",
            "|     Laptop|60000.0|       2|120000.0|\n",
            "|     Mobile|20000.0|       3| 60000.0|\n",
            "|      Shoes| 1500.0|       4|  6000.0|\n",
            "|      Jeans| 1200.0|       1|  1200.0|\n",
            "|      Watch| 3000.0|       2|  6000.0|\n",
            "+-----------+-------+--------+--------+\n",
            "\n"
          ]
        }
      ]
    },
    {
      "cell_type": "code",
      "source": [
        "# 21. Drop view\n",
        "spark.sql(\"DROP VIEW IF EXISTS sales_summary\")\n",
        "\n",
        "# 22. Drop tables\n",
        "spark.sql(\"DROP TABLE IF EXISTS product_sales\")\n",
        "spark.sql(\"DROP TABLE IF EXISTS customer_details\")\n",
        "\n",
        "# 23. Drop database\n",
        "spark.sql(\"DROP DATABASE IF EXISTS sales_db CASCADE\")\n"
      ],
      "metadata": {
        "colab": {
          "base_uri": "https://localhost:8080/"
        },
        "id": "P7T3RK7ogb3b",
        "outputId": "56b6ef70-cf5e-4921-e669-553776c1ad7b"
      },
      "execution_count": 11,
      "outputs": [
        {
          "output_type": "execute_result",
          "data": {
            "text/plain": [
              "DataFrame[]"
            ]
          },
          "metadata": {},
          "execution_count": 11
        }
      ]
    }
  ]
}