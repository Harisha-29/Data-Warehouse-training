{
 "cells": [
  {
   "cell_type": "code",
   "execution_count": 0,
   "metadata": {
    "application/vnd.databricks.v1+cell": {
     "cellMetadata": {
      "byteLimit": 2048000,
      "rowLimit": 10000
     },
     "inputWidgets": {},
     "nuid": "cf693776-80fd-42c0-9a1b-197b3eede6f8",
     "showTitle": false,
     "tableResultSettingsMap": {},
     "title": ""
    }
   },
   "outputs": [
    {
     "output_type": "stream",
     "name": "stdout",
     "output_type": "stream",
     "text": [
      "+-------+--------+--------------------------------------------------------------+------+------+\n|OrderID|Customer|Items                                                         |Region|Amount|\n+-------+--------+--------------------------------------------------------------+------+------+\n|101    |Ali     |[{Product -> Laptop, Qty -> 1}, {Product -> Mouse, Qty -> 2}] |Asia  |1200.0|\n|102    |Zara    |[{Product -> Tablet, Qty -> 1}]                               |Europe|650.0 |\n|103    |Mohan   |[{Product -> Phone, Qty -> 2}, {Product -> Charger, Qty -> 1}]|Asia  |890.0 |\n|104    |Sara    |[{Product -> Desk, Qty -> 1}]                                 |US    |450.0 |\n+-------+--------+--------------------------------------------------------------+------+------+\n\nroot\n |-- OrderID: long (nullable = true)\n |-- Customer: string (nullable = true)\n |-- Items: array (nullable = true)\n |    |-- element: map (containsNull = true)\n |    |    |-- key: string\n |    |    |-- value: string (valueContainsNull = true)\n |-- Region: string (nullable = true)\n |-- Amount: double (nullable = true)\n\n"
     ]
    }
   ],
   "source": [
    "from pyspark.sql import Row\n",
    "from pyspark.sql.functions import explode, col, when\n",
    "from pyspark.sql.types import StructType, StructField, StringType, IntegerType, DoubleType, ArrayType\n",
    "\n",
    "# Sample Data\n",
    "data = [\n",
    "    Row(OrderID=101, Customer=\"Ali\", Items=[{\"Product\":\"Laptop\", \"Qty\":1}, {\"Product\":\"Mouse\", \"Qty\":2}], Region=\"Asia\", Amount=1200.0),\n",
    "    Row(OrderID=102, Customer=\"Zara\", Items=[{\"Product\":\"Tablet\", \"Qty\":1}], Region=\"Europe\", Amount=650.0),\n",
    "    Row(OrderID=103, Customer=\"Mohan\", Items=[{\"Product\":\"Phone\", \"Qty\":2}, {\"Product\":\"Charger\", \"Qty\":1}], Region=\"Asia\", Amount=890.0),\n",
    "    Row(OrderID=104, Customer=\"Sara\", Items=[{\"Product\":\"Desk\", \"Qty\":1}], Region=\"US\", Amount=450.0)\n",
    "]\n",
    "\n",
    "df_sales = spark.createDataFrame(data)\n",
    "df_sales.show(truncate=False)\n",
    "df_sales.printSchema()\n"
   ]
  },
  {
   "cell_type": "code",
   "execution_count": 0,
   "metadata": {
    "application/vnd.databricks.v1+cell": {
     "cellMetadata": {
      "byteLimit": 2048000,
      "rowLimit": 10000
     },
     "inputWidgets": {},
     "nuid": "0fb5c990-8cca-4fb4-b90b-23730f8b4513",
     "showTitle": false,
     "tableResultSettingsMap": {},
     "title": ""
    }
   },
   "outputs": [
    {
     "output_type": "stream",
     "name": "stdout",
     "output_type": "stream",
     "text": [
      "+-------+--------+------+------+-------+---+\n|OrderID|Customer|Region|Amount|Product|Qty|\n+-------+--------+------+------+-------+---+\n|101    |Ali     |Asia  |1200.0|Laptop |1  |\n|101    |Ali     |Asia  |1200.0|Mouse  |2  |\n|102    |Zara    |Europe|650.0 |Tablet |1  |\n|103    |Mohan   |Asia  |890.0 |Phone  |2  |\n|103    |Mohan   |Asia  |890.0 |Charger|1  |\n|104    |Sara    |US    |450.0 |Desk   |1  |\n+-------+--------+------+------+-------+---+\n\nroot\n |-- OrderID: long (nullable = true)\n |-- Customer: string (nullable = true)\n |-- Region: string (nullable = true)\n |-- Amount: double (nullable = true)\n |-- Product: string (nullable = true)\n |-- Qty: integer (nullable = true)\n\n"
     ]
    }
   ],
   "source": [
    "from pyspark.sql.functions import explode, col\n",
    "\n",
    "df_exploded = df_sales.withColumn(\"Item\", explode(\"Items\")) \\\n",
    "                      .withColumn(\"Product\", col(\"Item.Product\")) \\\n",
    "                      .withColumn(\"Qty\", col(\"Item.Qty\").cast(\"int\")) \\\n",
    "                      .drop(\"Items\", \"Item\")\n",
    "\n",
    "df_exploded.show(truncate=False)\n",
    "df_exploded.printSchema()  # Optional: Confirm Qty is IntegerType\n",
    "\n"
   ]
  },
  {
   "cell_type": "code",
   "execution_count": 0,
   "metadata": {
    "application/vnd.databricks.v1+cell": {
     "cellMetadata": {
      "byteLimit": 2048000,
      "rowLimit": 10000
     },
     "inputWidgets": {},
     "nuid": "15cc0f32-bfbf-4dbd-90a0-4f8d310a2c08",
     "showTitle": false,
     "tableResultSettingsMap": {},
     "title": ""
    }
   },
   "outputs": [
    {
     "output_type": "stream",
     "name": "stdout",
     "output_type": "stream",
     "text": [
      "+-------+--------+\n|Product|TotalQty|\n+-------+--------+\n| Laptop|       1|\n|  Mouse|       2|\n| Tablet|       1|\n|  Phone|       2|\n|Charger|       1|\n|   Desk|       1|\n+-------+--------+\n\n"
     ]
    }
   ],
   "source": [
    "df_exploded.groupBy(\"Product\").sum(\"Qty\").withColumnRenamed(\"sum(Qty)\", \"TotalQty\").show()\n"
   ]
  },
  {
   "cell_type": "code",
   "execution_count": 0,
   "metadata": {
    "application/vnd.databricks.v1+cell": {
     "cellMetadata": {
      "byteLimit": 2048000,
      "rowLimit": 10000
     },
     "inputWidgets": {},
     "nuid": "90c702fb-2fd0-4c97-b1f8-b0cd4d60505a",
     "showTitle": false,
     "tableResultSettingsMap": {},
     "title": ""
    }
   },
   "outputs": [
    {
     "output_type": "stream",
     "name": "stdout",
     "output_type": "stream",
     "text": [
      "+------+----------+\n|Region|OrderCount|\n+------+----------+\n|  Asia|         2|\n|Europe|         1|\n|    US|         1|\n+------+----------+\n\n"
     ]
    }
   ],
   "source": [
    "df_sales.groupBy(\"Region\").count().withColumnRenamed(\"count\", \"OrderCount\").show()\n"
   ]
  },
  {
   "cell_type": "code",
   "execution_count": 0,
   "metadata": {
    "application/vnd.databricks.v1+cell": {
     "cellMetadata": {
      "byteLimit": 2048000,
      "rowLimit": 10000
     },
     "inputWidgets": {},
     "nuid": "7bd2daa8-ff3d-48f1-890b-d973cb14e8c8",
     "showTitle": false,
     "tableResultSettingsMap": {},
     "title": ""
    }
   },
   "outputs": [
    {
     "output_type": "stream",
     "name": "stdout",
     "output_type": "stream",
     "text": [
      "+-------+--------+------+--------------+\n|OrderID|Customer|Amount|HighValueOrder|\n+-------+--------+------+--------------+\n|    101|     Ali|1200.0|           Yes|\n|    102|    Zara| 650.0|            No|\n|    103|   Mohan| 890.0|            No|\n|    104|    Sara| 450.0|            No|\n+-------+--------+------+--------------+\n\n"
     ]
    }
   ],
   "source": [
    "df_sales = df_sales.withColumn(\"HighValueOrder\", when(col(\"Amount\") > 1000, \"Yes\").otherwise(\"No\"))\n",
    "df_sales.select(\"OrderID\", \"Customer\", \"Amount\", \"HighValueOrder\").show()\n"
   ]
  },
  {
   "cell_type": "code",
   "execution_count": 0,
   "metadata": {
    "application/vnd.databricks.v1+cell": {
     "cellMetadata": {
      "byteLimit": 2048000,
      "rowLimit": 10000
     },
     "inputWidgets": {},
     "nuid": "d102403f-b46f-477b-95ac-b8a80cdad203",
     "showTitle": false,
     "tableResultSettingsMap": {},
     "title": ""
    }
   },
   "outputs": [
    {
     "output_type": "stream",
     "name": "stdout",
     "output_type": "stream",
     "text": [
      "+-------+------+------------+\n|OrderID|Region|ShippingZone|\n+-------+------+------------+\n|    101|  Asia|      Zone A|\n|    102|Europe|      Zone B|\n|    103|  Asia|      Zone A|\n|    104|    US|      Zone C|\n+-------+------+------------+\n\n"
     ]
    }
   ],
   "source": [
    "df_sales = df_sales.withColumn(\n",
    "    \"ShippingZone\",\n",
    "    when(col(\"Region\") == \"Asia\", \"Zone A\")\n",
    "    .when(col(\"Region\") == \"Europe\", \"Zone B\")\n",
    "    .when(col(\"Region\") == \"US\", \"Zone C\")\n",
    "    .otherwise(\"Other\")\n",
    ")\n",
    "df_sales.select(\"OrderID\", \"Region\", \"ShippingZone\").show()\n"
   ]
  },
  {
   "cell_type": "code",
   "execution_count": 0,
   "metadata": {
    "application/vnd.databricks.v1+cell": {
     "cellMetadata": {
      "byteLimit": 2048000,
      "rowLimit": 10000
     },
     "inputWidgets": {},
     "nuid": "e9783afb-b00f-4a7d-b815-a77e9b12d6af",
     "showTitle": false,
     "tableResultSettingsMap": {},
     "title": ""
    }
   },
   "outputs": [],
   "source": [
    "df_sales.createOrReplaceTempView(\"sales_view\")\n"
   ]
  },
  {
   "cell_type": "code",
   "execution_count": 0,
   "metadata": {
    "application/vnd.databricks.v1+cell": {
     "cellMetadata": {
      "byteLimit": 2048000,
      "rowLimit": 10000
     },
     "inputWidgets": {},
     "nuid": "8579cb04-56db-4636-a684-ea001399fee1",
     "showTitle": false,
     "tableResultSettingsMap": {},
     "title": ""
    }
   },
   "outputs": [
    {
     "output_type": "stream",
     "name": "stdout",
     "output_type": "stream",
     "text": [
      "+------+----------+---------+\n|Region|OrderCount|AvgAmount|\n+------+----------+---------+\n|  Asia|         2|   1045.0|\n|Europe|         1|    650.0|\n|    US|         1|    450.0|\n+------+----------+---------+\n\n"
     ]
    }
   ],
   "source": [
    "spark.sql(\"\"\"\n",
    "SELECT \n",
    "    Region,\n",
    "    COUNT(*) AS OrderCount,\n",
    "    AVG(Amount) AS AvgAmount\n",
    "FROM sales_view\n",
    "GROUP BY Region\n",
    "\"\"\").show()\n"
   ]
  },
  {
   "cell_type": "code",
   "execution_count": 0,
   "metadata": {
    "application/vnd.databricks.v1+cell": {
     "cellMetadata": {
      "byteLimit": 2048000,
      "rowLimit": 10000
     },
     "inputWidgets": {},
     "nuid": "b6e60c05-8bb8-47f1-b310-6311c4e41c12",
     "showTitle": false,
     "tableResultSettingsMap": {},
     "title": ""
    }
   },
   "outputs": [],
   "source": [
    "# Save as a managed Hive table (requires warehouse directory setup)\n",
    "df_sales.write.mode(\"overwrite\").saveAsTable(\"permanent_sales_view\")\n"
   ]
  },
  {
   "cell_type": "code",
   "execution_count": 0,
   "metadata": {
    "application/vnd.databricks.v1+cell": {
     "cellMetadata": {
      "byteLimit": 2048000,
      "rowLimit": 10000
     },
     "inputWidgets": {},
     "nuid": "5ec953df-a52d-45f3-9132-d2406c1e7541",
     "showTitle": false,
     "tableResultSettingsMap": {},
     "title": ""
    }
   },
   "outputs": [
    {
     "output_type": "stream",
     "name": "stdout",
     "output_type": "stream",
     "text": [
      "+-------+--------+------+------+\n|OrderID|Customer|Region|Amount|\n+-------+--------+------+------+\n|    101|     Ali|  Asia|1200.0|\n|    103|   Mohan|  Asia| 890.0|\n+-------+--------+------+------+\n\n"
     ]
    }
   ],
   "source": [
    "spark.sql(\"\"\"\n",
    "SELECT OrderID, Customer, Region, Amount\n",
    "FROM sales_view\n",
    "WHERE size(Items) > 1\n",
    "\"\"\").show()\n"
   ]
  },
  {
   "cell_type": "code",
   "execution_count": 0,
   "metadata": {
    "application/vnd.databricks.v1+cell": {
     "cellMetadata": {
      "byteLimit": 2048000,
      "rowLimit": 10000
     },
     "inputWidgets": {},
     "nuid": "11553d2a-d4b6-4348-84eb-b86ff606c61c",
     "showTitle": false,
     "tableResultSettingsMap": {},
     "title": ""
    }
   },
   "outputs": [
    {
     "output_type": "stream",
     "name": "stdout",
     "output_type": "stream",
     "text": [
      "+--------+\n|Customer|\n+--------+\n|     Ali|\n|   Mohan|\n+--------+\n\n"
     ]
    }
   ],
   "source": [
    "spark.sql(\"\"\"\n",
    "SELECT Customer\n",
    "FROM sales_view\n",
    "WHERE Amount > 800\n",
    "\"\"\").show()\n"
   ]
  },
  {
   "cell_type": "code",
   "execution_count": 0,
   "metadata": {
    "application/vnd.databricks.v1+cell": {
     "cellMetadata": {
      "byteLimit": 2048000,
      "rowLimit": 10000
     },
     "inputWidgets": {},
     "nuid": "0c4096f3-48cf-4914-849e-bee06db63b3e",
     "showTitle": false,
     "tableResultSettingsMap": {},
     "title": ""
    }
   },
   "outputs": [],
   "source": [
    "# You can choose your Azure directory, e.g., \"/mnt/mycontainer/final_output/\"\n",
    "df_exploded.write.mode(\"overwrite\").partitionBy(\"Region\").parquet(\"/mnt/output/sales_by_product\")\n"
   ]
  },
  {
   "cell_type": "code",
   "execution_count": 0,
   "metadata": {
    "application/vnd.databricks.v1+cell": {
     "cellMetadata": {
      "byteLimit": 2048000,
      "rowLimit": 10000
     },
     "inputWidgets": {},
     "nuid": "e2e450c5-a05a-44da-93ee-b31665eb6f69",
     "showTitle": false,
     "tableResultSettingsMap": {},
     "title": ""
    }
   },
   "outputs": [
    {
     "output_type": "stream",
     "name": "stdout",
     "output_type": "stream",
     "text": [
      "+-------+--------+\n|Product|TotalQty|\n+-------+--------+\n|  Phone|       2|\n|Charger|       1|\n| Laptop|       1|\n|  Mouse|       2|\n| Tablet|       1|\n|   Desk|       1|\n+-------+--------+\n\n"
     ]
    }
   ],
   "source": [
    "df_parquet = spark.read.parquet(\"/mnt/output/sales_by_product\")\n",
    "df_parquet.groupBy(\"Product\").sum(\"Qty\").withColumnRenamed(\"sum(Qty)\", \"TotalQty\").show()\n"
   ]
  }
 ],
 "metadata": {
  "application/vnd.databricks.v1+notebook": {
   "computePreferences": null,
   "dashboards": [],
   "environmentMetadata": {
    "base_environment": "",
    "environment_version": "2"
   },
   "inputWidgetPreferences": null,
   "language": "python",
   "notebookMetadata": {
    "pythonIndentUnit": 4
   },
   "notebookName": "Untitled Notebook 2025-06-12 09:52:50",
   "widgets": {}
  },
  "language_info": {
   "name": "python"
  }
 },
 "nbformat": 4,
 "nbformat_minor": 0
}