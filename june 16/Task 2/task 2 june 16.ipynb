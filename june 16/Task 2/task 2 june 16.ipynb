{
 "cells": [
  {
   "cell_type": "code",
   "execution_count": 0,
   "metadata": {
    "application/vnd.databricks.v1+cell": {
     "cellMetadata": {
      "byteLimit": 2048000,
      "rowLimit": 10000
     },
     "inputWidgets": {},
     "nuid": "e53629e5-bee0-4440-9219-fa831541d796",
     "showTitle": false,
     "tableResultSettingsMap": {},
     "title": ""
    }
   },
   "outputs": [
    {
     "output_type": "execute_result",
     "data": {
      "text/plain": [
       "True"
      ]
     },
     "execution_count": 6,
     "metadata": {},
     "output_type": "execute_result"
    }
   ],
   "source": [
    "dbutils.fs.mount(\n",
    "  source = \"wasbs://image@june161.blob.core.windows.net/\",\n",
    "  mount_point = \"/mnt/june161\",\n",
    "  extra_configs = {\n",
    "    \"fs.azure.account.key.june161.blob.core.windows.net\": \"wrRw321e+rDzAkRZAAEw3BhbPH1wyhLSjx/w0MAAiCxic0ff3l0dO4xYLHwDHvH78RVOyjxMs0Z8+AStqpBEIA==\"\n",
    "  }\n",
    ")\n"
   ]
  },
  {
   "cell_type": "code",
   "execution_count": 0,
   "metadata": {
    "application/vnd.databricks.v1+cell": {
     "cellMetadata": {
      "byteLimit": 2048000,
      "rowLimit": 10000
     },
     "inputWidgets": {},
     "nuid": "7998c02c-1921-4903-a42a-98888de0cd9e",
     "showTitle": false,
     "tableResultSettingsMap": {},
     "title": ""
    }
   },
   "outputs": [],
   "source": [
    "subs_df = spark.read.option(\"header\", True).option(\"inferSchema\", True).csv(\"/mnt/june161/subscriptions.csv\")\n",
    "activity_df = spark.read.option(\"header\", True).option(\"inferSchema\", True).csv(\"/mnt/june161/user_activity.csv\")\n"
   ]
  },
  {
   "cell_type": "code",
   "execution_count": 0,
   "metadata": {
    "application/vnd.databricks.v1+cell": {
     "cellMetadata": {
      "byteLimit": 2048000,
      "rowLimit": 10000
     },
     "inputWidgets": {},
     "nuid": "142b1275-6ef4-4ab6-9a41-eaea02909c87",
     "showTitle": false,
     "tableResultSettingsMap": {},
     "title": ""
    }
   },
   "outputs": [
    {
     "output_type": "stream",
     "name": "stdout",
     "output_type": "stream",
     "text": [
      "+--------------+------+--------+------------------+\n|SubscriptionID|UserID|PlanType|  engagement_score|\n+--------------+------+--------+------------------+\n|        SUB001|  U001|   Basic|0.6593406593406594|\n|        SUB002|  U002|     Pro|               1.0|\n|        SUB003|  U003|     Pro|0.9782608695652174|\n|        SUB004|  U001| Premium|2.6373626373626378|\n|        SUB005|  U004|   Basic|0.3296703296703297|\n+--------------+------+--------+------------------+\n\n"
     ]
    }
   ],
   "source": [
    "from pyspark.sql.functions import to_date, to_timestamp, count, datediff, col\n",
    "\n",
    "# Convert date columns\n",
    "subs_df = subs_df.withColumn(\"StartDate\", to_date(\"StartDate\")) \\\n",
    "                 .withColumn(\"EndDate\", to_date(\"EndDate\"))\n",
    "\n",
    "activity_df = activity_df.withColumn(\"EventTime\", to_timestamp(\"EventTime\"))\n",
    "\n",
    "# Compute active_days\n",
    "subs_df = subs_df.withColumn(\"active_days\", datediff(\"EndDate\", \"StartDate\"))\n",
    "\n",
    "# Events per user\n",
    "event_counts = activity_df.groupBy(\"UserID\").agg(count(\"*\").alias(\"events_per_user\"))\n",
    "\n",
    "# Join + calculate score\n",
    "engagement = subs_df.join(event_counts, on=\"UserID\", how=\"left\").fillna(0)\n",
    "engagement = engagement.withColumn(\"engagement_score\", \n",
    "                                   (col(\"events_per_user\") / col(\"active_days\")) * col(\"PriceUSD\"))\n",
    "\n",
    "# Show results\n",
    "engagement.select(\"SubscriptionID\", \"UserID\", \"PlanType\", \"engagement_score\").show()\n"
   ]
  },
  {
   "cell_type": "code",
   "execution_count": 0,
   "metadata": {
    "application/vnd.databricks.v1+cell": {
     "cellMetadata": {
      "byteLimit": 2048000,
      "rowLimit": 10000
     },
     "inputWidgets": {},
     "nuid": "c4b6339b-6096-43e7-8e43-6f4581a6a3a4",
     "showTitle": false,
     "tableResultSettingsMap": {},
     "title": ""
    }
   },
   "outputs": [],
   "source": [
    "subs_df.createOrReplaceTempView(\"subscriptions\")\n",
    "activity_df.createOrReplaceTempView(\"user_activity\")\n"
   ]
  },
  {
   "cell_type": "code",
   "execution_count": 0,
   "metadata": {
    "application/vnd.databricks.v1+cell": {
     "cellMetadata": {
      "byteLimit": 2048000,
      "rowLimit": 10000
     },
     "inputWidgets": {},
     "nuid": "d311a548-d64c-47c6-8506-b7a938d3343f",
     "showTitle": false,
     "tableResultSettingsMap": {},
     "title": ""
    }
   },
   "outputs": [
    {
     "output_type": "stream",
     "name": "stdout",
     "output_type": "stream",
     "text": [
      "+------+\n|UserID|\n+------+\n|  U002|\n|  U001|\n+------+\n\n"
     ]
    }
   ],
   "source": [
    "spark.sql(\"\"\"\n",
    "    SELECT DISTINCT s.UserID\n",
    "    FROM subscriptions s\n",
    "    JOIN user_activity a ON s.UserID = a.UserID\n",
    "    WHERE s.IsActive = true\n",
    "\"\"\").show()\n",
    "\n"
   ]
  },
  {
   "cell_type": "code",
   "execution_count": 0,
   "metadata": {
    "application/vnd.databricks.v1+cell": {
     "cellMetadata": {
      "byteLimit": 2048000,
      "rowLimit": 10000
     },
     "inputWidgets": {},
     "nuid": "6f7deec9-b42b-48af-ae9f-e852cc3e5fef",
     "showTitle": false,
     "tableResultSettingsMap": {},
     "title": ""
    }
   },
   "outputs": [
    {
     "output_type": "stream",
     "name": "stdout",
     "output_type": "stream",
     "text": [
      "+------+---------+\n|UserID|AutoRenew|\n+------+---------+\n|  U001|     true|\n|  U001|     true|\n+------+---------+\n\n"
     ]
    }
   ],
   "source": [
    "spark.sql(\"\"\"\n",
    "    SELECT s.UserID, s.AutoRenew\n",
    "    FROM subscriptions s\n",
    "    LEFT JOIN (\n",
    "        SELECT UserID, MAX(EventTime) as last_activity\n",
    "        FROM user_activity\n",
    "        GROUP BY UserID\n",
    "    ) a ON s.UserID = a.UserID\n",
    "    WHERE s.AutoRenew = true AND datediff(current_date(), last_activity) > 30\n",
    "\"\"\").show()\n"
   ]
  },
  {
   "cell_type": "code",
   "execution_count": 0,
   "metadata": {
    "application/vnd.databricks.v1+cell": {
     "cellMetadata": {
      "byteLimit": 2048000,
      "rowLimit": 10000
     },
     "inputWidgets": {},
     "nuid": "57877faa-8433-4a9b-9cd0-8023fbb20b97",
     "showTitle": false,
     "tableResultSettingsMap": {},
     "title": ""
    }
   },
   "outputs": [],
   "source": [
    "subs_df.write.mode(\"overwrite\").format(\"delta\").save(\"/mnt/june161/delta_subs\")\n"
   ]
  },
  {
   "cell_type": "code",
   "execution_count": 0,
   "metadata": {
    "application/vnd.databricks.v1+cell": {
     "cellMetadata": {
      "byteLimit": 2048000,
      "rowLimit": 10000
     },
     "inputWidgets": {},
     "nuid": "74d57f21-4bb9-4c9d-ad82-f05b098920f8",
     "showTitle": false,
     "tableResultSettingsMap": {},
     "title": ""
    }
   },
   "outputs": [],
   "source": [
    "from delta.tables import DeltaTable\n",
    "delta_subs = DeltaTable.forPath(spark, \"/mnt/june161/delta_subs\")\n"
   ]
  },
  {
   "cell_type": "code",
   "execution_count": 0,
   "metadata": {
    "application/vnd.databricks.v1+cell": {
     "cellMetadata": {
      "byteLimit": 2048000,
      "rowLimit": 10000
     },
     "inputWidgets": {},
     "nuid": "275583f2-ab3e-40f4-ab06-a3585ec48b01",
     "showTitle": false,
     "tableResultSettingsMap": {},
     "title": ""
    }
   },
   "outputs": [
    {
     "output_type": "stream",
     "name": "stdout",
     "output_type": "stream",
     "text": [
      "Updated Pro plan subscriptions for March 2024:\n+--------------+------+----------+--------+--------+\n|SubscriptionID|UserID| StartDate|PlanType|PriceUSD|\n+--------------+------+----------+--------+--------+\n|        SUB003|  U003|2024-03-10|     Pro|   100.0|\n+--------------+------+----------+--------+--------+\n\n"
     ]
    }
   ],
   "source": [
    "from pyspark.sql.functions import col, month, year\n",
    "from delta.tables import DeltaTable\n",
    "\n",
    "# Path to your Delta table\n",
    "delta_path = \"/mnt/june161/delta_subs\"\n",
    "\n",
    "# Step 1: Load Delta table as DataFrame\n",
    "subs_df = spark.read.format(\"delta\").load(delta_path)\n",
    "\n",
    "# Step 2: Create update DataFrame for Pro plans started in March 2024\n",
    "updates = subs_df.filter(\n",
    "    (col(\"PlanType\") == \"Pro\") & \n",
    "    (month(\"StartDate\") == 3) & \n",
    "    (year(\"StartDate\") == 2024)\n",
    ").withColumn(\"PriceUSD\", col(\"PriceUSD\") + 5)\n",
    "\n",
    "# Step 3: Load DeltaTable object for merge\n",
    "delta_subs = DeltaTable.forPath(spark, delta_path)\n",
    "\n",
    "# Step 4: Perform the merge\n",
    "delta_subs.alias(\"target\").merge(\n",
    "    updates.alias(\"updates\"),\n",
    "    \"target.SubscriptionID = updates.SubscriptionID\"\n",
    ").whenMatchedUpdate(set={\n",
    "    \"PriceUSD\": \"updates.PriceUSD\"\n",
    "}).execute()\n",
    "\n",
    "# Step 5: Show updated Pro plans from March 2024\n",
    "print(\"Updated Pro plan subscriptions for March 2024:\")\n",
    "spark.read.format(\"delta\").load(delta_path) \\\n",
    "    .filter((col(\"PlanType\") == \"Pro\") & \n",
    "            (month(\"StartDate\") == 3) & \n",
    "            (year(\"StartDate\") == 2024)) \\\n",
    "    .select(\"SubscriptionID\", \"UserID\", \"StartDate\", \"PlanType\", \"PriceUSD\") \\\n",
    "    .show()\n",
    "\n"
   ]
  },
  {
   "cell_type": "code",
   "execution_count": 0,
   "metadata": {
    "application/vnd.databricks.v1+cell": {
     "cellMetadata": {
      "byteLimit": 2048000,
      "rowLimit": 10000
     },
     "inputWidgets": {},
     "nuid": "eee6cf4f-c340-46b8-a50a-bfb983bea4b4",
     "showTitle": false,
     "tableResultSettingsMap": {},
     "title": ""
    }
   },
   "outputs": [
    {
     "output_type": "stream",
     "name": "stdout",
     "output_type": "stream",
     "text": [
      "+-------+-------------------+----------------+----------------------------------+---------+----------------------------------------------------------------------------------------------------------------------------------------------------------------------------------------------------+----+------------------+--------------------+-----------+-----------------+-------------+-------------------------------------------------------------------------------------------------------------------------------------------------------------------------------------------------------------------------------------------------------------------------------------------------------------------------------------------------------------------------------------------------------------------------------------------------------------------------------------------------------------------------------------------------------------------------------------------------------------------------------------------------------------------------------------+------------+------------------------------------------+\n|version|timestamp          |userId          |userName                          |operation|operationParameters                                                                                                                                                                                 |job |notebook          |clusterId           |readVersion|isolationLevel   |isBlindAppend|operationMetrics                                                                                                                                                                                                                                                                                                                                                                                                                                                                                                                                                                                                                                                                     |userMetadata|engineInfo                                |\n+-------+-------------------+----------------+----------------------------------+---------+----------------------------------------------------------------------------------------------------------------------------------------------------------------------------------------------------+----+------------------+--------------------+-----------+-----------------+-------------+-------------------------------------------------------------------------------------------------------------------------------------------------------------------------------------------------------------------------------------------------------------------------------------------------------------------------------------------------------------------------------------------------------------------------------------------------------------------------------------------------------------------------------------------------------------------------------------------------------------------------------------------------------------------------------------+------------+------------------------------------------+\n|4      |2025-06-16 10:30:39|7398826309945964|azuser3549_mml.local@techademy.com|OPTIMIZE |{predicate -> [], auto -> true, clusterBy -> [], zOrderBy -> [], batchId -> 0}                                                                                                                      |NULL|{2436393603752085}|0616-100542-4ybye8o1|3          |SnapshotIsolation|false        |{numRemovedFiles -> 2, numRemovedBytes -> 4547, p25FileSize -> 2397, numDeletionVectorsRemoved -> 1, minFileSize -> 2397, numAddedFiles -> 1, maxFileSize -> 2397, p75FileSize -> 2397, p50FileSize -> 2397, numAddedBytes -> 2397}                                                                                                                                                                                                                                                                                                                                                                                                                                                  |NULL        |Databricks-Runtime/15.4.x-photon-scala2.12|\n|3      |2025-06-16 10:30:36|7398826309945964|azuser3549_mml.local@techademy.com|MERGE    |{predicate -> [\"(SubscriptionID#2419 = SubscriptionID#2372)\"], matchedPredicates -> [{\"actionType\":\"update\"}], statsOnLoad -> false, notMatchedBySourcePredicates -> [], notMatchedPredicates -> []}|NULL|{2436393603752085}|0616-100542-4ybye8o1|2          |WriteSerializable|false        |{numTargetRowsCopied -> 0, numTargetRowsDeleted -> 0, numTargetFilesAdded -> 1, numTargetBytesAdded -> 2150, numTargetBytesRemoved -> 0, numTargetDeletionVectorsAdded -> 1, numTargetRowsMatchedUpdated -> 1, executionTimeMs -> 2524, materializeSourceTimeMs -> 4, numTargetRowsInserted -> 0, numTargetRowsMatchedDeleted -> 0, numTargetDeletionVectorsUpdated -> 0, scanTimeMs -> 1201, numTargetRowsUpdated -> 1, numOutputRows -> 1, numTargetDeletionVectorsRemoved -> 0, numTargetRowsNotMatchedBySourceUpdated -> 0, numTargetChangeFilesAdded -> 0, numSourceRows -> 1, numTargetFilesRemoved -> 0, numTargetRowsNotMatchedBySourceDeleted -> 0, rewriteTimeMs -> 1283}  |NULL        |Databricks-Runtime/15.4.x-photon-scala2.12|\n|2      |2025-06-16 10:27:36|7398826309945964|azuser3549_mml.local@techademy.com|OPTIMIZE |{predicate -> [], auto -> true, clusterBy -> [], zOrderBy -> [], batchId -> 0}                                                                                                                      |NULL|{2436393603752085}|0616-100542-4ybye8o1|1          |SnapshotIsolation|false        |{numRemovedFiles -> 2, numRemovedBytes -> 4542, p25FileSize -> 2397, numDeletionVectorsRemoved -> 1, minFileSize -> 2397, numAddedFiles -> 1, maxFileSize -> 2397, p75FileSize -> 2397, p50FileSize -> 2397, numAddedBytes -> 2397}                                                                                                                                                                                                                                                                                                                                                                                                                                                  |NULL        |Databricks-Runtime/15.4.x-photon-scala2.12|\n|1      |2025-06-16 10:27:32|7398826309945964|azuser3549_mml.local@techademy.com|MERGE    |{predicate -> [\"(SubscriptionID#743 = SubscriptionID#23)\"], matchedPredicates -> [{\"actionType\":\"update\"}], statsOnLoad -> false, notMatchedBySourcePredicates -> [], notMatchedPredicates -> []}   |NULL|{2436393603752085}|0616-100542-4ybye8o1|0          |WriteSerializable|false        |{numTargetRowsCopied -> 0, numTargetRowsDeleted -> 0, numTargetFilesAdded -> 1, numTargetBytesAdded -> 2150, numTargetBytesRemoved -> 0, numTargetDeletionVectorsAdded -> 1, numTargetRowsMatchedUpdated -> 1, executionTimeMs -> 5655, materializeSourceTimeMs -> 437, numTargetRowsInserted -> 0, numTargetRowsMatchedDeleted -> 0, numTargetDeletionVectorsUpdated -> 0, scanTimeMs -> 3044, numTargetRowsUpdated -> 1, numOutputRows -> 1, numTargetDeletionVectorsRemoved -> 0, numTargetRowsNotMatchedBySourceUpdated -> 0, numTargetChangeFilesAdded -> 0, numSourceRows -> 1, numTargetFilesRemoved -> 0, numTargetRowsNotMatchedBySourceDeleted -> 0, rewriteTimeMs -> 2057}|NULL        |Databricks-Runtime/15.4.x-photon-scala2.12|\n|0      |2025-06-16 10:26:43|7398826309945964|azuser3549_mml.local@techademy.com|WRITE    |{mode -> Overwrite, statsOnLoad -> false, partitionBy -> []}                                                                                                                                        |NULL|{2436393603752085}|0616-100542-4ybye8o1|NULL       |WriteSerializable|false        |{numFiles -> 1, numOutputRows -> 5, numOutputBytes -> 2392}                                                                                                                                                                                                                                                                                                                                                                                                                                                                                                                                                                                                                          |NULL        |Databricks-Runtime/15.4.x-photon-scala2.12|\n+-------+-------------------+----------------+----------------------------------+---------+----------------------------------------------------------------------------------------------------------------------------------------------------------------------------------------------------+----+------------------+--------------------+-----------+-----------------+-------------+-------------------------------------------------------------------------------------------------------------------------------------------------------------------------------------------------------------------------------------------------------------------------------------------------------------------------------------------------------------------------------------------------------------------------------------------------------------------------------------------------------------------------------------------------------------------------------------------------------------------------------------------------------------------------------------+------------+------------------------------------------+\n\n"
     ]
    }
   ],
   "source": [
    "spark.sql(\"DESCRIBE HISTORY delta.`/mnt/june161/delta_subs`\").show(truncate=False)\n"
   ]
  },
  {
   "cell_type": "code",
   "execution_count": 0,
   "metadata": {
    "application/vnd.databricks.v1+cell": {
     "cellMetadata": {
      "byteLimit": 2048000,
      "rowLimit": 10000
     },
     "inputWidgets": {},
     "nuid": "e8b9acfd-2856-46e1-9874-80c540c209a1",
     "showTitle": false,
     "tableResultSettingsMap": {},
     "title": ""
    }
   },
   "outputs": [
    {
     "output_type": "stream",
     "name": "stdout",
     "output_type": "stream",
     "text": [
      "+--------------+--------+\n|SubscriptionID|PriceUSD|\n+--------------+--------+\n|        SUB003|    90.0|\n+--------------+--------+\n\n"
     ]
    }
   ],
   "source": [
    "old_df = spark.read.format(\"delta\").option(\"versionAsOf\", 0).load(\"/mnt/june161/delta_subs\")\n",
    "old_df.filter(\"PlanType = 'Pro' AND month(StartDate) = 3\").select(\"SubscriptionID\", \"PriceUSD\").show()\n"
   ]
  },
  {
   "cell_type": "code",
   "execution_count": 0,
   "metadata": {
    "application/vnd.databricks.v1+cell": {
     "cellMetadata": {
      "byteLimit": 2048000,
      "rowLimit": 10000
     },
     "inputWidgets": {},
     "nuid": "51f5540f-fc92-428c-8a54-255a7459fa93",
     "showTitle": false,
     "tableResultSettingsMap": {},
     "title": ""
    }
   },
   "outputs": [
    {
     "output_type": "stream",
     "name": "stdout",
     "output_type": "stream",
     "text": [
      "+--------------+------+--------+----------+----------+--------+--------+---------+-----------+---------+\n|SubscriptionID|UserID|PlanType| StartDate|   EndDate|PriceUSD|IsActive|AutoRenew|active_days|prev_plan|\n+--------------+------+--------+----------+----------+--------+--------+---------+-----------+---------+\n|        SUB004|  U001| Premium|2024-04-05|2024-07-05|   120.0|    true|     true|         91|    Basic|\n+--------------+------+--------+----------+----------+--------+--------+---------+-----------+---------+\n\n"
     ]
    }
   ],
   "source": [
    "from pyspark.sql.window import Window\n",
    "from pyspark.sql.functions import lag\n",
    "\n",
    "window_spec = Window.partitionBy(\"UserID\").orderBy(\"StartDate\")\n",
    "\n",
    "migration_df = subs_df.withColumn(\"prev_plan\", lag(\"PlanType\").over(window_spec))\n",
    "migration_df.filter((col(\"prev_plan\") == \"Basic\") & (col(\"PlanType\").isin(\"Pro\", \"Premium\"))).show()\n"
   ]
  },
  {
   "cell_type": "code",
   "execution_count": 0,
   "metadata": {
    "application/vnd.databricks.v1+cell": {
     "cellMetadata": {
      "byteLimit": 2048000,
      "rowLimit": 10000
     },
     "inputWidgets": {},
     "nuid": "fcc7fbdb-7b9f-46b0-94fd-436cbfda2a14",
     "showTitle": false,
     "tableResultSettingsMap": {},
     "title": ""
    }
   },
   "outputs": [],
   "source": [
    "from pyspark.sql.functions import countDistinct, sum, when\n",
    "\n",
    "power_df = activity_df.withColumn(\"is_login\", when(col(\"EventType\") == \"login\", 1).otherwise(0)) \\\n",
    "    .groupBy(\"UserID\") \\\n",
    "    .agg(\n",
    "        countDistinct(\"FeatureUsed\").alias(\"feature_count\"),\n",
    "        sum(\"is_login\").alias(\"login_count\")\n",
    "    ).filter(\"feature_count >= 2 AND login_count >= 3\")\n",
    "\n",
    "# Save to Delta\n",
    "power_df.write.mode(\"overwrite\").format(\"delta\").save(\"/mnt/june161/power_users\")\n"
   ]
  },
  {
   "cell_type": "code",
   "execution_count": 0,
   "metadata": {
    "application/vnd.databricks.v1+cell": {
     "cellMetadata": {
      "byteLimit": 2048000,
      "rowLimit": 10000
     },
     "inputWidgets": {},
     "nuid": "da27e640-3cea-46ed-87e3-f58cc6d0eec3",
     "showTitle": false,
     "tableResultSettingsMap": {},
     "title": ""
    }
   },
   "outputs": [
    {
     "output_type": "stream",
     "name": "stdout",
     "output_type": "stream",
     "text": [
      "+------+-------------------+-------------------+------------------------+\n|UserID|login_time         |logout_time        |session_duration_minutes|\n+------+-------------------+-------------------+------------------------+\n|U001  |2024-04-07 10:22:00|2024-04-10 16:00:00|4658.0                  |\n+------+-------------------+-------------------+------------------------+\n\n"
     ]
    }
   ],
   "source": [
    "from pyspark.sql.window import Window\n",
    "from pyspark.sql.functions import col, lead, when, unix_timestamp\n",
    "\n",
    "# Filter only login/logout events\n",
    "session_df = activity_df.filter(col(\"EventType\").isin(\"login\", \"logout\"))\n",
    "\n",
    "# Define a window per user ordered by EventTime\n",
    "user_window = Window.partitionBy(\"UserID\").orderBy(\"EventTime\")\n",
    "\n",
    "# Use lead to get next event type and time\n",
    "session_df = session_df.withColumn(\"next_event\", lead(\"EventType\").over(user_window)) \\\n",
    "                       .withColumn(\"next_time\", lead(\"EventTime\").over(user_window))\n",
    "\n",
    "# Keep only login events where the next event is logout\n",
    "login_sessions = session_df.filter((col(\"EventType\") == \"login\") & (col(\"next_event\") == \"logout\"))\n",
    "\n",
    "# Compute session duration in minutes\n",
    "login_sessions = login_sessions.withColumn(\n",
    "    \"session_duration_minutes\",\n",
    "    (unix_timestamp(\"next_time\") - unix_timestamp(\"EventTime\")) / 60\n",
    ")\n",
    "\n",
    "# Select meaningful columns\n",
    "login_sessions.select(\n",
    "    \"UserID\",\n",
    "    col(\"EventTime\").alias(\"login_time\"),\n",
    "    col(\"next_time\").alias(\"logout_time\"),\n",
    "    \"session_duration_minutes\"\n",
    ").show(truncate=False)\n",
    "\n"
   ]
  }
 ],
 "metadata": {
  "application/vnd.databricks.v1+notebook": {
   "computePreferences": null,
   "dashboards": [],
   "environmentMetadata": {
    "base_environment": "",
    "environment_version": "2"
   },
   "inputWidgetPreferences": null,
   "language": "python",
   "notebookMetadata": {
    "pythonIndentUnit": 4
   },
   "notebookName": "Untitled Notebook 2025-06-16 15:42:48",
   "widgets": {}
  },
  "language_info": {
   "name": "python"
  }
 },
 "nbformat": 4,
 "nbformat_minor": 0
}