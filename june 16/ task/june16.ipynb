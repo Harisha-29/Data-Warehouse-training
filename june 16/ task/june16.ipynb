{
 "cells": [
  {
   "cell_type": "code",
   "execution_count": 0,
   "metadata": {
    "application/vnd.databricks.v1+cell": {
     "cellMetadata": {
      "byteLimit": 2048000,
      "rowLimit": 10000
     },
     "inputWidgets": {},
     "nuid": "39f667aa-8dc1-4f2e-8fea-0f84712010c2",
     "showTitle": false,
     "tableResultSettingsMap": {},
     "title": ""
    }
   },
   "outputs": [
    {
     "output_type": "stream",
     "name": "stdout",
     "output_type": "stream",
     "text": [
      "+------------+-----------+--------------------+-----------+----------+---------------+------+---------+\n|EnrollmentID|StudentName|          CourseName|   Category|EnrollDate|ProgressPercent|Rating|   Status|\n+------------+-----------+--------------------+-----------+----------+---------------+------+---------+\n|      ENR001|     Aditya|Python for Beginners|Programming|2024-05-10|             80|   4.5|   Active|\n|      ENR002|     Simran|Data Analysis wit...|  Analytics|2024-05-12|            100|   4.7|Completed|\n|      ENR003|     Aakash| Power BI Essentials|  Analytics|2024-05-13|             30|   3.8|   Active|\n|      ENR004|       Neha|         Java Basics|Programming|2024-05-15|              0|  NULL| Inactive|\n|      ENR005|       Zara|Machine Learning 101|         AI|2024-05-17|             60|   4.2|   Active|\n|      ENR006|    Ibrahim|Python for Beginners|Programming|2024-05-18|             90|   4.6|Completed|\n+------------+-----------+--------------------+-----------+----------+---------------+------+---------+\n\nroot\n |-- EnrollmentID: string (nullable = true)\n |-- StudentName: string (nullable = true)\n |-- CourseName: string (nullable = true)\n |-- Category: string (nullable = true)\n |-- EnrollDate: date (nullable = true)\n |-- ProgressPercent: integer (nullable = true)\n |-- Rating: double (nullable = true)\n |-- Status: string (nullable = true)\n\n"
     ]
    }
   ],
   "source": [
    "df_infer = spark.read.option(\"header\", True).option(\"inferSchema\", True) \\\n",
    "    .csv(\"dbfs:/FileStore/course_enrollments.csv\")\n",
    "df_infer.show()\n",
    "df_infer.printSchema()\n"
   ]
  },
  {
   "cell_type": "code",
   "execution_count": 0,
   "metadata": {
    "application/vnd.databricks.v1+cell": {
     "cellMetadata": {
      "byteLimit": 2048000,
      "rowLimit": 10000
     },
     "inputWidgets": {},
     "nuid": "3c5c7122-62e8-4376-ade0-36040f1cc387",
     "showTitle": false,
     "tableResultSettingsMap": {},
     "title": ""
    }
   },
   "outputs": [
    {
     "output_type": "stream",
     "name": "stdout",
     "output_type": "stream",
     "text": [
      "+------------+-----------+--------------------+-----------+----------+---------------+------+---------+\n|EnrollmentID|StudentName|          CourseName|   Category|EnrollDate|ProgressPercent|Rating|   Status|\n+------------+-----------+--------------------+-----------+----------+---------------+------+---------+\n|      ENR001|     Aditya|Python for Beginners|Programming|2024-05-10|             80|   4.5|   Active|\n|      ENR002|     Simran|Data Analysis wit...|  Analytics|2024-05-12|            100|   4.7|Completed|\n|      ENR003|     Aakash| Power BI Essentials|  Analytics|2024-05-13|             30|   3.8|   Active|\n|      ENR004|       Neha|         Java Basics|Programming|2024-05-15|              0|  NULL| Inactive|\n|      ENR005|       Zara|Machine Learning 101|         AI|2024-05-17|             60|   4.2|   Active|\n|      ENR006|    Ibrahim|Python for Beginners|Programming|2024-05-18|             90|   4.6|Completed|\n+------------+-----------+--------------------+-----------+----------+---------------+------+---------+\n\nroot\n |-- EnrollmentID: string (nullable = true)\n |-- StudentName: string (nullable = true)\n |-- CourseName: string (nullable = true)\n |-- Category: string (nullable = true)\n |-- EnrollDate: date (nullable = true)\n |-- ProgressPercent: integer (nullable = true)\n |-- Rating: double (nullable = true)\n |-- Status: string (nullable = true)\n\n"
     ]
    }
   ],
   "source": [
    "from pyspark.sql.types import StructType, StructField, StringType, IntegerType, DoubleType, DateType\n",
    "\n",
    "schema_manual = StructType([\n",
    "    StructField(\"EnrollmentID\", StringType(), True),\n",
    "    StructField(\"StudentName\", StringType(), True),\n",
    "    StructField(\"CourseName\", StringType(), True),\n",
    "    StructField(\"Category\", StringType(), True),\n",
    "    StructField(\"EnrollDate\", DateType(), True),\n",
    "    StructField(\"ProgressPercent\", IntegerType(), True),\n",
    "    StructField(\"Rating\", DoubleType(), True),\n",
    "    StructField(\"Status\", StringType(), True)\n",
    "])\n",
    "\n",
    "df_manual = spark.read.option(\"header\", True).schema(schema_manual) \\\n",
    "    .csv(\"dbfs:/FileStore/course_enrollments.csv\")\n",
    "df_manual.show()\n",
    "df_manual.printSchema()\n"
   ]
  },
  {
   "cell_type": "code",
   "execution_count": 0,
   "metadata": {
    "application/vnd.databricks.v1+cell": {
     "cellMetadata": {
      "byteLimit": 2048000,
      "rowLimit": 10000
     },
     "inputWidgets": {},
     "nuid": "8062b996-9abd-491f-bad3-761871447bb3",
     "showTitle": false,
     "tableResultSettingsMap": {},
     "title": ""
    }
   },
   "outputs": [
    {
     "output_type": "stream",
     "name": "stdout",
     "output_type": "stream",
     "text": [
      "+------------+-----------+-------------------+-----------+----------+---------------+------+--------+\n|EnrollmentID|StudentName|         CourseName|   Category|EnrollDate|ProgressPercent|Rating|  Status|\n+------------+-----------+-------------------+-----------+----------+---------------+------+--------+\n|      ENR003|     Aakash|Power BI Essentials|  Analytics|2024-05-13|             30|   3.8|  Active|\n|      ENR004|       Neha|        Java Basics|Programming|2024-05-15|              0|  NULL|Inactive|\n+------------+-----------+-------------------+-----------+----------+---------------+------+--------+\n\n"
     ]
    }
   ],
   "source": [
    "df_filtered = df_manual.filter(df_manual.ProgressPercent < 50)\n",
    "df_filtered.show()\n"
   ]
  },
  {
   "cell_type": "code",
   "execution_count": 0,
   "metadata": {
    "application/vnd.databricks.v1+cell": {
     "cellMetadata": {
      "byteLimit": 2048000,
      "rowLimit": 10000
     },
     "inputWidgets": {},
     "nuid": "69ce5519-bef5-49cc-a067-f19960c85ee4",
     "showTitle": false,
     "tableResultSettingsMap": {},
     "title": ""
    }
   },
   "outputs": [
    {
     "output_type": "stream",
     "name": "stdout",
     "output_type": "stream",
     "text": [
      "+------------+-----------+--------------------+-----------+----------+---------------+-----------------+---------+\n|EnrollmentID|StudentName|          CourseName|   Category|EnrollDate|ProgressPercent|           Rating|   Status|\n+------------+-----------+--------------------+-----------+----------+---------------+-----------------+---------+\n|      ENR001|     Aditya|Python for Beginners|Programming|2024-05-10|             80|              4.5|   Active|\n|      ENR002|     Simran|Data Analysis wit...|  Analytics|2024-05-12|            100|              4.7|Completed|\n|      ENR003|     Aakash| Power BI Essentials|  Analytics|2024-05-13|             30|              3.8|   Active|\n|      ENR004|       Neha|         Java Basics|Programming|2024-05-15|              0|4.359999999999999| Inactive|\n|      ENR005|       Zara|Machine Learning 101|         AI|2024-05-17|             60|              4.2|   Active|\n|      ENR006|    Ibrahim|Python for Beginners|Programming|2024-05-18|             90|              4.6|Completed|\n+------------+-----------+--------------------+-----------+----------+---------------+-----------------+---------+\n\n"
     ]
    }
   ],
   "source": [
    "from pyspark.sql.functions import avg, when, col\n",
    "\n",
    "avg_rating = df_manual.select(avg(\"Rating\")).first()[0]\n",
    "\n",
    "df_filled = df_manual.withColumn(\"Rating\",\n",
    "    when(col(\"Rating\").isNull(), avg_rating).otherwise(col(\"Rating\")))\n",
    "df_filled.show()\n"
   ]
  },
  {
   "cell_type": "code",
   "execution_count": 0,
   "metadata": {
    "application/vnd.databricks.v1+cell": {
     "cellMetadata": {
      "byteLimit": 2048000,
      "rowLimit": 10000
     },
     "inputWidgets": {},
     "nuid": "cc94e7c9-b60e-4a57-be7c-d49a98991f55",
     "showTitle": false,
     "tableResultSettingsMap": {},
     "title": ""
    }
   },
   "outputs": [
    {
     "output_type": "stream",
     "name": "stdout",
     "output_type": "stream",
     "text": [
      "+------------+-----------+--------------------+-----------+----------+---------------+-----------------+---------+--------+\n|EnrollmentID|StudentName|          CourseName|   Category|EnrollDate|ProgressPercent|           Rating|   Status|IsActive|\n+------------+-----------+--------------------+-----------+----------+---------------+-----------------+---------+--------+\n|      ENR001|     Aditya|Python for Beginners|Programming|2024-05-10|             80|              4.5|   Active|       1|\n|      ENR002|     Simran|Data Analysis wit...|  Analytics|2024-05-12|            100|              4.7|Completed|       0|\n|      ENR003|     Aakash| Power BI Essentials|  Analytics|2024-05-13|             30|              3.8|   Active|       1|\n|      ENR004|       Neha|         Java Basics|Programming|2024-05-15|              0|4.359999999999999| Inactive|       0|\n|      ENR005|       Zara|Machine Learning 101|         AI|2024-05-17|             60|              4.2|   Active|       1|\n|      ENR006|    Ibrahim|Python for Beginners|Programming|2024-05-18|             90|              4.6|Completed|       0|\n+------------+-----------+--------------------+-----------+----------+---------------+-----------------+---------+--------+\n\n"
     ]
    }
   ],
   "source": [
    "df_status = df_filled.withColumn(\"IsActive\",\n",
    "    when(col(\"Status\") == \"Active\", 1).otherwise(0))\n",
    "df_status.show()\n"
   ]
  },
  {
   "cell_type": "code",
   "execution_count": 0,
   "metadata": {
    "application/vnd.databricks.v1+cell": {
     "cellMetadata": {
      "byteLimit": 2048000,
      "rowLimit": 10000
     },
     "inputWidgets": {},
     "nuid": "c4b97706-81c3-4ce2-a1b4-55b102ce9f93",
     "showTitle": false,
     "tableResultSettingsMap": {},
     "title": ""
    }
   },
   "outputs": [
    {
     "output_type": "stream",
     "name": "stdout",
     "output_type": "stream",
     "text": [
      "+--------------------+-----------+\n|          CourseName|AvgProgress|\n+--------------------+-----------+\n|Data Analysis wit...|      100.0|\n|         Java Basics|        0.0|\n|Machine Learning 101|       60.0|\n|Python for Beginners|       85.0|\n| Power BI Essentials|       30.0|\n+--------------------+-----------+\n\n"
     ]
    }
   ],
   "source": [
    "df_status.groupBy(\"CourseName\").agg(avg(\"ProgressPercent\").alias(\"AvgProgress\")).show()\n"
   ]
  },
  {
   "cell_type": "code",
   "execution_count": 0,
   "metadata": {
    "application/vnd.databricks.v1+cell": {
     "cellMetadata": {
      "byteLimit": 2048000,
      "rowLimit": 10000
     },
     "inputWidgets": {},
     "nuid": "c2d211b6-631e-4b7b-82b3-96c2f45ee0d0",
     "showTitle": false,
     "tableResultSettingsMap": {},
     "title": ""
    }
   },
   "outputs": [
    {
     "output_type": "stream",
     "name": "stdout",
     "output_type": "stream",
     "text": [
      "+-----------+-----+\n|   Category|count|\n+-----------+-----+\n|Programming|    3|\n|         AI|    1|\n|  Analytics|    2|\n+-----------+-----+\n\n"
     ]
    }
   ],
   "source": [
    "df_status.groupBy(\"Category\").count().show()\n"
   ]
  },
  {
   "cell_type": "code",
   "execution_count": 0,
   "metadata": {
    "application/vnd.databricks.v1+cell": {
     "cellMetadata": {
      "byteLimit": 2048000,
      "rowLimit": 10000
     },
     "inputWidgets": {},
     "nuid": "7326281c-99d3-4799-b39f-f220658dc2f2",
     "showTitle": false,
     "tableResultSettingsMap": {},
     "title": ""
    }
   },
   "outputs": [
    {
     "output_type": "stream",
     "name": "stdout",
     "output_type": "stream",
     "text": [
      "+--------------------+-----+\n|          CourseName|count|\n+--------------------+-----+\n|Python for Beginners|    2|\n+--------------------+-----+\n\n"
     ]
    }
   ],
   "source": [
    "from pyspark.sql.functions import desc\n",
    "\n",
    "df_status.groupBy(\"CourseName\").count().orderBy(desc(\"count\")).limit(1).show()\n"
   ]
  },
  {
   "cell_type": "code",
   "execution_count": 0,
   "metadata": {
    "application/vnd.databricks.v1+cell": {
     "cellMetadata": {
      "byteLimit": 2048000,
      "rowLimit": 10000
     },
     "inputWidgets": {},
     "nuid": "cddd1ced-2edb-4180-9106-682830999d97",
     "showTitle": false,
     "tableResultSettingsMap": {},
     "title": ""
    }
   },
   "outputs": [
    {
     "output_type": "stream",
     "name": "stdout",
     "output_type": "stream",
     "text": [
      "+--------------------+-------------+----------+\n|          CourseName|DurationWeeks|Instructor|\n+--------------------+-------------+----------+\n|Python for Beginners|            4|    Rakesh|\n|Data Analysis wit...|            3|    Anjali|\n| Power BI Essentials|            5|     Rekha|\n|         Java Basics|            6|     Manoj|\n|Machine Learning 101|            8|     Samir|\n+--------------------+-------------+----------+\n\n"
     ]
    }
   ],
   "source": [
    "df_course_details = spark.read.option(\"header\", True) \\\n",
    "    .csv(\"dbfs:/FileStore/course_details.csv\")\n",
    "df_course_details.show()\n"
   ]
  },
  {
   "cell_type": "code",
   "execution_count": 0,
   "metadata": {
    "application/vnd.databricks.v1+cell": {
     "cellMetadata": {
      "byteLimit": 2048000,
      "rowLimit": 10000
     },
     "inputWidgets": {},
     "nuid": "e9970e09-22ae-46e3-ad23-bb2bfbee4916",
     "showTitle": false,
     "tableResultSettingsMap": {},
     "title": ""
    }
   },
   "outputs": [
    {
     "output_type": "stream",
     "name": "stdout",
     "output_type": "stream",
     "text": [
      "+--------------------+------------+-----------+-----------+----------+---------------+-----------------+---------+--------+-------------+----------+\n|          CourseName|EnrollmentID|StudentName|   Category|EnrollDate|ProgressPercent|           Rating|   Status|IsActive|DurationWeeks|Instructor|\n+--------------------+------------+-----------+-----------+----------+---------------+-----------------+---------+--------+-------------+----------+\n|Python for Beginners|      ENR001|     Aditya|Programming|2024-05-10|             80|              4.5|   Active|       1|            4|    Rakesh|\n|Data Analysis wit...|      ENR002|     Simran|  Analytics|2024-05-12|            100|              4.7|Completed|       0|            3|    Anjali|\n| Power BI Essentials|      ENR003|     Aakash|  Analytics|2024-05-13|             30|              3.8|   Active|       1|            5|     Rekha|\n|         Java Basics|      ENR004|       Neha|Programming|2024-05-15|              0|4.359999999999999| Inactive|       0|            6|     Manoj|\n|Machine Learning 101|      ENR005|       Zara|         AI|2024-05-17|             60|              4.2|   Active|       1|            8|     Samir|\n|Python for Beginners|      ENR006|    Ibrahim|Programming|2024-05-18|             90|              4.6|Completed|       0|            4|    Rakesh|\n+--------------------+------------+-----------+-----------+----------+---------------+-----------------+---------+--------+-------------+----------+\n\n"
     ]
    }
   ],
   "source": [
    "df_joined = df_status.join(df_course_details, on=\"CourseName\", how=\"left\")\n",
    "df_joined.show()\n"
   ]
  },
  {
   "cell_type": "code",
   "execution_count": 0,
   "metadata": {
    "application/vnd.databricks.v1+cell": {
     "cellMetadata": {
      "byteLimit": 2048000,
      "rowLimit": 10000
     },
     "inputWidgets": {},
     "nuid": "578e9815-5e02-4df9-8f52-6335515cc092",
     "showTitle": false,
     "tableResultSettingsMap": {},
     "title": ""
    }
   },
   "outputs": [
    {
     "output_type": "stream",
     "name": "stdout",
     "output_type": "stream",
     "text": [
      "+-----------+--------------------+---------------+----+\n|StudentName|          CourseName|ProgressPercent|Rank|\n+-----------+--------------------+---------------+----+\n|     Simran|Data Analysis wit...|            100|   1|\n|       Neha|         Java Basics|              0|   1|\n|       Zara|Machine Learning 101|             60|   1|\n|     Aakash| Power BI Essentials|             30|   1|\n|    Ibrahim|Python for Beginners|             90|   1|\n|     Aditya|Python for Beginners|             80|   2|\n+-----------+--------------------+---------------+----+\n\n"
     ]
    }
   ],
   "source": [
    "from pyspark.sql.window import Window\n",
    "from pyspark.sql.functions import rank\n",
    "\n",
    "window_spec = Window.partitionBy(\"CourseName\").orderBy(col(\"ProgressPercent\").desc())\n",
    "\n",
    "df_ranked = df_joined.withColumn(\"Rank\", rank().over(window_spec))\n",
    "df_ranked.select(\"StudentName\", \"CourseName\", \"ProgressPercent\", \"Rank\").show()\n"
   ]
  },
  {
   "cell_type": "code",
   "execution_count": 0,
   "metadata": {
    "application/vnd.databricks.v1+cell": {
     "cellMetadata": {
      "byteLimit": 2048000,
      "rowLimit": 10000
     },
     "inputWidgets": {},
     "nuid": "0809392d-9303-47f1-bdba-fc5ff5a77c00",
     "showTitle": false,
     "tableResultSettingsMap": {},
     "title": ""
    }
   },
   "outputs": [
    {
     "output_type": "stream",
     "name": "stdout",
     "output_type": "stream",
     "text": [
      "+-----------+-----------+----------+--------------+--------------+\n|StudentName|   Category|EnrollDate|PrevEnrollDate|NextEnrollDate|\n+-----------+-----------+----------+--------------+--------------+\n|       Zara|         AI|2024-05-17|          NULL|          NULL|\n|     Simran|  Analytics|2024-05-12|          NULL|    2024-05-13|\n|     Aakash|  Analytics|2024-05-13|    2024-05-12|          NULL|\n|     Aditya|Programming|2024-05-10|          NULL|    2024-05-15|\n|       Neha|Programming|2024-05-15|    2024-05-10|    2024-05-18|\n|    Ibrahim|Programming|2024-05-18|    2024-05-15|          NULL|\n+-----------+-----------+----------+--------------+--------------+\n\n"
     ]
    }
   ],
   "source": [
    "from pyspark.sql.functions import lead, lag\n",
    "\n",
    "window_spec_date = Window.partitionBy(\"Category\").orderBy(\"EnrollDate\")\n",
    "\n",
    "df_dates = df_joined.withColumn(\"NextEnrollDate\", lead(\"EnrollDate\").over(window_spec_date)) \\\n",
    "    .withColumn(\"PrevEnrollDate\", lag(\"EnrollDate\").over(window_spec_date))\n",
    "\n",
    "df_dates.select(\"StudentName\", \"Category\", \"EnrollDate\", \"PrevEnrollDate\", \"NextEnrollDate\").show()\n"
   ]
  },
  {
   "cell_type": "code",
   "execution_count": 0,
   "metadata": {
    "application/vnd.databricks.v1+cell": {
     "cellMetadata": {
      "byteLimit": 2048000,
      "rowLimit": 10000
     },
     "inputWidgets": {},
     "nuid": "2dea8d8c-013a-4bfb-9a8c-8b75e36ac587",
     "showTitle": false,
     "tableResultSettingsMap": {},
     "title": ""
    }
   },
   "outputs": [
    {
     "output_type": "stream",
     "name": "stdout",
     "output_type": "stream",
     "text": [
      "+-----------+------+---------+--------+\n|   Category|Active|Completed|Inactive|\n+-----------+------+---------+--------+\n|Programming|     1|        1|       1|\n|         AI|     1|     NULL|    NULL|\n|  Analytics|     1|        1|    NULL|\n+-----------+------+---------+--------+\n\n"
     ]
    }
   ],
   "source": [
    "df_pivot = df_joined.groupBy(\"Category\").pivot(\"Status\").count()\n",
    "df_pivot.show()\n"
   ]
  },
  {
   "cell_type": "code",
   "execution_count": 0,
   "metadata": {
    "application/vnd.databricks.v1+cell": {
     "cellMetadata": {
      "byteLimit": 2048000,
      "rowLimit": 10000
     },
     "inputWidgets": {},
     "nuid": "8d0eb41e-df5f-4173-ae7c-64c4809bb3fd",
     "showTitle": false,
     "tableResultSettingsMap": {},
     "title": ""
    }
   },
   "outputs": [
    {
     "output_type": "stream",
     "name": "stdout",
     "output_type": "stream",
     "text": [
      "+----------+----------+-----------+\n|EnrollDate|EnrollYear|EnrollMonth|\n+----------+----------+-----------+\n|2024-05-10|      2024|          5|\n|2024-05-12|      2024|          5|\n|2024-05-13|      2024|          5|\n|2024-05-15|      2024|          5|\n|2024-05-17|      2024|          5|\n|2024-05-18|      2024|          5|\n+----------+----------+-----------+\n\n"
     ]
    }
   ],
   "source": [
    "from pyspark.sql.functions import year, month\n",
    "\n",
    "df_date_parts = df_joined.withColumn(\"EnrollYear\", year(\"EnrollDate\")) \\\n",
    "                         .withColumn(\"EnrollMonth\", month(\"EnrollDate\"))\n",
    "df_date_parts.select(\"EnrollDate\", \"EnrollYear\", \"EnrollMonth\").show()\n"
   ]
  },
  {
   "cell_type": "code",
   "execution_count": 0,
   "metadata": {
    "application/vnd.databricks.v1+cell": {
     "cellMetadata": {
      "byteLimit": 2048000,
      "rowLimit": 10000
     },
     "inputWidgets": {},
     "nuid": "520f9652-4c18-4669-861f-6c8d4bf58f7c",
     "showTitle": false,
     "tableResultSettingsMap": {},
     "title": ""
    }
   },
   "outputs": [],
   "source": [
    "df_cleaned = df_date_parts.filter((col(\"Status\").isNotNull()) & (col(\"Status\") != \"\"))\n"
   ]
  },
  {
   "cell_type": "code",
   "execution_count": 0,
   "metadata": {
    "application/vnd.databricks.v1+cell": {
     "cellMetadata": {
      "byteLimit": 2048000,
      "rowLimit": 10000
     },
     "inputWidgets": {},
     "nuid": "4b97fc19-54dc-4360-af6d-fd7c03c30e5f",
     "showTitle": false,
     "tableResultSettingsMap": {},
     "title": ""
    }
   },
   "outputs": [],
   "source": [
    "df_dedup = df_cleaned.dropDuplicates([\"EnrollmentID\"])\n"
   ]
  },
  {
   "cell_type": "code",
   "execution_count": 0,
   "metadata": {
    "application/vnd.databricks.v1+cell": {
     "cellMetadata": {
      "byteLimit": 2048000,
      "rowLimit": 10000
     },
     "inputWidgets": {},
     "nuid": "d6e67afa-d19b-4205-b960-5526356e96a0",
     "showTitle": false,
     "tableResultSettingsMap": {},
     "title": ""
    }
   },
   "outputs": [],
   "source": [
    "# CSV\n",
    "df_dedup.write.mode(\"overwrite\").option(\"header\", True) \\\n",
    "    .csv(\"dbfs:/FileStore/output/enrollments_csv\")\n",
    "\n",
    "# JSON\n",
    "df_dedup.write.mode(\"overwrite\").json(\"dbfs:/FileStore/output/enrollments_json\")\n",
    "\n",
    "# Parquet with snappy compression\n",
    "df_dedup.write.mode(\"overwrite\").option(\"compression\", \"snappy\") \\\n",
    "    .parquet(\"dbfs:/FileStore/output/enrollments_parquet\")\n"
   ]
  }
 ],
 "metadata": {
  "application/vnd.databricks.v1+notebook": {
   "computePreferences": null,
   "dashboards": [],
   "environmentMetadata": {
    "base_environment": "",
    "environment_version": "2"
   },
   "inputWidgetPreferences": null,
   "language": "python",
   "notebookMetadata": {
    "pythonIndentUnit": 4
   },
   "notebookName": "Untitled Notebook 2025-06-16 10:21:04",
   "widgets": {}
  },
  "language_info": {
   "name": "python"
  }
 },
 "nbformat": 4,
 "nbformat_minor": 0
}