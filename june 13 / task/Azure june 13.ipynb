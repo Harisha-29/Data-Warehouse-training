{
 "cells": [
  {
   "cell_type": "code",
   "execution_count": 0,
   "metadata": {
    "application/vnd.databricks.v1+cell": {
     "cellMetadata": {
      "byteLimit": 2048000,
      "rowLimit": 10000
     },
     "inputWidgets": {},
     "nuid": "e016d5c2-f71f-4022-a440-42f79ad6be6e",
     "showTitle": false,
     "tableResultSettingsMap": {},
     "title": ""
    }
   },
   "outputs": [
    {
     "output_type": "stream",
     "name": "stdout",
     "output_type": "stream",
     "text": [
      " Customers Schema:\nroot\n |-- CustomerID: integer (nullable = true)\n |-- Name: string (nullable = true)\n |-- City: string (nullable = true)\n |-- Age: integer (nullable = true)\n\n+----------+-----+---------+---+\n|CustomerID| Name|     City|Age|\n+----------+-----+---------+---+\n|       101|Aditi|   Mumbai| 28|\n|       102|Rohan|    Delhi| 35|\n|       103|Meena|Bangalore| 41|\n|       104|Kabir|Hyderabad| 30|\n|       105| Zoya|  Chennai| 25|\n+----------+-----+---------+---+\n\n Orders Schema:\nroot\n |-- OrderID: integer (nullable = true)\n |-- CustomerID: integer (nullable = true)\n |-- Product: string (nullable = true)\n |-- Quantity: integer (nullable = true)\n |-- Price: integer (nullable = true)\n |-- OrderDate: date (nullable = true)\n\n+-------+----------+-------+--------+-----+----------+\n|OrderID|CustomerID|Product|Quantity|Price| OrderDate|\n+-------+----------+-------+--------+-----+----------+\n|   1001|       101| Laptop|       1|70000|2024-01-05|\n|   1002|       102| Mobile|       2|25000|2024-02-10|\n|   1003|       103|   Desk|       1|10000|2024-03-15|\n|   1004|       101|  Mouse|       3| 1000|2024-04-01|\n|   1005|       104|Monitor|       1|12000|2024-04-25|\n+-------+----------+-------+--------+-----+----------+\n\n"
     ]
    }
   ],
   "source": [
    "# 1. Set the Azure Blob Storage account access key\n",
    "spark.conf.set(\n",
    "    \"fs.azure.account.key.hexa1.blob.core.windows.net\",\n",
    "    \"tEQ86DOREVI9rWneMnt+hKiDIhJ46/Q6F6pnSlUUS3i5jh2bzdiu/eDh7JBuufX0TucDieYs3lyV+ASt6dYDEw==\"  # Replace with your actual key\n",
    ")\n",
    "\n",
    "# 2. Read customers.csv (space-separated)\n",
    "customers_df = spark.read.option(\"header\", True) \\\n",
    "    .option(\"inferSchema\", True) \\\n",
    "    .option(\"delimiter\", \" \") \\\n",
    "    .csv(\"wasbs://images@hexa1.blob.core.windows.net/customers.csv\")\n",
    "\n",
    "# 3. Read orders.csv (space-separated)\n",
    "orders_df = spark.read.option(\"header\", True) \\\n",
    "    .option(\"inferSchema\", True) \\\n",
    "    .option(\"delimiter\", \" \") \\\n",
    "    .csv(\"wasbs://images@hexa1.blob.core.windows.net/orders.csv\")\n",
    "\n",
    "# 4. Display schemas and data\n",
    "print(\" Customers Schema:\")\n",
    "customers_df.printSchema()\n",
    "customers_df.show()\n",
    "\n",
    "print(\" Orders Schema:\")\n",
    "orders_df.printSchema()\n",
    "orders_df.show()\n",
    "\n"
   ]
  },
  {
   "cell_type": "code",
   "execution_count": 0,
   "metadata": {
    "application/vnd.databricks.v1+cell": {
     "cellMetadata": {
      "byteLimit": 2048000,
      "rowLimit": 10000
     },
     "inputWidgets": {},
     "nuid": "0e364341-4fb4-40e0-bb5e-fd6f1ecedc36",
     "showTitle": false,
     "tableResultSettingsMap": {},
     "title": ""
    }
   },
   "outputs": [
    {
     "output_type": "stream",
     "name": "stdout",
     "output_type": "stream",
     "text": [
      "+-------+----------+-------+--------+-----+----------+-----------+\n|OrderID|CustomerID|Product|Quantity|Price| OrderDate|TotalAmount|\n+-------+----------+-------+--------+-----+----------+-----------+\n|   1001|       101| Laptop|       1|70000|2024-01-05|      70000|\n|   1002|       102| Mobile|       2|25000|2024-02-10|      50000|\n|   1003|       103|   Desk|       1|10000|2024-03-15|      10000|\n|   1004|       101|  Mouse|       3| 1000|2024-04-01|       3000|\n|   1005|       104|Monitor|       1|12000|2024-04-25|      12000|\n+-------+----------+-------+--------+-----+----------+-----------+\n\n"
     ]
    }
   ],
   "source": [
    "from pyspark.sql.functions import col\n",
    "\n",
    "orders_df = orders_df.withColumn(\"TotalAmount\", col(\"Quantity\") * col(\"Price\"))\n",
    "orders_df.show()\n"
   ]
  },
  {
   "cell_type": "code",
   "execution_count": 0,
   "metadata": {
    "application/vnd.databricks.v1+cell": {
     "cellMetadata": {
      "byteLimit": 2048000,
      "rowLimit": 10000
     },
     "inputWidgets": {},
     "nuid": "6858a09b-158f-4552-b8cc-9d9b15ef73b8",
     "showTitle": false,
     "tableResultSettingsMap": {},
     "title": ""
    }
   },
   "outputs": [
    {
     "output_type": "stream",
     "name": "stdout",
     "output_type": "stream",
     "text": [
      "+----------+-------+-------+--------+-----+----------+-----------+-----+---------+---+\n|CustomerID|OrderID|Product|Quantity|Price| OrderDate|TotalAmount| Name|     City|Age|\n+----------+-------+-------+--------+-----+----------+-----------+-----+---------+---+\n|       101|   1001| Laptop|       1|70000|2024-01-05|      70000|Aditi|   Mumbai| 28|\n|       102|   1002| Mobile|       2|25000|2024-02-10|      50000|Rohan|    Delhi| 35|\n|       103|   1003|   Desk|       1|10000|2024-03-15|      10000|Meena|Bangalore| 41|\n|       101|   1004|  Mouse|       3| 1000|2024-04-01|       3000|Aditi|   Mumbai| 28|\n|       104|   1005|Monitor|       1|12000|2024-04-25|      12000|Kabir|Hyderabad| 30|\n+----------+-------+-------+--------+-----+----------+-----------+-----+---------+---+\n\n"
     ]
    }
   ],
   "source": [
    "joined_df = orders_df.join(customers_df, on=\"CustomerID\", how=\"inner\")\n",
    "joined_df.show()\n"
   ]
  },
  {
   "cell_type": "code",
   "execution_count": 0,
   "metadata": {
    "application/vnd.databricks.v1+cell": {
     "cellMetadata": {
      "byteLimit": 2048000,
      "rowLimit": 10000
     },
     "inputWidgets": {},
     "nuid": "1afbade1-bf0b-41e7-8a6f-d4fe23b82e74",
     "showTitle": false,
     "tableResultSettingsMap": {},
     "title": ""
    }
   },
   "outputs": [
    {
     "output_type": "stream",
     "name": "stdout",
     "output_type": "stream",
     "text": [
      "+----------+-------+-------+--------+-----+----------+-----------+-----+------+---+\n|CustomerID|OrderID|Product|Quantity|Price| OrderDate|TotalAmount| Name|  City|Age|\n+----------+-------+-------+--------+-----+----------+-----------+-----+------+---+\n|       101|   1001| Laptop|       1|70000|2024-01-05|      70000|Aditi|Mumbai| 28|\n|       102|   1002| Mobile|       2|25000|2024-02-10|      50000|Rohan| Delhi| 35|\n+----------+-------+-------+--------+-----+----------+-----------+-----+------+---+\n\n"
     ]
    }
   ],
   "source": [
    "high_value_orders = joined_df.filter(col(\"TotalAmount\") > 20000)\n",
    "high_value_orders.show()\n"
   ]
  },
  {
   "cell_type": "code",
   "execution_count": 0,
   "metadata": {
    "application/vnd.databricks.v1+cell": {
     "cellMetadata": {
      "byteLimit": 2048000,
      "rowLimit": 10000
     },
     "inputWidgets": {},
     "nuid": "47ae1e66-7baa-4179-88f9-749cd195a5cb",
     "showTitle": false,
     "tableResultSettingsMap": {},
     "title": ""
    }
   },
   "outputs": [
    {
     "output_type": "stream",
     "name": "stdout",
     "output_type": "stream",
     "text": [
      "+----------+-----+----------+\n|CustomerID| Name|OrderCount|\n+----------+-----+----------+\n|       101|Aditi|         2|\n+----------+-----+----------+\n\n"
     ]
    }
   ],
   "source": [
    "from pyspark.sql.functions import count\n",
    "\n",
    "order_counts = joined_df.groupBy(\"CustomerID\", \"Name\") \\\n",
    "    .agg(count(\"OrderID\").alias(\"OrderCount\")) \\\n",
    "    .filter(col(\"OrderCount\") > 1)\n",
    "\n",
    "order_counts.show()\n"
   ]
  },
  {
   "cell_type": "code",
   "execution_count": 0,
   "metadata": {
    "application/vnd.databricks.v1+cell": {
     "cellMetadata": {
      "byteLimit": 2048000,
      "rowLimit": 10000
     },
     "inputWidgets": {},
     "nuid": "983de44a-7f05-4f41-9d38-4739d60831c3",
     "showTitle": false,
     "tableResultSettingsMap": {},
     "title": ""
    }
   },
   "outputs": [
    {
     "output_type": "stream",
     "name": "stdout",
     "output_type": "stream",
     "text": [
      "+---------+-------------+\n|     City|AvgOrderValue|\n+---------+-------------+\n|Bangalore|      10000.0|\n|   Mumbai|      36500.0|\n|    Delhi|      50000.0|\n|Hyderabad|      12000.0|\n+---------+-------------+\n\n"
     ]
    }
   ],
   "source": [
    "from pyspark.sql.functions import avg\n",
    "\n",
    "avg_order_by_city = joined_df.groupBy(\"City\") \\\n",
    "    .agg(avg(\"TotalAmount\").alias(\"AvgOrderValue\"))\n",
    "\n",
    "avg_order_by_city.show()\n"
   ]
  },
  {
   "cell_type": "code",
   "execution_count": 0,
   "metadata": {
    "application/vnd.databricks.v1+cell": {
     "cellMetadata": {
      "byteLimit": 2048000,
      "rowLimit": 10000
     },
     "inputWidgets": {},
     "nuid": "f0ca5933-c2a9-475b-96ab-f44dddb05955",
     "showTitle": false,
     "tableResultSettingsMap": {},
     "title": ""
    }
   },
   "outputs": [
    {
     "output_type": "stream",
     "name": "stdout",
     "output_type": "stream",
     "text": [
      "+----------+-------+-------+--------+-----+----------+-----------+-----+---------+---+\n|CustomerID|OrderID|Product|Quantity|Price| OrderDate|TotalAmount| Name|     City|Age|\n+----------+-------+-------+--------+-----+----------+-----------+-----+---------+---+\n|       104|   1005|Monitor|       1|12000|2024-04-25|      12000|Kabir|Hyderabad| 30|\n|       101|   1004|  Mouse|       3| 1000|2024-04-01|       3000|Aditi|   Mumbai| 28|\n|       103|   1003|   Desk|       1|10000|2024-03-15|      10000|Meena|Bangalore| 41|\n|       102|   1002| Mobile|       2|25000|2024-02-10|      50000|Rohan|    Delhi| 35|\n|       101|   1001| Laptop|       1|70000|2024-01-05|      70000|Aditi|   Mumbai| 28|\n+----------+-------+-------+--------+-----+----------+-----------+-----+---------+---+\n\n"
     ]
    }
   ],
   "source": [
    "from pyspark.sql.functions import to_date\n",
    "\n",
    "joined_df = joined_df.withColumn(\"OrderDate\", to_date(\"OrderDate\", \"yyyy-MM-dd\"))\n",
    "sorted_orders = joined_df.orderBy(col(\"OrderDate\").desc())\n",
    "\n",
    "sorted_orders.show()\n"
   ]
  },
  {
   "cell_type": "code",
   "execution_count": 0,
   "metadata": {
    "application/vnd.databricks.v1+cell": {
     "cellMetadata": {
      "byteLimit": 2048000,
      "rowLimit": 10000
     },
     "inputWidgets": {},
     "nuid": "a84d2e33-3bd7-4c75-9bad-499143ca496b",
     "showTitle": false,
     "tableResultSettingsMap": {},
     "title": ""
    }
   },
   "outputs": [],
   "source": [
    "sorted_orders.write.mode(\"overwrite\") \\\n",
    "    .partitionBy(\"City\") \\\n",
    "    .parquet(\"dbfs:/FileStore/output/customer_orders_parquet\")\n"
   ]
  },
  {
   "cell_type": "code",
   "execution_count": 0,
   "metadata": {
    "application/vnd.databricks.v1+cell": {
     "cellMetadata": {
      "byteLimit": 2048000,
      "rowLimit": 10000
     },
     "inputWidgets": {},
     "nuid": "9e52d378-a60e-4fc6-9e87-5172b2c73bec",
     "showTitle": false,
     "tableResultSettingsMap": {},
     "title": ""
    }
   },
   "outputs": [],
   "source": [
    "sorted_orders.createOrReplaceTempView(\"customer_orders_view\")\n"
   ]
  },
  {
   "cell_type": "code",
   "execution_count": 0,
   "metadata": {
    "application/vnd.databricks.v1+cell": {
     "cellMetadata": {
      "byteLimit": 2048000,
      "implicitDf": true,
      "rowLimit": 10000
     },
     "inputWidgets": {},
     "nuid": "3c5db959-dfc3-4d56-84e9-e0704ff22f51",
     "showTitle": false,
     "tableResultSettingsMap": {},
     "title": ""
    }
   },
   "outputs": [
    {
     "output_type": "display_data",
     "data": {
      "text/html": [
       "<style scoped>\n",
       "  .table-result-container {\n",
       "    max-height: 300px;\n",
       "    overflow: auto;\n",
       "  }\n",
       "  table, th, td {\n",
       "    border: 1px solid black;\n",
       "    border-collapse: collapse;\n",
       "  }\n",
       "  th, td {\n",
       "    padding: 5px;\n",
       "  }\n",
       "  th {\n",
       "    text-align: left;\n",
       "  }\n",
       "</style><div class='table-result-container'><table class='table-result'><thead style='background-color: white'><tr><th>Name</th><th>TotalSales</th></tr></thead><tbody><tr><td>Aditi</td><td>73000</td></tr><tr><td>Rohan</td><td>50000</td></tr><tr><td>Kabir</td><td>12000</td></tr><tr><td>Meena</td><td>10000</td></tr></tbody></table></div>"
      ]
     },
     "metadata": {
      "application/vnd.databricks.v1+output": {
       "addedWidgets": {},
       "aggData": [],
       "aggError": "",
       "aggOverflow": false,
       "aggSchema": [],
       "aggSeriesLimitReached": false,
       "aggType": "",
       "arguments": {},
       "columnCustomDisplayInfos": {},
       "data": [
        [
         "Aditi",
         73000
        ],
        [
         "Rohan",
         50000
        ],
        [
         "Kabir",
         12000
        ],
        [
         "Meena",
         10000
        ]
       ],
       "datasetInfos": [],
       "dbfsResultPath": null,
       "isJsonSchema": true,
       "metadata": {
        "createTempViewForImplicitDf": true,
        "dataframeName": "_sqldf",
        "executionCount": 13
       },
       "overflow": false,
       "plotOptions": {
        "customPlotOptions": {},
        "displayType": "table",
        "pivotAggregation": null,
        "pivotColumns": null,
        "xColumns": null,
        "yColumns": null
       },
       "removedWidgets": [],
       "schema": [
        {
         "metadata": "{}",
         "name": "Name",
         "type": "\"string\""
        },
        {
         "metadata": "{}",
         "name": "TotalSales",
         "type": "\"long\""
        }
       ],
       "type": "table"
      }
     },
     "output_type": "display_data"
    }
   ],
   "source": [
    "%sql\n",
    "SELECT Name, SUM(TotalAmount) AS TotalSales\n",
    "FROM customer_orders_view\n",
    "GROUP BY Name\n",
    "ORDER BY TotalSales DESC\n"
   ]
  },
  {
   "cell_type": "code",
   "execution_count": 0,
   "metadata": {
    "application/vnd.databricks.v1+cell": {
     "cellMetadata": {
      "byteLimit": 2048000,
      "implicitDf": true,
      "rowLimit": 10000
     },
     "inputWidgets": {},
     "nuid": "87cdef92-fea3-47de-87fe-f44ed95e7d9c",
     "showTitle": false,
     "tableResultSettingsMap": {},
     "title": ""
    }
   },
   "outputs": [
    {
     "output_type": "display_data",
     "data": {
      "text/html": [
       "<style scoped>\n",
       "  .table-result-container {\n",
       "    max-height: 300px;\n",
       "    overflow: auto;\n",
       "  }\n",
       "  table, th, td {\n",
       "    border: 1px solid black;\n",
       "    border-collapse: collapse;\n",
       "  }\n",
       "  th, td {\n",
       "    padding: 5px;\n",
       "  }\n",
       "  th {\n",
       "    text-align: left;\n",
       "  }\n",
       "</style><div class='table-result-container'><table class='table-result'><thead style='background-color: white'><tr><th>City</th><th>ProductCount</th></tr></thead><tbody><tr><td>Bangalore</td><td>1</td></tr><tr><td>Mumbai</td><td>2</td></tr><tr><td>Delhi</td><td>1</td></tr><tr><td>Hyderabad</td><td>1</td></tr></tbody></table></div>"
      ]
     },
     "metadata": {
      "application/vnd.databricks.v1+output": {
       "addedWidgets": {},
       "aggData": [],
       "aggError": "",
       "aggOverflow": false,
       "aggSchema": [],
       "aggSeriesLimitReached": false,
       "aggType": "",
       "arguments": {},
       "columnCustomDisplayInfos": {},
       "data": [
        [
         "Bangalore",
         1
        ],
        [
         "Mumbai",
         2
        ],
        [
         "Delhi",
         1
        ],
        [
         "Hyderabad",
         1
        ]
       ],
       "datasetInfos": [],
       "dbfsResultPath": null,
       "isJsonSchema": true,
       "metadata": {
        "createTempViewForImplicitDf": true,
        "dataframeName": "_sqldf",
        "executionCount": 14
       },
       "overflow": false,
       "plotOptions": {
        "customPlotOptions": {},
        "displayType": "table",
        "pivotAggregation": null,
        "pivotColumns": null,
        "xColumns": null,
        "yColumns": null
       },
       "removedWidgets": [],
       "schema": [
        {
         "metadata": "{}",
         "name": "City",
         "type": "\"string\""
        },
        {
         "metadata": "{}",
         "name": "ProductCount",
         "type": "\"long\""
        }
       ],
       "type": "table"
      }
     },
     "output_type": "display_data"
    }
   ],
   "source": [
    "%sql\n",
    "SELECT City, COUNT(DISTINCT Product) AS ProductCount\n",
    "FROM customer_orders_view\n",
    "GROUP BY City\n"
   ]
  },
  {
   "cell_type": "code",
   "execution_count": 0,
   "metadata": {
    "application/vnd.databricks.v1+cell": {
     "cellMetadata": {
      "byteLimit": 2048000,
      "implicitDf": true,
      "rowLimit": 10000
     },
     "inputWidgets": {},
     "nuid": "23056bde-756f-406d-ad9d-d6cdb1566d1b",
     "showTitle": false,
     "tableResultSettingsMap": {},
     "title": ""
    }
   },
   "outputs": [
    {
     "output_type": "display_data",
     "data": {
      "text/html": [
       "<style scoped>\n",
       "  .table-result-container {\n",
       "    max-height: 300px;\n",
       "    overflow: auto;\n",
       "  }\n",
       "  table, th, td {\n",
       "    border: 1px solid black;\n",
       "    border-collapse: collapse;\n",
       "  }\n",
       "  th, td {\n",
       "    padding: 5px;\n",
       "  }\n",
       "  th {\n",
       "    text-align: left;\n",
       "  }\n",
       "</style><div class='table-result-container'><table class='table-result'><thead style='background-color: white'><tr><th>City</th><th>Revenue</th></tr></thead><tbody><tr><td>Mumbai</td><td>73000</td></tr><tr><td>Delhi</td><td>50000</td></tr></tbody></table></div>"
      ]
     },
     "metadata": {
      "application/vnd.databricks.v1+output": {
       "addedWidgets": {},
       "aggData": [],
       "aggError": "",
       "aggOverflow": false,
       "aggSchema": [],
       "aggSeriesLimitReached": false,
       "aggType": "",
       "arguments": {},
       "columnCustomDisplayInfos": {},
       "data": [
        [
         "Mumbai",
         73000
        ],
        [
         "Delhi",
         50000
        ]
       ],
       "datasetInfos": [],
       "dbfsResultPath": null,
       "isJsonSchema": true,
       "metadata": {
        "createTempViewForImplicitDf": true,
        "dataframeName": "_sqldf",
        "executionCount": 15
       },
       "overflow": false,
       "plotOptions": {
        "customPlotOptions": {},
        "displayType": "table",
        "pivotAggregation": null,
        "pivotColumns": null,
        "xColumns": null,
        "yColumns": null
       },
       "removedWidgets": [],
       "schema": [
        {
         "metadata": "{}",
         "name": "City",
         "type": "\"string\""
        },
        {
         "metadata": "{}",
         "name": "Revenue",
         "type": "\"long\""
        }
       ],
       "type": "table"
      }
     },
     "output_type": "display_data"
    }
   ],
   "source": [
    "%sql\n",
    "SELECT City, SUM(TotalAmount) AS Revenue\n",
    "FROM customer_orders_view\n",
    "GROUP BY City\n",
    "ORDER BY Revenue DESC\n",
    "LIMIT 2\n"
   ]
  }
 ],
 "metadata": {
  "application/vnd.databricks.v1+notebook": {
   "computePreferences": null,
   "dashboards": [],
   "environmentMetadata": {
    "base_environment": "",
    "environment_version": "2"
   },
   "inputWidgetPreferences": null,
   "language": "python",
   "notebookMetadata": {
    "mostRecentlyExecutedCommandWithImplicitDF": {
     "commandId": 5317036166572667,
     "dataframes": [
      "_sqldf"
     ]
    },
    "pythonIndentUnit": 4
   },
   "notebookName": "Untitled Notebook 2025-06-13 10:12:41",
   "widgets": {}
  },
  "language_info": {
   "name": "python"
  }
 },
 "nbformat": 4,
 "nbformat_minor": 0
}