{
  "nbformat": 4,
  "nbformat_minor": 0,
  "metadata": {
    "colab": {
      "provenance": []
    },
    "kernelspec": {
      "name": "python3",
      "display_name": "Python 3"
    },
    "language_info": {
      "name": "python"
    }
  },
  "cells": [
    {
      "cell_type": "code",
      "source": [
        "from pyspark.sql import SparkSession\n",
        "from pyspark.sql.functions import col, to_date, month, year, sum as spark_sum, avg, stddev, when\n",
        "\n",
        "# Step 1: Initialize Spark Session\n",
        "spark = SparkSession.builder.appName(\"TransactionVolumeAnalysis\").getOrCreate()\n",
        "\n",
        "# Step 2: Load Data\n",
        "df = spark.read.csv(\"/content/drive/My Drive/transactions.csv\", header=True, inferSchema=True)\n",
        "\n",
        "# Step 3: Preprocess\n",
        "df = df.withColumn(\"TransactionDate\", to_date(col(\"TransactionDate\"), \"yyyy-MM-dd\")) \\\n",
        "       .withColumn(\"Year\", year(\"TransactionDate\")) \\\n",
        "       .withColumn(\"Month\", month(\"TransactionDate\"))\n",
        "\n",
        "# Step 4: Monthly spend\n",
        "monthly_spend = df.groupBy(\"UserID\", \"Year\", \"Month\") \\\n",
        "    .agg(spark_sum(\"Amount\").alias(\"TotalMonthlySpend\"))\n",
        "\n",
        "# Step 5: Per-user stats\n",
        "user_stats = monthly_spend.groupBy(\"UserID\") \\\n",
        "    .agg(\n",
        "        avg(\"TotalMonthlySpend\").alias(\"AvgSpend\"),\n",
        "        stddev(\"TotalMonthlySpend\").alias(\"StdDevSpend\")\n",
        "    )\n",
        "\n",
        "# Step 6: Join monthly spend with user stats\n",
        "joined_df = monthly_spend.join(user_stats, on=\"UserID\")\n",
        "\n",
        "# Step 7: Handle null stddev and apply fallback logic\n",
        "# If StdDev is null, fallback to hardcoded high threshold\n",
        "anomalies = joined_df.withColumn(\n",
        "    \"UnusualSpending\",\n",
        "    when(\n",
        "        col(\"StdDevSpend\").isNotNull(),\n",
        "        col(\"TotalMonthlySpend\") > (col(\"AvgSpend\") + 2 * col(\"StdDevSpend\"))\n",
        "    ).otherwise(\n",
        "        col(\"TotalMonthlySpend\") > 5000  # fallback threshold\n",
        "    )\n",
        ").filter(\"UnusualSpending = true\")\n",
        "\n",
        "# Step 8: Show anomalies\n",
        "print(\"=== Users with Unusual Spending ===\")\n",
        "anomalies.select(\"UserID\", \"Year\", \"Month\", \"TotalMonthlySpend\", \"AvgSpend\", \"StdDevSpend\").show()\n",
        "\n",
        "# Step 9: Stop session\n",
        "spark.stop()\n"
      ],
      "metadata": {
        "colab": {
          "base_uri": "https://localhost:8080/"
        },
        "id": "LdxKqyoY51Rj",
        "outputId": "c806090f-388e-4b4f-d447-bf8a1ba0b4e3"
      },
      "execution_count": 3,
      "outputs": [
        {
          "output_type": "stream",
          "name": "stdout",
          "text": [
            "=== Users with Unusual Spending ===\n",
            "+------+----+-----+-----------------+--------+-----------+\n",
            "|UserID|Year|Month|TotalMonthlySpend|AvgSpend|StdDevSpend|\n",
            "+------+----+-----+-----------------+--------+-----------+\n",
            "|  U003|2025|    2|           9000.0|  9000.0|       NULL|\n",
            "+------+----+-----+-----------------+--------+-----------+\n",
            "\n"
          ]
        }
      ]
    }
  ]
}