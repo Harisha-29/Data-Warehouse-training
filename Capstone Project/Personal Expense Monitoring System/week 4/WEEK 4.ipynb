{
  "nbformat": 4,
  "nbformat_minor": 0,
  "metadata": {
    "colab": {
      "provenance": []
    },
    "kernelspec": {
      "name": "python3",
      "display_name": "Python 3"
    },
    "language_info": {
      "name": "python"
    }
  },
  "cells": [
    {
      "cell_type": "code",
      "execution_count": 1,
      "metadata": {
        "id": "BhjuJ7MQUAai"
      },
      "outputs": [],
      "source": [
        "!pip install -q pyspark"
      ]
    },
    {
      "cell_type": "code",
      "source": [
        "import os\n",
        "from pyspark.sql import SparkSession\n",
        "from pyspark.sql.functions import col, sum, month, year"
      ],
      "metadata": {
        "id": "-ikcffDuUWp-"
      },
      "execution_count": 2,
      "outputs": []
    },
    {
      "cell_type": "code",
      "source": [
        "spark = SparkSession.builder.appName(\"ETL_Project\").getOrCreate()"
      ],
      "metadata": {
        "id": "ctK7jrNSUvDX"
      },
      "execution_count": 4,
      "outputs": []
    },
    {
      "cell_type": "code",
      "source": [
        "user_path = '/content/drive/MyDrive/user.csv'\n",
        "expense_path = '/content/drive/MyDrive/expense.csv'\n",
        "df_user = spark.read.csv(user_path, header=True, inferSchema=True)\n",
        "df_expense = spark.read.csv(expense_path, header=True, inferSchema=True)\n",
        "df_user.printSchema()\n",
        "df_expense.printSchema()\n",
        "\n"
      ],
      "metadata": {
        "colab": {
          "base_uri": "https://localhost:8080/"
        },
        "id": "3wRfexNiU06v",
        "outputId": "6ec85e0e-f0a2-4927-c955-73b9ba7fd8b8"
      },
      "execution_count": 7,
      "outputs": [
        {
          "output_type": "stream",
          "name": "stdout",
          "text": [
            "root\n",
            " |-- user_id: integer (nullable = true)\n",
            " |-- name: string (nullable = true)\n",
            " |-- income: integer (nullable = true)\n",
            "\n",
            "root\n",
            " |-- expense_id: integer (nullable = true)\n",
            " |-- user_id: integer (nullable = true)\n",
            " |-- category: string (nullable = true)\n",
            " |-- amount: integer (nullable = true)\n",
            " |-- date: date (nullable = true)\n",
            "\n"
          ]
        }
      ]
    },
    {
      "cell_type": "code",
      "source": [
        "df_joined = df_expense.join(df_user, on='user_id', how='inner')\n",
        "\n",
        "print(\"Joined Data:\")\n",
        "df_joined.printSchema()\n",
        "df_joined.show()"
      ],
      "metadata": {
        "colab": {
          "base_uri": "https://localhost:8080/"
        },
        "id": "s5Zje7aRU9Go",
        "outputId": "b99c70e8-faf2-4dfa-c2b3-a2fe00c65762"
      },
      "execution_count": 8,
      "outputs": [
        {
          "output_type": "stream",
          "name": "stdout",
          "text": [
            "Joined Data:\n",
            "root\n",
            " |-- user_id: integer (nullable = true)\n",
            " |-- expense_id: integer (nullable = true)\n",
            " |-- category: string (nullable = true)\n",
            " |-- amount: integer (nullable = true)\n",
            " |-- date: date (nullable = true)\n",
            " |-- name: string (nullable = true)\n",
            " |-- income: integer (nullable = true)\n",
            "\n",
            "+-------+----------+-------------+------+----------+-------+------+\n",
            "|user_id|expense_id|     category|amount|      date|   name|income|\n",
            "+-------+----------+-------------+------+----------+-------+------+\n",
            "|      1|       101|         Food| 12000|2024-07-05|  Alice| 50000|\n",
            "|      1|       102|       Travel|  5000|2024-07-20|  Alice| 50000|\n",
            "|      2|       103|         Food| 10000|2024-07-10|    Bob| 40000|\n",
            "|      2|       104|     Shopping|  8000|2024-07-21|    Bob| 40000|\n",
            "|      3|       105|       Travel| 15000|2024-07-01|Charlie| 30000|\n",
            "|      3|       106|Entertainment|  5000|2024-07-15|Charlie| 30000|\n",
            "+-------+----------+-------------+------+----------+-------+------+\n",
            "\n"
          ]
        }
      ]
    },
    {
      "cell_type": "code",
      "source": [
        "\n",
        "from pyspark.sql.functions import date_format\n",
        "\n",
        "df_with_month = df_joined.withColumn(\"month\", date_format(\"date\", \"yyyy-MM\"))\n",
        "\n",
        "print(\"Data with Month Column:\")\n",
        "df_with_month.show()\n"
      ],
      "metadata": {
        "colab": {
          "base_uri": "https://localhost:8080/"
        },
        "id": "q8RnYlkcWF5R",
        "outputId": "72c022ae-6254-47ba-f33b-c5ee6c1cad4e"
      },
      "execution_count": 11,
      "outputs": [
        {
          "output_type": "stream",
          "name": "stdout",
          "text": [
            "Data with Month Column:\n",
            "+-------+----------+-------------+------+----------+-------+------+-------+\n",
            "|user_id|expense_id|     category|amount|      date|   name|income|  month|\n",
            "+-------+----------+-------------+------+----------+-------+------+-------+\n",
            "|      1|       101|         Food| 12000|2024-07-05|  Alice| 50000|2024-07|\n",
            "|      1|       102|       Travel|  5000|2024-07-20|  Alice| 50000|2024-07|\n",
            "|      2|       103|         Food| 10000|2024-07-10|    Bob| 40000|2024-07|\n",
            "|      2|       104|     Shopping|  8000|2024-07-21|    Bob| 40000|2024-07|\n",
            "|      3|       105|       Travel| 15000|2024-07-01|Charlie| 30000|2024-07|\n",
            "|      3|       106|Entertainment|  5000|2024-07-15|Charlie| 30000|2024-07|\n",
            "+-------+----------+-------------+------+----------+-------+------+-------+\n",
            "\n"
          ]
        }
      ]
    },
    {
      "cell_type": "code",
      "source": [
        "df_summary = df_with_month.groupBy(\"user_id\", \"name\", \"income\", \"month\") \\\n",
        "    .agg(sum(\"amount\").alias(\"total_spend\"))\n",
        "\n",
        "print(\"Monthly Summary (total spend):\")\n",
        "df_summary.show()"
      ],
      "metadata": {
        "colab": {
          "base_uri": "https://localhost:8080/"
        },
        "id": "7GeW7qG9WffY",
        "outputId": "0485918b-ff7f-40c6-cfb9-2129a285b150"
      },
      "execution_count": 12,
      "outputs": [
        {
          "output_type": "stream",
          "name": "stdout",
          "text": [
            "Monthly Summary (total spend):\n",
            "+-------+-------+------+-------+-----------+\n",
            "|user_id|   name|income|  month|total_spend|\n",
            "+-------+-------+------+-------+-----------+\n",
            "|      3|Charlie| 30000|2024-07|      20000|\n",
            "|      2|    Bob| 40000|2024-07|      18000|\n",
            "|      1|  Alice| 50000|2024-07|      17000|\n",
            "+-------+-------+------+-------+-----------+\n",
            "\n"
          ]
        }
      ]
    },
    {
      "cell_type": "code",
      "source": [
        "df_final = df_summary.withColumn(\"savings\", col(\"income\") - col(\"total_spend\")) \\\n",
        "                     .withColumn(\"alert\", col(\"total_spend\") > col(\"income\"))\n",
        "\n",
        "print(\"Final Data with Savings and Alerts:\")\n",
        "df_final.show()"
      ],
      "metadata": {
        "colab": {
          "base_uri": "https://localhost:8080/"
        },
        "id": "SSR7fQlqWp3w",
        "outputId": "d0a5c743-b052-4feb-f6c4-246a3a4fa4dc"
      },
      "execution_count": 14,
      "outputs": [
        {
          "output_type": "stream",
          "name": "stdout",
          "text": [
            "Final Data with Savings and Alerts:\n",
            "+-------+-------+------+-------+-----------+-------+-----+\n",
            "|user_id|   name|income|  month|total_spend|savings|alert|\n",
            "+-------+-------+------+-------+-----------+-------+-----+\n",
            "|      3|Charlie| 30000|2024-07|      20000|  10000|false|\n",
            "|      2|    Bob| 40000|2024-07|      18000|  22000|false|\n",
            "|      1|  Alice| 50000|2024-07|      17000|  33000|false|\n",
            "+-------+-------+------+-------+-----------+-------+-----+\n",
            "\n"
          ]
        }
      ]
    },
    {
      "cell_type": "code",
      "source": [
        "output_path = \"/content/drive/MyDrive/monthly_summary\"\n",
        "df_final.coalesce(1).write.option(\"header\", True).mode(\"overwrite\").csv(output_path)\n",
        "\n",
        "print(f\" File successfully written to: {output_path}\")"
      ],
      "metadata": {
        "colab": {
          "base_uri": "https://localhost:8080/"
        },
        "id": "kyZqPFEYWvdT",
        "outputId": "137e4831-cf0a-4fa0-bae2-3c0c20d15130"
      },
      "execution_count": 15,
      "outputs": [
        {
          "output_type": "stream",
          "name": "stdout",
          "text": [
            " File successfully written to: /content/drive/MyDrive/monthly_summary\n"
          ]
        }
      ]
    }
  ]
}