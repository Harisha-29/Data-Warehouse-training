{
  "nbformat": 4,
  "nbformat_minor": 0,
  "metadata": {
    "colab": {
      "provenance": []
    },
    "kernelspec": {
      "name": "python3",
      "display_name": "Python 3"
    },
    "language_info": {
      "name": "python"
    }
  },
  "cells": [
    {
      "cell_type": "code",
      "execution_count": 1,
      "metadata": {
        "id": "WNa2CAuNbleB"
      },
      "outputs": [],
      "source": [
        "# STEP 1: Install and set up Spark\n",
        "!apt-get install openjdk-11-jdk -qq > /dev/null\n",
        "!wget -q https://archive.apache.org/dist/spark/spark-3.3.1/spark-3.3.1-bin-hadoop3.tgz\n",
        "!tar xf spark-3.3.1-bin-hadoop3.tgz\n",
        "!pip install -q findspark\n",
        "\n",
        "import os\n",
        "os.environ[\"JAVA_HOME\"] = \"/usr/lib/jvm/java-11-openjdk-amd64\"\n",
        "os.environ[\"SPARK_HOME\"] = \"/content/spark-3.3.1-bin-hadoop3\"\n",
        "\n",
        "import findspark\n",
        "findspark.init()\n"
      ]
    },
    {
      "cell_type": "code",
      "source": [
        "# STEP 2: Start SparkSession\n",
        "from pyspark.sql import SparkSession\n",
        "from pyspark.sql.functions import col, to_timestamp, date_format, weekofyear, sum as _sum, avg as _avg\n",
        "\n",
        "spark = SparkSession.builder \\\n",
        "    .appName(\"SmartEnergyETL\") \\\n",
        "    .getOrCreate()\n"
      ],
      "metadata": {
        "id": "_-aEgZCaceYX"
      },
      "execution_count": 2,
      "outputs": []
    },
    {
      "cell_type": "code",
      "source": [
        "# Load cleaned CSV from Drive\n",
        "input_path = \"/content/drive/MyDrive/smart_energy/cleaned_energy_logs.csv\"  # update path\n",
        "df_raw = spark.read.option(\"header\", \"true\").option(\"inferSchema\", \"true\").csv(input_path)\n",
        "\n",
        "# Enrich with timestamp, date, and week\n",
        "df = (df_raw\n",
        "      .withColumn(\"event_ts\", to_timestamp(\"timestamp\"))\n",
        "      .withColumn(\"date\", date_format(\"event_ts\", \"yyyy-MM-dd\"))\n",
        "      .withColumn(\"week\", weekofyear(\"event_ts\")))\n",
        "\n",
        "df.show(5)\n"
      ],
      "metadata": {
        "colab": {
          "base_uri": "https://localhost:8080/"
        },
        "id": "0fvqnQFlcndL",
        "outputId": "d99d41df-6395-402b-d3f4-7fca5e7bad11"
      },
      "execution_count": 3,
      "outputs": [
        {
          "output_type": "stream",
          "name": "stdout",
          "text": [
            "+---------+-------------------+----------+--------+-------------------+----------+----+\n",
            "|device_id|          timestamp|energy_kwh|power_kw|           event_ts|      date|week|\n",
            "+---------+-------------------+----------+--------+-------------------+----------+----+\n",
            "|   dev001|2025-06-01 08:00:00|       1.5|     0.6|2025-06-01 08:00:00|2025-06-01|  22|\n",
            "|   dev001|2025-06-01 12:00:00|       2.0|     0.8|2025-06-01 12:00:00|2025-06-01|  22|\n",
            "|   dev002|2025-06-01 08:15:00|       1.2|     0.5|2025-06-01 08:15:00|2025-06-01|  22|\n",
            "|   dev002|2025-06-01 13:30:00|       1.7|     0.7|2025-06-01 13:30:00|2025-06-01|  22|\n",
            "|   dev003|2025-06-01 09:00:00|       0.9|     0.4|2025-06-01 09:00:00|2025-06-01|  22|\n",
            "+---------+-------------------+----------+--------+-------------------+----------+----+\n",
            "only showing top 5 rows\n",
            "\n"
          ]
        }
      ]
    },
    {
      "cell_type": "code",
      "source": [
        "# Daily Summary (kWh, avg power)\n",
        "daily_summary = (df.groupBy(\"date\")\n",
        "                 .agg(_sum(\"energy_kwh\").alias(\"total_kwh\"),\n",
        "                      _avg(\"power_kw\").alias(\"avg_power_kw\")))\n",
        "\n",
        "daily_summary.show()\n"
      ],
      "metadata": {
        "colab": {
          "base_uri": "https://localhost:8080/"
        },
        "id": "3fhSi_Fvcvto",
        "outputId": "bc85a159-9d96-4d73-eca3-3307bc757487"
      },
      "execution_count": 4,
      "outputs": [
        {
          "output_type": "stream",
          "name": "stdout",
          "text": [
            "+----------+-----------------+------------------+\n",
            "|      date|        total_kwh|      avg_power_kw|\n",
            "+----------+-----------------+------------------+\n",
            "|2025-06-03|              5.0|0.7333333333333334|\n",
            "|2025-06-01|7.300000000000001|0.5999999999999999|\n",
            "|2025-06-05|              5.1|0.7333333333333334|\n",
            "|2025-06-02|              5.0|0.7000000000000001|\n",
            "|2025-06-04|4.300000000000001|               0.6|\n",
            "|2025-06-06|              5.1|0.7333333333333334|\n",
            "+----------+-----------------+------------------+\n",
            "\n"
          ]
        }
      ]
    },
    {
      "cell_type": "code",
      "source": [
        "# Weekly Summary\n",
        "weekly_summary = (df.groupBy(\"week\")\n",
        "                  .agg(_sum(\"energy_kwh\").alias(\"total_kwh\"),\n",
        "                       _avg(\"power_kw\").alias(\"avg_power_kw\")))\n",
        "\n",
        "weekly_summary.show()\n"
      ],
      "metadata": {
        "colab": {
          "base_uri": "https://localhost:8080/"
        },
        "id": "2Mk8Wblac2hB",
        "outputId": "e939358c-460a-46e0-9ca4-15f3df0fafa2"
      },
      "execution_count": 5,
      "outputs": [
        {
          "output_type": "stream",
          "name": "stdout",
          "text": [
            "+----+-----------------+------------------+\n",
            "|week|        total_kwh|      avg_power_kw|\n",
            "+----+-----------------+------------------+\n",
            "|  22|7.300000000000001|0.5999999999999999|\n",
            "|  23|             24.5|0.6999999999999998|\n",
            "+----+-----------------+------------------+\n",
            "\n"
          ]
        }
      ]
    },
    {
      "cell_type": "code",
      "source": [
        "# Save summaries to CSV (in Drive)\n",
        "daily_path = \"/content/drive/MyDrive/smart_energy/output/daily_summary\"\n",
        "weekly_path = \"/content/drive/MyDrive/smart_energy/output/weekly_summary\"\n",
        "\n",
        "daily_summary.coalesce(1).write.mode(\"overwrite\").option(\"header\", \"true\").csv(daily_path)\n",
        "weekly_summary.coalesce(1).write.mode(\"overwrite\").option(\"header\", \"true\").csv(weekly_path)\n"
      ],
      "metadata": {
        "id": "_sXQGmKYc_P-"
      },
      "execution_count": 6,
      "outputs": []
    },
    {
      "cell_type": "code",
      "source": [
        "# Optional - Detect over-usage\n",
        "device_usage = (df.groupBy(\"device_id\", \"date\")\n",
        "                .agg(_sum(\"energy_kwh\").alias(\"device_kwh\")))\n",
        "\n",
        "daily_avg = (device_usage.groupBy(\"date\")\n",
        "             .agg(_avg(\"device_kwh\").alias(\"avg_kwh\")))\n",
        "\n",
        "# Join and filter for devices using > 20% above average\n",
        "overuse = (device_usage.alias(\"d\")\n",
        "           .join(daily_avg.alias(\"a\"), on=\"date\")\n",
        "           .filter(col(\"d.device_kwh\") > col(\"a.avg_kwh\") * 1.2)\n",
        "           .select(\"d.device_id\", \"d.date\", \"d.device_kwh\", \"a.avg_kwh\"))\n",
        "\n",
        "overuse.show()\n"
      ],
      "metadata": {
        "colab": {
          "base_uri": "https://localhost:8080/"
        },
        "id": "hIwzBO_tdF1W",
        "outputId": "1add23c1-fe7b-41fa-89ab-d5e22c192443"
      },
      "execution_count": 7,
      "outputs": [
        {
          "output_type": "stream",
          "name": "stdout",
          "text": [
            "+---------+----------+----------+------------------+\n",
            "|device_id|      date|device_kwh|           avg_kwh|\n",
            "+---------+----------+----------+------------------+\n",
            "|   dev002|2025-06-02|       2.2|1.6666666666666667|\n",
            "|   dev001|2025-06-01|       3.5|2.4333333333333336|\n",
            "|   dev001|2025-06-03|       2.1|1.6666666666666667|\n",
            "+---------+----------+----------+------------------+\n",
            "\n"
          ]
        }
      ]
    },
    {
      "cell_type": "code",
      "source": [],
      "metadata": {
        "id": "9McI1HM1dLWU"
      },
      "execution_count": null,
      "outputs": []
    }
  ]
}