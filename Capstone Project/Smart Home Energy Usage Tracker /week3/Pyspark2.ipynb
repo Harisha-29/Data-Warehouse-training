{
  "nbformat": 4,
  "nbformat_minor": 0,
  "metadata": {
    "colab": {
      "provenance": []
    },
    "kernelspec": {
      "name": "python3",
      "display_name": "Python 3"
    },
    "language_info": {
      "name": "python"
    }
  },
  "cells": [
    {
      "cell_type": "code",
      "source": [
        "from pyspark.sql import SparkSession\n",
        "from pyspark.sql.functions import col, hour, when, sum as spark_sum\n",
        "\n",
        "# Step 1: Initialize Spark session\n",
        "spark = SparkSession.builder.appName(\"SensorLogAnalysis\").getOrCreate()\n",
        "\n",
        "# Step 2: Load dataset from Google Drive\n",
        "# Make sure sensor_logs.csv is in: /content/drive/My Drive/sensor_logs.csv\n",
        "df = spark.read.csv(\"/content/drive/My Drive/sensor_logs.csv\", header=True, inferSchema=True)\n",
        "\n",
        "# Step 3: Extract hour from timestamp\n",
        "df = df.withColumn(\"Hour\", hour(col(\"Timestamp\")))\n",
        "\n",
        "# Step 4: Categorize as Peak (8 AM - 8 PM) or Off-Peak\n",
        "df = df.withColumn(\"UsageType\", when((col(\"Hour\") >= 8) & (col(\"Hour\") < 20), \"Peak\").otherwise(\"Off-Peak\"))\n",
        "\n",
        "# Step 5: Calculate usage per type per device\n",
        "usage_summary = df.groupBy(\"DeviceID\", \"UsageType\") \\\n",
        "                  .agg(spark_sum(\"EnergyUsage\").alias(\"TotalUsage\"))\n",
        "\n",
        "# Step 6: Pivot table to separate Peak and Off-Peak columns\n",
        "pivot_df = usage_summary.groupBy(\"DeviceID\") \\\n",
        "                        .pivot(\"UsageType\", [\"Peak\", \"Off-Peak\"]) \\\n",
        "                        .sum(\"TotalUsage\") \\\n",
        "                        .fillna(0)\n",
        "\n",
        "# Step 7: Calculate total energy consumption\n",
        "pivot_df = pivot_df.withColumn(\"TotalEnergy\", col(\"Peak\") + col(\"Off-Peak\"))\n",
        "\n",
        "# Step 8: Identify top 5 devices by total energy consumption\n",
        "top_devices = pivot_df.orderBy(col(\"TotalEnergy\").desc()).limit(5)\n",
        "\n",
        "# Step 8.1: Show result in notebook output\n",
        "print(\"=== Top Energy Consuming Devices ===\")\n",
        "top_devices.show()\n",
        "\n",
        "# Step 9: Save the result to CSV in Google Drive\n",
        "top_devices.coalesce(1).write.mode(\"overwrite\").option(\"header\", True) \\\n",
        "    .csv(\"/content/drive/My Drive/output/top_energy_devices\")\n",
        "\n",
        "# Optional: List the saved CSV file to verify\n",
        "print(\"=== Files written to Google Drive ===\")\n",
        "!ls \"/content/drive/My Drive/output/top_energy_devices\"\n",
        "\n",
        "# Step 10: Stop Spark session\n",
        "spark.stop()\n"
      ],
      "metadata": {
        "colab": {
          "base_uri": "https://localhost:8080/"
        },
        "id": "LqzMS2KH78Hu",
        "outputId": "0ba1390a-0a36-4574-b3d7-5849d600fb0d"
      },
      "execution_count": 5,
      "outputs": [
        {
          "output_type": "stream",
          "name": "stdout",
          "text": [
            "=== Top Energy Consuming Devices ===\n",
            "+--------+----+--------+-----------+\n",
            "|DeviceID|Peak|Off-Peak|TotalEnergy|\n",
            "+--------+----+--------+-----------+\n",
            "|    D001| 4.1|     2.5|        6.6|\n",
            "|    D002| 3.2|     0.0|        3.2|\n",
            "|    D003| 0.0|     1.2|        1.2|\n",
            "+--------+----+--------+-----------+\n",
            "\n",
            "=== Files written to Google Drive ===\n",
            "part-00000-44a2f534-d5a5-46f0-9543-ca8d2ead325c-c000.csv  _SUCCESS\n"
          ]
        }
      ]
    }
  ]
}