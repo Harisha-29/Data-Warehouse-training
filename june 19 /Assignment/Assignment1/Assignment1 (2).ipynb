{
  "nbformat": 4,
  "nbformat_minor": 0,
  "metadata": {
    "colab": {
      "provenance": []
    },
    "kernelspec": {
      "name": "python3",
      "display_name": "Python 3"
    },
    "language_info": {
      "name": "python"
    }
  },
  "cells": [
    {
      "cell_type": "code",
      "execution_count": 1,
      "metadata": {
        "colab": {
          "base_uri": "https://localhost:8080/"
        },
        "id": "3kluwhfKbe2W",
        "outputId": "f0a550ca-e13c-4c8e-9d2d-116d8618827c"
      },
      "outputs": [
        {
          "output_type": "stream",
          "name": "stdout",
          "text": [
            "root\n",
            " |-- LogID: string (nullable = true)\n",
            " |-- VehicleID: string (nullable = true)\n",
            " |-- EntryPoint: string (nullable = true)\n",
            " |-- ExitPoint: string (nullable = true)\n",
            " |-- EntryTime: timestamp (nullable = true)\n",
            " |-- ExitTime: timestamp (nullable = true)\n",
            " |-- VehicleType: string (nullable = true)\n",
            " |-- SpeedKMH: integer (nullable = true)\n",
            " |-- TollPaid: integer (nullable = true)\n",
            "\n",
            "+-----+---------+----------+---------+-------------------+-------------------+-----------+--------+--------+\n",
            "|LogID|VehicleID|EntryPoint|ExitPoint|          EntryTime|           ExitTime|VehicleType|SpeedKMH|TollPaid|\n",
            "+-----+---------+----------+---------+-------------------+-------------------+-----------+--------+--------+\n",
            "| L001|     V001|     GateA|    GateC|2024-05-01 08:01:00|2024-05-01 08:20:00|        Car|      60|      50|\n",
            "| L002|     V002|     GateB|    GateC|2024-05-01 08:10:00|2024-05-01 08:45:00|      Truck|      45|     100|\n",
            "| L003|     V003|     GateA|    GateD|2024-05-01 09:00:00|2024-05-01 09:18:00|       Bike|      55|      30|\n",
            "| L004|     V004|     GateC|    GateD|2024-05-01 09:15:00|2024-05-01 09:35:00|        Car|      80|      50|\n",
            "| L005|     V005|     GateB|    GateA|2024-05-01 10:05:00|2024-05-01 10:40:00|        Bus|      40|      70|\n",
            "+-----+---------+----------+---------+-------------------+-------------------+-----------+--------+--------+\n",
            "\n"
          ]
        }
      ],
      "source": [
        "from pyspark.sql import SparkSession\n",
        "from pyspark.sql.types import StructType, StructField, StringType, TimestampType, IntegerType, DoubleType\n",
        "from pyspark.sql.functions import *\n",
        "\n",
        "# Step 1: Initialize Spark\n",
        "spark = SparkSession.builder.appName(\"SmartCityTrafficMonitoring\").getOrCreate()\n",
        "\n",
        "# Step 2: Mount Google Drive (already done by you)\n",
        "# from google.colab import drive\n",
        "# drive.mount('/content/drive')\n",
        "\n",
        "# Step 3: File path\n",
        "file_path = \"/content/drive/My Drive/traffic_logs.csv\"\n",
        "\n",
        "# Inferred Schema\n",
        "df_infer = spark.read.csv(file_path, header=True, inferSchema=True)\n",
        "df_infer.printSchema()\n",
        "\n",
        "# Manually Defined Schema\n",
        "schema = StructType([\n",
        "    StructField(\"LogID\", StringType(), True),\n",
        "    StructField(\"VehicleID\", StringType(), True),\n",
        "    StructField(\"EntryPoint\", StringType(), True),\n",
        "    StructField(\"ExitPoint\", StringType(), True),\n",
        "    StructField(\"EntryTime\", TimestampType(), True),\n",
        "    StructField(\"ExitTime\", TimestampType(), True),\n",
        "    StructField(\"VehicleType\", StringType(), True),\n",
        "    StructField(\"SpeedKMH\", IntegerType(), True),\n",
        "    StructField(\"TollPaid\", IntegerType(), True),\n",
        "])\n",
        "\n",
        "df = spark.read.csv(file_path, header=True, schema=schema)\n",
        "df.show()\n"
      ]
    },
    {
      "cell_type": "code",
      "source": [
        "df = df.withColumn(\"TripDurationMinutes\", (unix_timestamp(\"ExitTime\") - unix_timestamp(\"EntryTime\"))/60)\n",
        "df = df.withColumn(\"IsOverspeed\", col(\"SpeedKMH\") > 60)\n",
        "df.select(\"LogID\", \"TripDurationMinutes\", \"IsOverspeed\").show()\n"
      ],
      "metadata": {
        "colab": {
          "base_uri": "https://localhost:8080/"
        },
        "id": "k4poedDub5WE",
        "outputId": "7951a223-da43-4c74-87e8-c866c976859b"
      },
      "execution_count": 2,
      "outputs": [
        {
          "output_type": "stream",
          "name": "stdout",
          "text": [
            "+-----+-------------------+-----------+\n",
            "|LogID|TripDurationMinutes|IsOverspeed|\n",
            "+-----+-------------------+-----------+\n",
            "| L001|               19.0|      false|\n",
            "| L002|               35.0|      false|\n",
            "| L003|               18.0|      false|\n",
            "| L004|               20.0|       true|\n",
            "| L005|               35.0|      false|\n",
            "+-----+-------------------+-----------+\n",
            "\n"
          ]
        }
      ]
    },
    {
      "cell_type": "code",
      "source": [
        "# Average speed per VehicleType\n",
        "df.groupBy(\"VehicleType\").agg(avg(\"SpeedKMH\").alias(\"AvgSpeed\")).show()\n",
        "\n",
        "# Total toll collected per EntryPoint\n",
        "df.groupBy(\"EntryPoint\").agg(sum(\"TollPaid\").alias(\"TotalToll\")).show()\n",
        "\n",
        "# Most used ExitPoint\n",
        "df.groupBy(\"ExitPoint\").count().orderBy(desc(\"count\")).show(1)\n"
      ],
      "metadata": {
        "colab": {
          "base_uri": "https://localhost:8080/"
        },
        "id": "IYl1sXjNb8qC",
        "outputId": "47192784-f405-40cd-ff75-0864571cf0f1"
      },
      "execution_count": 4,
      "outputs": [
        {
          "output_type": "stream",
          "name": "stdout",
          "text": [
            "+-----------+--------+\n",
            "|VehicleType|AvgSpeed|\n",
            "+-----------+--------+\n",
            "|       Bike|    55.0|\n",
            "|        Car|    70.0|\n",
            "|      Truck|    45.0|\n",
            "|        Bus|    40.0|\n",
            "+-----------+--------+\n",
            "\n",
            "+----------+---------+\n",
            "|EntryPoint|TotalToll|\n",
            "+----------+---------+\n",
            "|     GateA|       80|\n",
            "|     GateB|      170|\n",
            "|     GateC|       50|\n",
            "+----------+---------+\n",
            "\n",
            "+---------+-----+\n",
            "|ExitPoint|count|\n",
            "+---------+-----+\n",
            "|    GateD|    2|\n",
            "+---------+-----+\n",
            "only showing top 1 row\n",
            "\n"
          ]
        }
      ]
    },
    {
      "cell_type": "code",
      "source": [
        "from pyspark.sql.window import Window\n",
        "\n",
        "# Rank vehicles by speed within VehicleType\n",
        "w1 = Window.partitionBy(\"VehicleType\").orderBy(desc(\"SpeedKMH\"))\n",
        "df = df.withColumn(\"SpeedRank\", rank().over(w1))\n",
        "\n",
        "# Last ExitTime for each vehicle\n",
        "w2 = Window.partitionBy(\"VehicleID\").orderBy(\"EntryTime\")\n",
        "df = df.withColumn(\"PrevExitTime\", lag(\"ExitTime\").over(w2))\n",
        "\n",
        "df.select(\"VehicleID\", \"SpeedKMH\", \"SpeedRank\", \"EntryTime\", \"ExitTime\", \"PrevExitTime\").show()\n"
      ],
      "metadata": {
        "colab": {
          "base_uri": "https://localhost:8080/"
        },
        "id": "S-eL0KPVfBGI",
        "outputId": "1c53f8de-e4bd-4783-b586-08eee17a6c9b"
      },
      "execution_count": 5,
      "outputs": [
        {
          "output_type": "stream",
          "name": "stdout",
          "text": [
            "+---------+--------+---------+-------------------+-------------------+------------+\n",
            "|VehicleID|SpeedKMH|SpeedRank|          EntryTime|           ExitTime|PrevExitTime|\n",
            "+---------+--------+---------+-------------------+-------------------+------------+\n",
            "|     V001|      60|        2|2024-05-01 08:01:00|2024-05-01 08:20:00|        NULL|\n",
            "|     V002|      45|        1|2024-05-01 08:10:00|2024-05-01 08:45:00|        NULL|\n",
            "|     V003|      55|        1|2024-05-01 09:00:00|2024-05-01 09:18:00|        NULL|\n",
            "|     V004|      80|        1|2024-05-01 09:15:00|2024-05-01 09:35:00|        NULL|\n",
            "|     V005|      40|        1|2024-05-01 10:05:00|2024-05-01 10:40:00|        NULL|\n",
            "+---------+--------+---------+-------------------+-------------------+------------+\n",
            "\n"
          ]
        }
      ]
    },
    {
      "cell_type": "code",
      "source": [
        "df = df.withColumn(\"IdleTime\", (unix_timestamp(\"EntryTime\") - unix_timestamp(\"PrevExitTime\"))/60)\n",
        "df.select(\"VehicleID\", \"EntryTime\", \"ExitTime\", \"IdleTime\").show()\n"
      ],
      "metadata": {
        "colab": {
          "base_uri": "https://localhost:8080/"
        },
        "id": "WeSW4HPWfGQ2",
        "outputId": "a3256844-3517-4c68-9b6b-54885dba6960"
      },
      "execution_count": 6,
      "outputs": [
        {
          "output_type": "stream",
          "name": "stdout",
          "text": [
            "+---------+-------------------+-------------------+--------+\n",
            "|VehicleID|          EntryTime|           ExitTime|IdleTime|\n",
            "+---------+-------------------+-------------------+--------+\n",
            "|     V001|2024-05-01 08:01:00|2024-05-01 08:20:00|    NULL|\n",
            "|     V002|2024-05-01 08:10:00|2024-05-01 08:45:00|    NULL|\n",
            "|     V003|2024-05-01 09:00:00|2024-05-01 09:18:00|    NULL|\n",
            "|     V004|2024-05-01 09:15:00|2024-05-01 09:35:00|    NULL|\n",
            "|     V005|2024-05-01 10:05:00|2024-05-01 10:40:00|    NULL|\n",
            "+---------+-------------------+-------------------+--------+\n",
            "\n"
          ]
        }
      ]
    },
    {
      "cell_type": "code",
      "source": [
        "# Speed > 70 and TripDuration < 10\n",
        "df.filter((col(\"SpeedKMH\") > 70) & (col(\"TripDurationMinutes\") < 10)).show()\n",
        "\n",
        "# Paid less toll for longer trips (Assume suspicious if > 30 min but toll < 50)\n",
        "df.filter((col(\"TripDurationMinutes\") > 30) & (col(\"TollPaid\") < 50)).show()\n",
        "\n",
        "# Suspicious backtracking (ExitPoint alphabetically earlier than EntryPoint)\n",
        "df.filter(col(\"ExitPoint\") < col(\"EntryPoint\")).show()\n"
      ],
      "metadata": {
        "colab": {
          "base_uri": "https://localhost:8080/"
        },
        "id": "5llK8LJhfJVF",
        "outputId": "dd57bf4e-4e3a-43e3-a0d6-87d1779155c6"
      },
      "execution_count": 7,
      "outputs": [
        {
          "output_type": "stream",
          "name": "stdout",
          "text": [
            "+-----+---------+----------+---------+---------+--------+-----------+--------+--------+-------------------+-----------+---------+------------+--------+\n",
            "|LogID|VehicleID|EntryPoint|ExitPoint|EntryTime|ExitTime|VehicleType|SpeedKMH|TollPaid|TripDurationMinutes|IsOverspeed|SpeedRank|PrevExitTime|IdleTime|\n",
            "+-----+---------+----------+---------+---------+--------+-----------+--------+--------+-------------------+-----------+---------+------------+--------+\n",
            "+-----+---------+----------+---------+---------+--------+-----------+--------+--------+-------------------+-----------+---------+------------+--------+\n",
            "\n",
            "+-----+---------+----------+---------+---------+--------+-----------+--------+--------+-------------------+-----------+---------+------------+--------+\n",
            "|LogID|VehicleID|EntryPoint|ExitPoint|EntryTime|ExitTime|VehicleType|SpeedKMH|TollPaid|TripDurationMinutes|IsOverspeed|SpeedRank|PrevExitTime|IdleTime|\n",
            "+-----+---------+----------+---------+---------+--------+-----------+--------+--------+-------------------+-----------+---------+------------+--------+\n",
            "+-----+---------+----------+---------+---------+--------+-----------+--------+--------+-------------------+-----------+---------+------------+--------+\n",
            "\n",
            "+-----+---------+----------+---------+-------------------+-------------------+-----------+--------+--------+-------------------+-----------+---------+------------+--------+\n",
            "|LogID|VehicleID|EntryPoint|ExitPoint|          EntryTime|           ExitTime|VehicleType|SpeedKMH|TollPaid|TripDurationMinutes|IsOverspeed|SpeedRank|PrevExitTime|IdleTime|\n",
            "+-----+---------+----------+---------+-------------------+-------------------+-----------+--------+--------+-------------------+-----------+---------+------------+--------+\n",
            "| L005|     V005|     GateB|    GateA|2024-05-01 10:05:00|2024-05-01 10:40:00|        Bus|      40|      70|               35.0|      false|        1|        NULL|    NULL|\n",
            "+-----+---------+----------+---------+-------------------+-------------------+-----------+--------+--------+-------------------+-----------+---------+------------+--------+\n",
            "\n"
          ]
        }
      ]
    },
    {
      "cell_type": "code",
      "source": [
        "# Prepare vehicle_registry.csv\n",
        "vehicle_registry_path = \"/content/drive/My Drive/vehicle_registry.csv\"\n",
        "\n",
        "registry_schema = StructType([\n",
        "    StructField(\"VehicleID\", StringType(), True),\n",
        "    StructField(\"OwnerName\", StringType(), True),\n",
        "    StructField(\"Model\", StringType(), True),\n",
        "    StructField(\"RegisteredCity\", StringType(), True),\n",
        "])\n",
        "\n",
        "df_registry = spark.read.csv(vehicle_registry_path, header=True, schema=registry_schema)\n",
        "\n",
        "# Join\n",
        "df_joined = df.join(df_registry, on=\"VehicleID\", how=\"left\")\n",
        "\n",
        "# Group trips by RegisteredCity\n",
        "df_joined.groupBy(\"RegisteredCity\").agg(count(\"*\").alias(\"TotalTrips\")).show()\n"
      ],
      "metadata": {
        "colab": {
          "base_uri": "https://localhost:8080/"
        },
        "id": "JUDAF6DRfOtG",
        "outputId": "b299dbd1-687f-4c37-b0d1-8a12b597ffdb"
      },
      "execution_count": 8,
      "outputs": [
        {
          "output_type": "stream",
          "name": "stdout",
          "text": [
            "+--------------+----------+\n",
            "|RegisteredCity|TotalTrips|\n",
            "+--------------+----------+\n",
            "|     Bangalore|         1|\n",
            "|       Chennai|         1|\n",
            "|        Mumbai|         1|\n",
            "|          Pune|         1|\n",
            "|         Delhi|         1|\n",
            "+--------------+----------+\n",
            "\n"
          ]
        }
      ]
    },
    {
      "cell_type": "code",
      "source": [
        "from pyspark.sql.functions import when\n",
        "\n",
        "# Simulated Save as Delta Table\n",
        "# (In real Delta Lake environment use format(\"delta\"))\n",
        "delta_simulated_path = \"/content/drive/My Drive/delta/traffic_logs_simulated\"\n",
        "df.write.mode(\"overwrite\").parquet(delta_simulated_path)  # Simulate Delta Table using Parquet\n",
        "print(\"Traffic logs saved as simulated Delta table (Parquet format).\")\n",
        "\n",
        "# Simulated MERGE INTO (Update TollPaid for Bikes)\n",
        "df_bike_updated = df.withColumn(\n",
        "    \"TollPaid\",\n",
        "    when(col(\"VehicleType\") == \"Bike\", 40).otherwise(col(\"TollPaid\"))\n",
        ")\n",
        "df_bike_updated.select(\"VehicleID\", \"VehicleType\", \"TollPaid\").show()\n",
        "\n",
        "# Simulated DELETE FROM Delta Table (Trips longer than 60 mins)\n",
        "df_filtered = df_bike_updated.filter(col(\"TripDurationMinutes\") <= 60)\n",
        "df_filtered.select(\"VehicleID\", \"TripDurationMinutes\").show()\n",
        "\n",
        "# Simulated VERSIONING by saving different versions manually\n",
        "version_1_path = \"/content/drive/My Drive/delta/traffic_logs_version_1\"\n",
        "version_2_path = \"/content/drive/My Drive/delta/traffic_logs_version_2\"\n",
        "\n",
        "# Version 1 - original\n",
        "df.write.mode(\"overwrite\").parquet(version_1_path)\n",
        "\n",
        "# Version 2 - after update + delete\n",
        "df_filtered.write.mode(\"overwrite\").parquet(version_2_path)\n",
        "\n",
        "# Simulated DESCRIBE HISTORY (Manually printing version info)\n",
        "from datetime import datetime\n",
        "\n",
        "print(\"\\nSimulated Delta History:\")\n",
        "print(f\"Version 1: {datetime.now().strftime('%Y-%m-%d %H:%M:%S')} - Original saved\")\n",
        "print(f\"Version 2: {datetime.now().strftime('%Y-%m-%d %H:%M:%S')} - After Bike toll update and trip filter\")\n"
      ],
      "metadata": {
        "colab": {
          "base_uri": "https://localhost:8080/"
        },
        "id": "5VvEZO30fUFg",
        "outputId": "0afbf1d7-57a6-4d83-dc10-5f13aa04b379"
      },
      "execution_count": 11,
      "outputs": [
        {
          "output_type": "stream",
          "name": "stdout",
          "text": [
            "Traffic logs saved as simulated Delta table (Parquet format).\n",
            "+---------+-----------+--------+\n",
            "|VehicleID|VehicleType|TollPaid|\n",
            "+---------+-----------+--------+\n",
            "|     V001|        Car|      50|\n",
            "|     V002|      Truck|     100|\n",
            "|     V003|       Bike|      40|\n",
            "|     V004|        Car|      50|\n",
            "|     V005|        Bus|      70|\n",
            "+---------+-----------+--------+\n",
            "\n",
            "+---------+-------------------+\n",
            "|VehicleID|TripDurationMinutes|\n",
            "+---------+-------------------+\n",
            "|     V001|               19.0|\n",
            "|     V002|               35.0|\n",
            "|     V003|               18.0|\n",
            "|     V004|               20.0|\n",
            "|     V005|               35.0|\n",
            "+---------+-------------------+\n",
            "\n",
            "\n",
            "Simulated Delta History:\n",
            "Version 1: 2025-06-19 04:41:46 - Original saved\n",
            "Version 2: 2025-06-19 04:41:46 - After Bike toll update and trip filter\n"
          ]
        }
      ]
    },
    {
      "cell_type": "code",
      "source": [
        "# Trip Type Tagging\n",
        "df = df.withColumn(\"TripType\", when(col(\"TripDurationMinutes\") < 15, \"Short\")\n",
        "                                  .when(col(\"TripDurationMinutes\") <= 30, \"Medium\")\n",
        "                                  .otherwise(\"Long\"))\n",
        "\n",
        "# Trips per day per vehicle\n",
        "df = df.withColumn(\"TripDate\", to_date(\"EntryTime\"))\n",
        "vehicle_trip_counts = df.groupBy(\"VehicleID\", \"TripDate\").agg(count(\"*\").alias(\"DailyTrips\"))\n",
        "\n",
        "# Flag vehicles with >3 trips/day\n",
        "vehicle_trip_counts.filter(col(\"DailyTrips\") > 3).show()\n"
      ],
      "metadata": {
        "colab": {
          "base_uri": "https://localhost:8080/"
        },
        "id": "zq4sUCBBfjjy",
        "outputId": "3689c61c-6582-4322-eb42-6aa41373e784"
      },
      "execution_count": 12,
      "outputs": [
        {
          "output_type": "stream",
          "name": "stdout",
          "text": [
            "+---------+--------+----------+\n",
            "|VehicleID|TripDate|DailyTrips|\n",
            "+---------+--------+----------+\n",
            "+---------+--------+----------+\n",
            "\n"
          ]
        }
      ]
    },
    {
      "cell_type": "code",
      "source": [
        "# Write as Parquet partitioned by VehicleType\n",
        "df.write.mode(\"overwrite\").partitionBy(\"VehicleType\").parquet(\"/content/drive/My Drive/output/traffic_parquet\")\n",
        "\n",
        "# Write as CSV for dashboards\n",
        "df.write.mode(\"overwrite\").option(\"header\", True).csv(\"/content/drive/My Drive/output/traffic_csv\")\n",
        "\n",
        "# Register temporary SQL View\n",
        "df.createOrReplaceTempView(\"traffic_view\")\n",
        "\n",
        "# SQL Summary View: Total toll by VehicleType + ExitPoint\n",
        "summary = spark.sql(\"\"\"\n",
        "    SELECT VehicleType, ExitPoint, SUM(TollPaid) AS TotalToll\n",
        "    FROM traffic_view\n",
        "    GROUP BY VehicleType, ExitPoint\n",
        "    ORDER BY VehicleType, TotalToll DESC\n",
        "\"\"\")\n",
        "summary.show()\n"
      ],
      "metadata": {
        "colab": {
          "base_uri": "https://localhost:8080/"
        },
        "id": "3qhTDfgEfp-s",
        "outputId": "e37e3e56-29f1-4086-ad97-370669aea6e8"
      },
      "execution_count": 13,
      "outputs": [
        {
          "output_type": "stream",
          "name": "stdout",
          "text": [
            "+-----------+---------+---------+\n",
            "|VehicleType|ExitPoint|TotalToll|\n",
            "+-----------+---------+---------+\n",
            "|       Bike|    GateD|       30|\n",
            "|        Bus|    GateA|       70|\n",
            "|        Car|    GateD|       50|\n",
            "|        Car|    GateC|       50|\n",
            "|      Truck|    GateC|      100|\n",
            "+-----------+---------+---------+\n",
            "\n"
          ]
        }
      ]
    }
  ]
}