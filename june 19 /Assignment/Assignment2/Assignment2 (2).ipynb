{
  "nbformat": 4,
  "nbformat_minor": 0,
  "metadata": {
    "colab": {
      "provenance": []
    },
    "kernelspec": {
      "name": "python3",
      "display_name": "Python 3"
    },
    "language_info": {
      "name": "python"
    }
  },
  "cells": [
    {
      "cell_type": "code",
      "execution_count": 1,
      "metadata": {
        "colab": {
          "base_uri": "https://localhost:8080/"
        },
        "id": "B1ta4wsyz5x0",
        "outputId": "0941d312-bcb9-4519-e7c2-44cc994e1673"
      },
      "outputs": [
        {
          "output_type": "stream",
          "name": "stdout",
          "text": [
            "Requirement already satisfied: pyspark==3.5.1 in /usr/local/lib/python3.11/dist-packages (3.5.1)\n",
            "Collecting delta-spark==3.1.0\n",
            "  Downloading delta_spark-3.1.0-py3-none-any.whl.metadata (1.9 kB)\n",
            "Requirement already satisfied: py4j==0.10.9.7 in /usr/local/lib/python3.11/dist-packages (from pyspark==3.5.1) (0.10.9.7)\n",
            "Requirement already satisfied: importlib-metadata>=1.0.0 in /usr/local/lib/python3.11/dist-packages (from delta-spark==3.1.0) (8.7.0)\n",
            "Requirement already satisfied: zipp>=3.20 in /usr/local/lib/python3.11/dist-packages (from importlib-metadata>=1.0.0->delta-spark==3.1.0) (3.23.0)\n",
            "Downloading delta_spark-3.1.0-py3-none-any.whl (21 kB)\n",
            "Installing collected packages: delta-spark\n",
            "Successfully installed delta-spark-3.1.0\n"
          ]
        }
      ],
      "source": [
        "!pip install pyspark==3.5.1 delta-spark==3.1.0"
      ]
    },
    {
      "cell_type": "code",
      "source": [
        "from pyspark.sql import SparkSession\n",
        "from pyspark.sql.functions import col, to_date, datediff, count, avg, when, lit, dense_rank, lead\n",
        "from pyspark.sql.window import Window\n",
        "from delta import *\n",
        "\n",
        "# Step 1: Start Spark Session with Delta support\n",
        "builder = SparkSession.builder \\\n",
        "    .appName(\"Course Analytics\") \\\n",
        "    .config(\"spark.sql.extensions\", \"io.delta.sql.DeltaSparkSessionExtension\") \\\n",
        "    .config(\"spark.sql.catalog.spark_catalog\", \"org.apache.spark.sql.delta.catalog.DeltaCatalog\")\n",
        "\n",
        "spark = configure_spark_with_delta_pip(builder).getOrCreate()"
      ],
      "metadata": {
        "id": "J_aGLKSD0MXI"
      },
      "execution_count": 2,
      "outputs": []
    },
    {
      "cell_type": "code",
      "source": [
        "# Step 2: Load CSV files\n",
        "enroll_path = \"/content/drive/My Drive/course_enrolments.csv\"\n",
        "catalog_path = \"/content/drive/My Drive/course_catalog.csv\"\n",
        "\n",
        "df = spark.read.option(\"header\", True).option(\"inferSchema\", True).csv(enroll_path)\n",
        "catalog = spark.read.option(\"header\", True).option(\"inferSchema\", True).csv(catalog_path)"
      ],
      "metadata": {
        "id": "lu24cN9K0Ubm"
      },
      "execution_count": 4,
      "outputs": []
    },
    {
      "cell_type": "code",
      "source": [
        "# Step 3: Date conversion and DaysToComplete\n",
        "df = df.withColumn(\"EnrollDate\", to_date(\"EnrollDate\")) \\\n",
        "       .withColumn(\"CompletionDate\", to_date(\"CompletionDate\")) \\\n",
        "       .withColumn(\"DaysToComplete\", datediff(\"CompletionDate\", \"EnrollDate\"))"
      ],
      "metadata": {
        "id": "qAFkjbZs0mqR"
      },
      "execution_count": 5,
      "outputs": []
    },
    {
      "cell_type": "code",
      "source": [
        "# Step 4: User Learning Path\n",
        "user_progress = df.withColumn(\"IsCompleted\", (col(\"ProgressPercent\") == 100)) \\\n",
        "    .groupBy(\"UserID\") \\\n",
        "    .agg(count(\"*\").alias(\"CoursesEnrolled\"),\n",
        "         avg(\"ProgressPercent\").alias(\"AvgProgress\"))\n",
        "user_progress.show()\n"
      ],
      "metadata": {
        "colab": {
          "base_uri": "https://localhost:8080/"
        },
        "id": "UFt5e8Yr0q2F",
        "outputId": "45f5a9c9-091c-4d52-872b-3683d6ee18b9"
      },
      "execution_count": 6,
      "outputs": [
        {
          "output_type": "stream",
          "name": "stdout",
          "text": [
            "+------+---------------+-----------+\n",
            "|UserID|CoursesEnrolled|AvgProgress|\n",
            "+------+---------------+-----------+\n",
            "|  U004|              1|      100.0|\n",
            "|  U002|              1|       45.0|\n",
            "|  U003|              1|      100.0|\n",
            "|  U001|              2|       65.0|\n",
            "+------+---------------+-----------+\n",
            "\n"
          ]
        }
      ]
    },
    {
      "cell_type": "code",
      "source": [
        "# Step 5: Engagement Score\n",
        "df = df.withColumn(\"Rating\", when(col(\"Rating\").isNull(), 0).otherwise(col(\"Rating\"))) \\\n",
        "       .withColumn(\"EngagementScore\", col(\"ProgressPercent\") * col(\"Rating\"))"
      ],
      "metadata": {
        "id": "3amcfB1D0vNr"
      },
      "execution_count": 7,
      "outputs": []
    },
    {
      "cell_type": "code",
      "source": [
        "# Step 6: Dropouts\n",
        "dropouts = df.filter((col(\"ProgressPercent\") < 50) & col(\"CompletionDate\").isNull())\n",
        "dropouts.createOrReplaceTempView(\"Dropouts\")"
      ],
      "metadata": {
        "id": "wI2jlhRz0yZz"
      },
      "execution_count": 8,
      "outputs": []
    },
    {
      "cell_type": "code",
      "source": [
        "# Step 7: Join with Catalog\n",
        "df_joined = df.join(catalog, \"CourseID\", \"left\")\n",
        "df_joined.groupBy(\"Instructor\").agg(avg(\"ProgressPercent\").alias(\"AvgProgress\")).show()\n",
        "\n",
        "most_enrolled = df.groupBy(\"CourseID\").count().orderBy(col(\"count\").desc()).limit(1)\n",
        "most_enrolled.join(catalog, \"CourseID\").show()"
      ],
      "metadata": {
        "colab": {
          "base_uri": "https://localhost:8080/"
        },
        "id": "XUsARvUX01ZP",
        "outputId": "07c75c61-390c-49d8-fb4d-b9c70378b1f1"
      },
      "execution_count": 10,
      "outputs": [
        {
          "output_type": "stream",
          "name": "stdout",
          "text": [
            "+-------------+-----------+\n",
            "|   Instructor|AvgProgress|\n",
            "+-------------+-----------+\n",
            "|  Zoya Sheikh|      100.0|\n",
            "|   Sana Gupta|       45.0|\n",
            "| Ibrahim Khan|       30.0|\n",
            "|Abdullah Khan|      100.0|\n",
            "+-------------+-----------+\n",
            "\n",
            "+--------+-----+-------------+-------------+--------+\n",
            "|CourseID|count|   Instructor|DurationHours|   Level|\n",
            "+--------+-----+-------------+-------------+--------+\n",
            "|    C001|    2|Abdullah Khan|            8|Beginner|\n",
            "+--------+-----+-------------+-------------+--------+\n",
            "\n"
          ]
        }
      ]
    },
    {
      "cell_type": "code",
      "source": [
        "# Step 8: Delta Save, Update, Delete\n",
        "delta_path = \"/content/drive/My Drive/enrollments_delta\"\n",
        "df.write.format(\"delta\").mode(\"overwrite\").save(delta_path)\n",
        "\n",
        "from delta.tables import DeltaTable\n",
        "delta_table = DeltaTable.forPath(spark, delta_path)\n",
        "\n",
        "# Update: All ratings to 5 for Python Basics\n",
        "delta_table.update(\n",
        "    condition=col(\"CourseName\") == \"Python Basics\",\n",
        "    set={\"Rating\": lit(5)}\n",
        ")\n",
        "\n",
        "# Delete: Where progress = 0\n",
        "delta_table.delete(condition=col(\"ProgressPercent\") == 0)\n",
        "\n",
        "# History\n",
        "delta_table.history().show(truncate=False)"
      ],
      "metadata": {
        "colab": {
          "base_uri": "https://localhost:8080/"
        },
        "id": "QTu2iQ3b04tY",
        "outputId": "ed8fc742-20ce-4e6f-9f67-3f8f34831fa8"
      },
      "execution_count": 12,
      "outputs": [
        {
          "output_type": "stream",
          "name": "stdout",
          "text": [
            "+-------+-------------------+------+--------+---------+----------------------------------------------------+----+--------+---------+-----------+--------------+-------------+------------------------------------------------------------------------------------------------------------------------------------------------------------------------------------------------------------------------------------------------------------------------------------------------------------------------------+------------+-----------------------------------+\n",
            "|version|timestamp          |userId|userName|operation|operationParameters                                 |job |notebook|clusterId|readVersion|isolationLevel|isBlindAppend|operationMetrics                                                                                                                                                                                                                                                                                                              |userMetadata|engineInfo                         |\n",
            "+-------+-------------------+------+--------+---------+----------------------------------------------------+----+--------+---------+-----------+--------------+-------------+------------------------------------------------------------------------------------------------------------------------------------------------------------------------------------------------------------------------------------------------------------------------------------------------------------------------------+------------+-----------------------------------+\n",
            "|2      |2025-06-19 06:16:18|NULL  |NULL    |UPDATE   |{predicate -> [\"(CourseName#2578 = Python Basics)\"]}|NULL|NULL    |NULL     |1          |Serializable  |false        |{numRemovedFiles -> 1, numRemovedBytes -> 3460, numCopiedRows -> 3, numDeletionVectorsAdded -> 0, numDeletionVectorsRemoved -> 0, numAddedChangeFiles -> 0, executionTimeMs -> 3356, numDeletionVectorsUpdated -> 0, scanTimeMs -> 2759, numAddedFiles -> 1, numUpdatedRows -> 2, numAddedBytes -> 3460, rewriteTimeMs -> 595}|NULL        |Apache-Spark/3.5.1 Delta-Lake/3.1.0|\n",
            "|1      |2025-06-19 06:16:09|NULL  |NULL    |WRITE    |{mode -> Overwrite, partitionBy -> []}              |NULL|NULL    |NULL     |0          |Serializable  |false        |{numFiles -> 1, numOutputRows -> 5, numOutputBytes -> 3460}                                                                                                                                                                                                                                                                   |NULL        |Apache-Spark/3.5.1 Delta-Lake/3.1.0|\n",
            "|0      |2025-06-19 06:15:47|NULL  |NULL    |WRITE    |{mode -> Overwrite, partitionBy -> []}              |NULL|NULL    |NULL     |NULL       |Serializable  |false        |{numFiles -> 1, numOutputRows -> 5, numOutputBytes -> 3460}                                                                                                                                                                                                                                                                   |NULL        |Apache-Spark/3.5.1 Delta-Lake/3.1.0|\n",
            "+-------+-------------------+------+--------+---------+----------------------------------------------------+----+--------+---------+-----------+--------------+-------------+------------------------------------------------------------------------------------------------------------------------------------------------------------------------------------------------------------------------------------------------------------------------------------------------------------------------------+------------+-----------------------------------+\n",
            "\n"
          ]
        }
      ]
    },
    {
      "cell_type": "code",
      "source": [
        "# Step 9: Window Functions\n",
        "rank_window = Window.orderBy(col(\"count\").desc())\n",
        "ranked = df.groupBy(\"CourseID\").count() \\\n",
        "    .withColumn(\"Rank\", dense_rank().over(rank_window))\n",
        "ranked.show()\n",
        "\n",
        "lead_window = Window.partitionBy(\"UserID\").orderBy(\"EnrollDate\")\n",
        "df = df.withColumn(\"NextCourse\", lead(\"CourseName\").over(lead_window))"
      ],
      "metadata": {
        "colab": {
          "base_uri": "https://localhost:8080/"
        },
        "id": "a1-RJEFS1DKs",
        "outputId": "eeac4454-f070-49a4-beb1-9fa5b36ad31a"
      },
      "execution_count": 13,
      "outputs": [
        {
          "output_type": "stream",
          "name": "stdout",
          "text": [
            "+--------+-----+----+\n",
            "|CourseID|count|Rank|\n",
            "+--------+-----+----+\n",
            "|    C001|    2|   1|\n",
            "|    C003|    1|   2|\n",
            "|    C004|    1|   2|\n",
            "|    C002|    1|   2|\n",
            "+--------+-----+----+\n",
            "\n"
          ]
        }
      ]
    },
    {
      "cell_type": "code",
      "source": [
        "# Step 10: SQL Views\n",
        "df.createOrReplaceTempView(\"enrollments\")\n",
        "\n",
        "spark.sql(\"\"\"\n",
        "    CREATE OR REPLACE TEMP VIEW daily_enrollments AS\n",
        "    SELECT EnrollDate, COUNT(*) AS Total FROM enrollments GROUP BY EnrollDate\n",
        "\"\"\")\n",
        "\n",
        "spark.sql(\"\"\"\n",
        "    CREATE OR REPLACE TEMP VIEW category_performance AS\n",
        "    SELECT Category, AVG(Rating) AS AvgRating FROM enrollments GROUP BY Category\n",
        "\"\"\")\n",
        "\n",
        "spark.sql(\"\"\"\n",
        "    CREATE OR REPLACE TEMP VIEW top_3_courses AS\n",
        "    SELECT CourseName, COUNT(*) AS Total FROM enrollments GROUP BY CourseName ORDER BY Total DESC LIMIT 3\n",
        "\"\"\")"
      ],
      "metadata": {
        "colab": {
          "base_uri": "https://localhost:8080/"
        },
        "id": "r6Cr4BZZ1SLG",
        "outputId": "1727afd5-c74e-47e1-df5e-c19eb490b719"
      },
      "execution_count": 14,
      "outputs": [
        {
          "output_type": "execute_result",
          "data": {
            "text/plain": [
              "DataFrame[]"
            ]
          },
          "metadata": {},
          "execution_count": 14
        }
      ]
    },
    {
      "cell_type": "code",
      "source": [
        "# Step 11: Time Travel\n",
        "version0 = spark.read.format(\"delta\").option(\"versionAsOf\", 0).load(delta_path)\n",
        "version0.show()"
      ],
      "metadata": {
        "colab": {
          "base_uri": "https://localhost:8080/"
        },
        "id": "KYLuGzbD1VfJ",
        "outputId": "6ca994bd-7166-43a4-bee9-28feb0db6c28"
      },
      "execution_count": 15,
      "outputs": [
        {
          "output_type": "stream",
          "name": "stdout",
          "text": [
            "+--------+------+--------+-----------------+------------+----------+--------------+---------------+------+--------------+---------------+\n",
            "|EnrollID|UserID|CourseID|       CourseName|    Category|EnrollDate|CompletionDate|ProgressPercent|Rating|DaysToComplete|EngagementScore|\n",
            "+--------+------+--------+-----------------+------------+----------+--------------+---------------+------+--------------+---------------+\n",
            "|    E001|  U001|    C001|    Python Basics| Programming|2024-04-01|    2024-04-10|            100|     4|             9|            400|\n",
            "|    E002|  U002|    C002|Excel for Finance|Productivity|2024-04-02|          NULL|             45|     0|          NULL|              0|\n",
            "|    E003|  U001|    C003|  ML with PySpark|Data Science|2024-04-03|          NULL|             30|     0|          NULL|              0|\n",
            "|    E004|  U003|    C001|    Python Basics| Programming|2024-04-04|    2024-04-20|            100|     5|            16|            500|\n",
            "|    E005|  U004|    C004|Digital Marketing|   Marketing|2024-04-05|    2024-04-16|            100|     4|            11|            400|\n",
            "+--------+------+--------+-----------------+------------+----------+--------------+---------------+------+--------------+---------------+\n",
            "\n"
          ]
        }
      ]
    },
    {
      "cell_type": "code",
      "source": [
        "# Step 12: Export to JSON partitioned by Category\n",
        "df.write.mode(\"overwrite\").partitionBy(\"Category\").json(\"/content/drive/My Drive/course_json_output\")"
      ],
      "metadata": {
        "id": "ptHwgWdW1Yw1"
      },
      "execution_count": 16,
      "outputs": []
    },
    {
      "cell_type": "code",
      "source": [
        "# Step 13: Summary and export as Parquet\n",
        "summary = df.groupBy(\"CourseName\").agg(\n",
        "    count(\"*\").alias(\"TotalEnrollments\"),\n",
        "    avg(\"Rating\").alias(\"AvgRating\"),\n",
        "    avg(\"ProgressPercent\").alias(\"AvgProgress\")\n",
        ")\n",
        "\n",
        "summary.write.mode(\"overwrite\").parquet(\"/content/drive/My Drive/course_summary_parquet\")\n"
      ],
      "metadata": {
        "id": "-z0C_FRs1cjG"
      },
      "execution_count": 17,
      "outputs": []
    }
  ]
}